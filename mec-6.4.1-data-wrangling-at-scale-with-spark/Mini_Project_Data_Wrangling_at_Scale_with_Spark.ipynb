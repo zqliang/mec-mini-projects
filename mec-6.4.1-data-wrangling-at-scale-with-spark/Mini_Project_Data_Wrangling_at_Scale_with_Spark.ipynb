{
 "cells": [
  {
   "cell_type": "markdown",
   "metadata": {
    "application/vnd.databricks.v1+cell": {
     "cellMetadata": {
      "byteLimit": 2048000,
      "rowLimit": 10000
     },
     "inputWidgets": {},
     "nuid": "1231e327-45a0-462d-8126-0302a7870cbf",
     "showTitle": false,
     "title": ""
    },
    "colab_type": "text",
    "id": "q0ap-hmpXu-s"
   },
   "source": [
    "# Analyzing Web Server Logs with Apache Spark\n",
    "\n",
    "Apache Spark is an excellent and ideal framework for wrangling, analyzing and modeling on structured and unstructured data - at scale! In this mini-project, we will be focusing on one of the most popular use-cases in the industry - log analytics.\n",
    "\n",
    "Typically, server logs are a very common data source in enterprises and often contain a gold mine of actionable insights and information. Log data comes from many sources in an enterprise, such as the web, client and compute servers, applications, user-generated content, flat files. They can be used for monitoring servers, improving business and customer intelligence, building recommendation systems, fraud detection, and much more.\n",
    "\n",
    "Spark allows you to dump and store your logs in files on disk cheaply, while still providing rich APIs to perform data analysis at scale. This mini-project will show you how to use Apache Spark on real-world production logs from NASA.\n",
    "You will complete the extract, transform, and load (ETL) process in this Apache Spark enviroment. During this process, you will learn why the ETL process is so crucial to the quality of the machine learning work we will be doing later on.\n",
    "\n",
    "\n",
    "There is a total of 15 questions for you to solve along with some interactive examples which will help you learn aspects of leveraging spark for analyzing over 3 million logs at scale.\n",
    "\n",
    "Remember to focus on the __`# TODO: Replace <FILL IN> with appropriate code`__ sections to fill them up with necessary code to solve the desired questions in the notebook"
   ]
  },
  {
   "cell_type": "markdown",
   "metadata": {
    "application/vnd.databricks.v1+cell": {
     "cellMetadata": {
      "byteLimit": 2048000,
      "rowLimit": 10000
     },
     "inputWidgets": {},
     "nuid": "e2d1842b-973c-467e-a85a-4fc082e60233",
     "showTitle": false,
     "title": ""
    },
    "colab_type": "text",
    "id": "6IkR5OAXYBVV"
   },
   "source": [
    "# Data extraction:"
   ]
  },
  {
   "cell_type": "markdown",
   "metadata": {
    "application/vnd.databricks.v1+cell": {
     "cellMetadata": {
      "byteLimit": 2048000,
      "rowLimit": 10000
     },
     "inputWidgets": {},
     "nuid": "55d8d510-5147-438e-978d-f513af1e9345",
     "showTitle": false,
     "title": ""
    },
    "colab_type": "text",
    "id": "W4XXOPlzXu-7"
   },
   "source": [
    "# Step 1 - Loading up Dependencies"
   ]
  },
  {
   "cell_type": "code",
   "execution_count": 0,
   "metadata": {
    "application/vnd.databricks.v1+cell": {
     "cellMetadata": {
      "byteLimit": 2048000,
      "rowLimit": 10000
     },
     "inputWidgets": {},
     "nuid": "88a76cc6-3d48-423e-9bae-38f5debc5aeb",
     "showTitle": false,
     "title": ""
    },
    "colab": {},
    "colab_type": "code",
    "id": "zYGRL15uXu--",
    "outputId": "34c065c7-f451-4543-dde3-5ddbbcada8c6"
   },
   "outputs": [
    {
     "output_type": "display_data",
     "data": {
      "text/html": [
       "\n",
       "            <div>\n",
       "                <p><b>SparkSession - hive</b></p>\n",
       "                \n",
       "        <div>\n",
       "            <p><b>SparkContext</b></p>\n",
       "\n",
       "            <p><a href=\"/?o=3398623258443981#setting/sparkui/1214-214720-xwpw3lc0/driver-6647511311963333536\">Spark UI</a></p>\n",
       "\n",
       "            <dl>\n",
       "              <dt>Version</dt>\n",
       "                <dd><code>v3.3.2</code></dd>\n",
       "              <dt>Master</dt>\n",
       "                <dd><code>local[8]</code></dd>\n",
       "              <dt>AppName</dt>\n",
       "                <dd><code>Databricks Shell</code></dd>\n",
       "            </dl>\n",
       "        </div>\n",
       "        \n",
       "            </div>\n",
       "        "
      ]
     },
     "metadata": {
      "application/vnd.databricks.v1+output": {
       "addedWidgets": {},
       "arguments": {},
       "data": "\n            <div>\n                <p><b>SparkSession - hive</b></p>\n                \n        <div>\n            <p><b>SparkContext</b></p>\n\n            <p><a href=\"/?o=3398623258443981#setting/sparkui/1214-214720-xwpw3lc0/driver-6647511311963333536\">Spark UI</a></p>\n\n            <dl>\n              <dt>Version</dt>\n                <dd><code>v3.3.2</code></dd>\n              <dt>Master</dt>\n                <dd><code>local[8]</code></dd>\n              <dt>AppName</dt>\n                <dd><code>Databricks Shell</code></dd>\n            </dl>\n        </div>\n        \n            </div>\n        ",
       "datasetInfos": [],
       "metadata": {},
       "removedWidgets": [],
       "textData": null,
       "type": "htmlSandbox"
      }
     },
     "output_type": "display_data"
    }
   ],
   "source": [
    "spark"
   ]
  },
  {
   "cell_type": "code",
   "execution_count": 0,
   "metadata": {
    "application/vnd.databricks.v1+cell": {
     "cellMetadata": {
      "byteLimit": 2048000,
      "rowLimit": 10000
     },
     "inputWidgets": {},
     "nuid": "e88e6697-1e54-43b1-85bf-ac50a6be9d8d",
     "showTitle": false,
     "title": ""
    },
    "colab": {},
    "colab_type": "code",
    "id": "TQ9VOjOGXu_N",
    "outputId": "8c2ee3dc-5d83-475e-c77a-3b83e98cff42"
   },
   "outputs": [
    {
     "output_type": "stream",
     "name": "stdout",
     "output_type": "stream",
     "text": [
      "Out[2]: <pyspark.sql.context.SQLContext at 0x7fbcf9953790>"
     ]
    }
   ],
   "source": [
    "sqlContext"
   ]
  },
  {
   "cell_type": "code",
   "execution_count": 0,
   "metadata": {
    "application/vnd.databricks.v1+cell": {
     "cellMetadata": {
      "byteLimit": 2048000,
      "rowLimit": 10000
     },
     "inputWidgets": {},
     "nuid": "1a2f0a4d-1886-4a04-8245-872768a523d6",
     "showTitle": false,
     "title": ""
    },
    "colab": {},
    "colab_type": "code",
    "id": "IM6ajIMVXu_V",
    "outputId": "d49062e6-607c-42bf-e2de-5019dee77ce0"
   },
   "outputs": [],
   "source": [
    "if 'sc' not in locals():\n",
    "    from pyspark.context import SparkContext\n",
    "    from pyspark.sql.context import SQLContext\n",
    "    from pyspark.sql.session import SparkSession\n",
    "    \n",
    "    sc = SparkContext()\n",
    "    sqlContext = SQLContext(sc)\n",
    "    spark = SparkSession(sc)"
   ]
  },
  {
   "cell_type": "code",
   "execution_count": 0,
   "metadata": {
    "application/vnd.databricks.v1+cell": {
     "cellMetadata": {
      "byteLimit": 2048000,
      "rowLimit": 10000
     },
     "inputWidgets": {},
     "nuid": "6a235d1e-6cf8-43dd-b8d1-bbdf90ec25b5",
     "showTitle": false,
     "title": ""
    },
    "colab": {},
    "colab_type": "code",
    "id": "r3E2N5WCXu_b",
    "outputId": "cb9f5a8a-06b5-407a-c634-a703b3e5b92b"
   },
   "outputs": [
    {
     "output_type": "display_data",
     "data": {
      "application/vnd.databricks.v1+bamboolib_hint": "{\"pd.DataFrames\": [], \"version\": \"0.0.1\"}",
      "text/plain": []
     },
     "metadata": {},
     "output_type": "display_data"
    }
   ],
   "source": [
    "import re\n",
    "import pandas as pd"
   ]
  },
  {
   "cell_type": "code",
   "execution_count": 0,
   "metadata": {
    "application/vnd.databricks.v1+cell": {
     "cellMetadata": {
      "byteLimit": 2048000,
      "rowLimit": 10000
     },
     "inputWidgets": {},
     "nuid": "ad79a3ab-11ee-423a-87d7-337e33c07137",
     "showTitle": false,
     "title": ""
    },
    "colab": {},
    "colab_type": "code",
    "id": "UupCPIruXu_i",
    "outputId": "ae83b30e-9b7e-458f-fd16-94d9d738e589"
   },
   "outputs": [
    {
     "output_type": "stream",
     "name": "stdout",
     "output_type": "stream",
     "text": [
      "<re.Match object; span=(0, 25), match=\"I'm searching for a spark\">\n<re.Match object; span=(25, 36), match=' in PySpark'>\n"
     ]
    }
   ],
   "source": [
    "m = re.finditer(r'.*?(spark).*?', \"I'm searching for a spark in PySpark\", re.I)\n",
    "for match in m:\n",
    "    print(match)"
   ]
  },
  {
   "cell_type": "markdown",
   "metadata": {
    "application/vnd.databricks.v1+cell": {
     "cellMetadata": {
      "byteLimit": 2048000,
      "rowLimit": 10000
     },
     "inputWidgets": {},
     "nuid": "5e0e813f-d22e-40be-bf24-7228d8d29528",
     "showTitle": false,
     "title": ""
    },
    "colab_type": "text",
    "id": "Pln9za4iXu_n"
   },
   "source": [
    "For this mini-project, we will analyze datasets from NASA Kennedy Space Center web server in Florida. The full data set is freely available for download [__here__](http://ita.ee.lbl.gov/html/contrib/NASA-HTTP.html).\n",
    "\n",
    "These two traces contain two month's worth of all HTTP requests to the NASA Kennedy Space Center WWW server in Florida. You can head over to the [__website__](http://ita.ee.lbl.gov/html/contrib/NASA-HTTP.html) and download the following files if needed OR just upload the files we have already provided for you into Domino's Cloud Platform (unless you plan to use Spark locally).\n",
    "\n",
    "- Jul 01 to Jul 31, ASCII format, 20.7 MB gzip compressed, 205.2 MB uncompressed: [ftp://ita.ee.lbl.gov/traces/NASA_access_log_Jul95.gz](ftp://ita.ee.lbl.gov/traces/NASA_access_log_Jul95.gz)\n",
    "- Aug 04 to Aug 31, ASCII format, 21.8 MB gzip compressed, 167.8 MB uncompressed: [ftp://ita.ee.lbl.gov/traces/NASA_access_log_Aug95.gz](ftp://ita.ee.lbl.gov/traces/NASA_access_log_Aug95.gz)\n",
    "\n",
    "Make sure both the data files have been uploaded to Databricks under **\"Data\" > \"DBFS\" > \"Tables\"** as a **.txt** file\n",
    "\n",
    "\n",
    "![DBFS](https://drive.google.com/uc?id=1eE9_CgnUW7psBs_Nlk9qrdD2dXh1sU9A)\n",
    "\n"
   ]
  },
  {
   "cell_type": "markdown",
   "metadata": {
    "application/vnd.databricks.v1+cell": {
     "cellMetadata": {
      "byteLimit": 2048000,
      "rowLimit": 10000
     },
     "inputWidgets": {},
     "nuid": "33ae44dc-30e8-4cb9-9bdf-bd5b3061c99f",
     "showTitle": false,
     "title": ""
    },
    "colab_type": "text",
    "id": "KESqVXmAXu_p"
   },
   "source": [
    "# Step 2 - Loading and Viewing the Log Dataset\n",
    "\n",
    "Given that our data is stored in the following mentioned path, let's load it into a DataFrame. We'll do this in steps. First, we'll use `sqlContext.read.text()` or `spark.read.text()` to read the text file. This will produce a DataFrame with a single string column called `value`."
   ]
  },
  {
   "cell_type": "markdown",
   "metadata": {
    "application/vnd.databricks.v1+cell": {
     "cellMetadata": {
      "byteLimit": 2048000,
      "rowLimit": 10000
     },
     "inputWidgets": {},
     "nuid": "ddefcb5e-5cd9-4323-b366-d4f4d3a94a98",
     "showTitle": false,
     "title": ""
    },
    "colab_type": "text",
    "id": "pis2_lWcXu_u"
   },
   "source": [
    "### Taking a look at the metadata of our dataframe"
   ]
  },
  {
   "cell_type": "code",
   "execution_count": 0,
   "metadata": {
    "application/vnd.databricks.v1+cell": {
     "cellMetadata": {
      "byteLimit": 2048000,
      "rowLimit": 10000
     },
     "inputWidgets": {},
     "nuid": "bfb3e17b-cfb6-45f2-8141-2d083bc33be5",
     "showTitle": false,
     "title": ""
    },
    "colab": {},
    "colab_type": "code",
    "id": "f4-znXsmXu_w",
    "outputId": "5c326d84-2124-47c4-c63f-e70665bfb820"
   },
   "outputs": [
    {
     "output_type": "stream",
     "name": "stdout",
     "output_type": "stream",
     "text": [
      "root\n |-- value: string (nullable = true)\n\n"
     ]
    }
   ],
   "source": [
    "# make sure you have upload NASA_access_log_Aug95.txt and NASA_access_log_Jul95.txt onto Spark before you run the following code\n",
    "\n",
    "base_df = spark.read.text('dbfs:/FileStore/tables/*.txt')\n",
    "base_df.printSchema()"
   ]
  },
  {
   "cell_type": "code",
   "execution_count": 0,
   "metadata": {
    "application/vnd.databricks.v1+cell": {
     "cellMetadata": {
      "byteLimit": 2048000,
      "rowLimit": 10000
     },
     "inputWidgets": {},
     "nuid": "e3a2dfae-479f-4ab0-9d00-75beb2a7ecdd",
     "showTitle": false,
     "title": ""
    },
    "colab": {},
    "colab_type": "code",
    "id": "IBHQ8QQkXu_0",
    "outputId": "14c57eda-586c-4a28-9e1c-df9364bf0ff8"
   },
   "outputs": [
    {
     "output_type": "stream",
     "name": "stdout",
     "output_type": "stream",
     "text": [
      "Out[7]: pyspark.sql.dataframe.DataFrame"
     ]
    }
   ],
   "source": [
    "type(base_df)"
   ]
  },
  {
   "cell_type": "markdown",
   "metadata": {
    "application/vnd.databricks.v1+cell": {
     "cellMetadata": {
      "byteLimit": 2048000,
      "rowLimit": 10000
     },
     "inputWidgets": {},
     "nuid": "ad3525d2-d256-4f98-ac40-2ed78377cf7d",
     "showTitle": false,
     "title": ""
    },
    "colab_type": "text",
    "id": "gOKkUBQvXu_5"
   },
   "source": [
    "You can also convert a dataframe to an RDD if needed"
   ]
  },
  {
   "cell_type": "code",
   "execution_count": 0,
   "metadata": {
    "application/vnd.databricks.v1+cell": {
     "cellMetadata": {
      "byteLimit": 2048000,
      "rowLimit": 10000
     },
     "inputWidgets": {},
     "nuid": "f41a3e0d-38f7-4ba5-8755-e89da079a939",
     "showTitle": false,
     "title": ""
    },
    "colab": {},
    "colab_type": "code",
    "id": "hMByB80sXu_6",
    "outputId": "29f8e5c6-aecf-4f81-d1e8-40a5ef92eb18"
   },
   "outputs": [
    {
     "output_type": "stream",
     "name": "stdout",
     "output_type": "stream",
     "text": [
      "Out[8]: pyspark.rdd.RDD"
     ]
    }
   ],
   "source": [
    "base_df_rdd = base_df.rdd\n",
    "type(base_df_rdd)"
   ]
  },
  {
   "cell_type": "markdown",
   "metadata": {
    "application/vnd.databricks.v1+cell": {
     "cellMetadata": {
      "byteLimit": 2048000,
      "rowLimit": 10000
     },
     "inputWidgets": {},
     "nuid": "02e9700e-31d8-4b96-97e3-48dd431e9b59",
     "showTitle": false,
     "title": ""
    },
    "colab_type": "text",
    "id": "oi1QtXBhXvAB"
   },
   "source": [
    "### Viewing sample data in our dataframe\n",
    "Looks like it needs to be wrangled and parsed!"
   ]
  },
  {
   "cell_type": "code",
   "execution_count": 0,
   "metadata": {
    "application/vnd.databricks.v1+cell": {
     "cellMetadata": {
      "byteLimit": 2048000,
      "rowLimit": 10000
     },
     "inputWidgets": {},
     "nuid": "0fb45e4d-c9e3-40e1-a894-cfc70582de46",
     "showTitle": false,
     "title": ""
    },
    "colab": {},
    "colab_type": "code",
    "id": "iertYldRXvAD",
    "outputId": "cf7a1843-1287-455e-a32c-e67a498a89c0"
   },
   "outputs": [
    {
     "output_type": "stream",
     "name": "stdout",
     "output_type": "stream",
     "text": [
      "+--------------------------------------------------------------------------------------------------------------------------+\n|value                                                                                                                     |\n+--------------------------------------------------------------------------------------------------------------------------+\n|in24.inetnebr.com - - [01/Aug/1995:00:00:01 -0400] \"GET /shuttle/missions/sts-68/news/sts-68-mcc-05.txt HTTP/1.0\" 200 1839|\n|uplherc.upl.com - - [01/Aug/1995:00:00:07 -0400] \"GET / HTTP/1.0\" 304 0                                                   |\n|uplherc.upl.com - - [01/Aug/1995:00:00:08 -0400] \"GET /images/ksclogo-medium.gif HTTP/1.0\" 304 0                          |\n|uplherc.upl.com - - [01/Aug/1995:00:00:08 -0400] \"GET /images/MOSAIC-logosmall.gif HTTP/1.0\" 304 0                        |\n|uplherc.upl.com - - [01/Aug/1995:00:00:08 -0400] \"GET /images/USA-logosmall.gif HTTP/1.0\" 304 0                           |\n|ix-esc-ca2-07.ix.netcom.com - - [01/Aug/1995:00:00:09 -0400] \"GET /images/launch-logo.gif HTTP/1.0\" 200 1713              |\n|uplherc.upl.com - - [01/Aug/1995:00:00:10 -0400] \"GET /images/WORLD-logosmall.gif HTTP/1.0\" 304 0                         |\n|slppp6.intermind.net - - [01/Aug/1995:00:00:10 -0400] \"GET /history/skylab/skylab.html HTTP/1.0\" 200 1687                 |\n|piweba4y.prodigy.com - - [01/Aug/1995:00:00:10 -0400] \"GET /images/launchmedium.gif HTTP/1.0\" 200 11853                   |\n|slppp6.intermind.net - - [01/Aug/1995:00:00:11 -0400] \"GET /history/skylab/skylab-small.gif HTTP/1.0\" 200 9202            |\n+--------------------------------------------------------------------------------------------------------------------------+\nonly showing top 10 rows\n\n"
     ]
    }
   ],
   "source": [
    "base_df.show(10, truncate=False)"
   ]
  },
  {
   "cell_type": "markdown",
   "metadata": {
    "application/vnd.databricks.v1+cell": {
     "cellMetadata": {
      "byteLimit": 2048000,
      "rowLimit": 10000
     },
     "inputWidgets": {},
     "nuid": "9e14d303-6e90-4fc6-a295-b56ebd8faa4f",
     "showTitle": false,
     "title": ""
    },
    "colab_type": "text",
    "id": "T9aeiekzXvAJ"
   },
   "source": [
    "Getting data from an RDD is slightly different. You can see how the data representation is different in the following RDD"
   ]
  },
  {
   "cell_type": "code",
   "execution_count": 0,
   "metadata": {
    "application/vnd.databricks.v1+cell": {
     "cellMetadata": {
      "byteLimit": 2048000,
      "rowLimit": 10000
     },
     "inputWidgets": {},
     "nuid": "b9fcd9a4-0530-4084-bddc-2eefe02e0bfb",
     "showTitle": false,
     "title": ""
    },
    "colab": {},
    "colab_type": "code",
    "id": "PCdKKlCeXvAK",
    "outputId": "58876be0-2960-4df1-cefa-75daa1462dbd"
   },
   "outputs": [
    {
     "output_type": "stream",
     "name": "stdout",
     "output_type": "stream",
     "text": [
      "Out[10]: [Row(value='in24.inetnebr.com - - [01/Aug/1995:00:00:01 -0400] \"GET /shuttle/missions/sts-68/news/sts-68-mcc-05.txt HTTP/1.0\" 200 1839'),\n Row(value='uplherc.upl.com - - [01/Aug/1995:00:00:07 -0400] \"GET / HTTP/1.0\" 304 0'),\n Row(value='uplherc.upl.com - - [01/Aug/1995:00:00:08 -0400] \"GET /images/ksclogo-medium.gif HTTP/1.0\" 304 0'),\n Row(value='uplherc.upl.com - - [01/Aug/1995:00:00:08 -0400] \"GET /images/MOSAIC-logosmall.gif HTTP/1.0\" 304 0'),\n Row(value='uplherc.upl.com - - [01/Aug/1995:00:00:08 -0400] \"GET /images/USA-logosmall.gif HTTP/1.0\" 304 0'),\n Row(value='ix-esc-ca2-07.ix.netcom.com - - [01/Aug/1995:00:00:09 -0400] \"GET /images/launch-logo.gif HTTP/1.0\" 200 1713'),\n Row(value='uplherc.upl.com - - [01/Aug/1995:00:00:10 -0400] \"GET /images/WORLD-logosmall.gif HTTP/1.0\" 304 0'),\n Row(value='slppp6.intermind.net - - [01/Aug/1995:00:00:10 -0400] \"GET /history/skylab/skylab.html HTTP/1.0\" 200 1687'),\n Row(value='piweba4y.prodigy.com - - [01/Aug/1995:00:00:10 -0400] \"GET /images/launchmedium.gif HTTP/1.0\" 200 11853'),\n Row(value='slppp6.intermind.net - - [01/Aug/1995:00:00:11 -0400] \"GET /history/skylab/skylab-small.gif HTTP/1.0\" 200 9202')]"
     ]
    }
   ],
   "source": [
    "base_df_rdd.take(10)"
   ]
  },
  {
   "cell_type": "markdown",
   "metadata": {
    "application/vnd.databricks.v1+cell": {
     "cellMetadata": {
      "byteLimit": 2048000,
      "rowLimit": 10000
     },
     "inputWidgets": {},
     "nuid": "9b4dcd5d-98ee-4576-b65e-117c4969b353",
     "showTitle": false,
     "title": ""
    },
    "colab_type": "text",
    "id": "asaanbGIYfR8"
   },
   "source": [
    "# Data transformation"
   ]
  },
  {
   "cell_type": "markdown",
   "metadata": {
    "application/vnd.databricks.v1+cell": {
     "cellMetadata": {
      "byteLimit": 2048000,
      "rowLimit": 10000
     },
     "inputWidgets": {},
     "nuid": "3b9fae56-fe33-4534-8e68-f2771ce04638",
     "showTitle": false,
     "title": ""
    },
    "colab_type": "text",
    "id": "yv5kCt3xXvAP"
   },
   "source": [
    "# Step 1 - Data Wrangling\n",
    "\n",
    "In this section, we will try and clean and parse our log dataset to really extract structured attributes with meaningful information from each log message.\n",
    "\n",
    "### Data understanding\n",
    "If you're familiar with web server logs, you'll recognize that the above displayed data is in [Common Log Format](https://www.w3.org/Daemon/User/Config/Logging.html#common-logfile-format). \n",
    "\n",
    "The fields are:\n",
    "__`remotehost rfc931 authuser [date] \"request\" status bytes`__\n",
    "\n",
    "\n",
    "| field         | meaning                                                                |\n",
    "| ------------- | ---------------------------------------------------------------------- |\n",
    "| _remotehost_  | Remote hostname (or IP number if DNS hostname is not available or if [DNSLookup](https://www.w3.org/Daemon/User/Config/General.html#DNSLookup) is off).       |\n",
    "| _rfc931_      | The remote logname of the user if at all it is present. |\n",
    "| _authuser_    | The username of the remote user after authentication by the HTTP server.  |\n",
    "| _[date]_      | Date and time of the request.                                      |\n",
    "| _\"request\"_   | The request, exactly as it came from the browser or client.            |\n",
    "| _status_      | The [HTTP status code](https://en.wikipedia.org/wiki/List_of_HTTP_status_codes) the server sent back to the client.               |\n",
    "| _bytes_       | The number of bytes (`Content-Length`) transferred to the client.      |\n",
    "\n",
    "We will need to use some specific techniques to parse, match and extract these attributes from the log data"
   ]
  },
  {
   "cell_type": "markdown",
   "metadata": {
    "application/vnd.databricks.v1+cell": {
     "cellMetadata": {
      "byteLimit": 2048000,
      "rowLimit": 10000
     },
     "inputWidgets": {},
     "nuid": "d68b276b-178a-43af-bba4-e5c7b63d34ee",
     "showTitle": false,
     "title": ""
    },
    "colab_type": "text",
    "id": "9aCEcwBLXvAQ"
   },
   "source": [
    "## Data Parsing and Extraction with Regular Expressions\n",
    "\n",
    "Next, we have to parse it into individual columns. We'll use the special built-in [regexp\\_extract()](http://spark.apache.org/docs/latest/api/python/pyspark.sql.html#pyspark.sql.functions.regexp_extract)\n",
    "function to do the parsing. This function matches a column against a regular expression with one or more [capture groups](http://regexone.com/lesson/capturing_groups) and allows you to extract one of the matched groups. We'll use one regular expression for each field we wish to extract.\n",
    "\n",
    "You must have heard or used a fair bit of regular expressions by now. If you find regular expressions confusing (and they certainly _can_ be), and you want to learn more about them, we recommend checking out the\n",
    "[RegexOne web site](http://regexone.com/). You might also find [_Regular Expressions Cookbook_](http://shop.oreilly.com/product/0636920023630.do), by Goyvaerts and Levithan, to be useful as a reference."
   ]
  },
  {
   "cell_type": "markdown",
   "metadata": {
    "application/vnd.databricks.v1+cell": {
     "cellMetadata": {
      "byteLimit": 2048000,
      "rowLimit": 10000
     },
     "inputWidgets": {},
     "nuid": "c6017d98-6490-4ae3-9696-873d5e8f964e",
     "showTitle": false,
     "title": ""
    },
    "colab_type": "text",
    "id": "a3TFNjb1XvAS"
   },
   "source": [
    "#### Let's take a look at our dataset dimensions"
   ]
  },
  {
   "cell_type": "code",
   "execution_count": 0,
   "metadata": {
    "application/vnd.databricks.v1+cell": {
     "cellMetadata": {
      "byteLimit": 2048000,
      "rowLimit": 10000
     },
     "inputWidgets": {},
     "nuid": "c17834b6-4d74-4254-a325-10c6878ef4eb",
     "showTitle": false,
     "title": ""
    },
    "colab": {},
    "colab_type": "code",
    "id": "ncbKGPMJXvAT",
    "outputId": "2d0a17f7-5bd7-444a-9a65-f547bf601f09"
   },
   "outputs": [
    {
     "output_type": "stream",
     "name": "stdout",
     "output_type": "stream",
     "text": [
      "(3461613, 1)\n"
     ]
    }
   ],
   "source": [
    "print((base_df.count(), len(base_df.columns)))"
   ]
  },
  {
   "cell_type": "markdown",
   "metadata": {
    "application/vnd.databricks.v1+cell": {
     "cellMetadata": {
      "byteLimit": 2048000,
      "rowLimit": 10000
     },
     "inputWidgets": {},
     "nuid": "2e322d93-3f2c-4677-8009-6a83eb1c1e4c",
     "showTitle": false,
     "title": ""
    },
    "colab_type": "text",
    "id": "dtZOfHsVXvAZ"
   },
   "source": [
    "Let's extract and take a look at some sample log messages"
   ]
  },
  {
   "cell_type": "code",
   "execution_count": 0,
   "metadata": {
    "application/vnd.databricks.v1+cell": {
     "cellMetadata": {
      "byteLimit": 2048000,
      "rowLimit": 10000
     },
     "inputWidgets": {},
     "nuid": "ef1bf6c7-48f4-43e8-b599-369f99986149",
     "showTitle": false,
     "title": ""
    },
    "colab": {},
    "colab_type": "code",
    "id": "-3sfUy4NXvAa",
    "outputId": "056e2311-d4be-4c1b-e507-a4c6f1868ace"
   },
   "outputs": [
    {
     "output_type": "stream",
     "name": "stdout",
     "output_type": "stream",
     "text": [
      "Out[12]: ['in24.inetnebr.com - - [01/Aug/1995:00:00:01 -0400] \"GET /shuttle/missions/sts-68/news/sts-68-mcc-05.txt HTTP/1.0\" 200 1839',\n 'uplherc.upl.com - - [01/Aug/1995:00:00:07 -0400] \"GET / HTTP/1.0\" 304 0',\n 'uplherc.upl.com - - [01/Aug/1995:00:00:08 -0400] \"GET /images/ksclogo-medium.gif HTTP/1.0\" 304 0',\n 'uplherc.upl.com - - [01/Aug/1995:00:00:08 -0400] \"GET /images/MOSAIC-logosmall.gif HTTP/1.0\" 304 0',\n 'uplherc.upl.com - - [01/Aug/1995:00:00:08 -0400] \"GET /images/USA-logosmall.gif HTTP/1.0\" 304 0',\n 'ix-esc-ca2-07.ix.netcom.com - - [01/Aug/1995:00:00:09 -0400] \"GET /images/launch-logo.gif HTTP/1.0\" 200 1713',\n 'uplherc.upl.com - - [01/Aug/1995:00:00:10 -0400] \"GET /images/WORLD-logosmall.gif HTTP/1.0\" 304 0',\n 'slppp6.intermind.net - - [01/Aug/1995:00:00:10 -0400] \"GET /history/skylab/skylab.html HTTP/1.0\" 200 1687',\n 'piweba4y.prodigy.com - - [01/Aug/1995:00:00:10 -0400] \"GET /images/launchmedium.gif HTTP/1.0\" 200 11853',\n 'slppp6.intermind.net - - [01/Aug/1995:00:00:11 -0400] \"GET /history/skylab/skylab-small.gif HTTP/1.0\" 200 9202',\n 'slppp6.intermind.net - - [01/Aug/1995:00:00:12 -0400] \"GET /images/ksclogosmall.gif HTTP/1.0\" 200 3635',\n 'ix-esc-ca2-07.ix.netcom.com - - [01/Aug/1995:00:00:12 -0400] \"GET /history/apollo/images/apollo-logo1.gif HTTP/1.0\" 200 1173',\n 'slppp6.intermind.net - - [01/Aug/1995:00:00:13 -0400] \"GET /history/apollo/images/apollo-logo.gif HTTP/1.0\" 200 3047',\n 'uplherc.upl.com - - [01/Aug/1995:00:00:14 -0400] \"GET /images/NASA-logosmall.gif HTTP/1.0\" 304 0',\n '133.43.96.45 - - [01/Aug/1995:00:00:16 -0400] \"GET /shuttle/missions/sts-69/mission-sts-69.html HTTP/1.0\" 200 10566']"
     ]
    }
   ],
   "source": [
    "sample_logs = [item['value'] for item in base_df.take(15)]\n",
    "sample_logs"
   ]
  },
  {
   "cell_type": "markdown",
   "metadata": {
    "application/vnd.databricks.v1+cell": {
     "cellMetadata": {
      "byteLimit": 2048000,
      "rowLimit": 10000
     },
     "inputWidgets": {},
     "nuid": "ef26876c-8394-4024-9d1b-56e9ba545b82",
     "showTitle": false,
     "title": ""
    },
    "colab_type": "text",
    "id": "0aPYBjkwXvAf"
   },
   "source": [
    "### Extracting host names\n",
    "\n",
    "Let's try and write some regular expressions to extract the host name from the logs"
   ]
  },
  {
   "cell_type": "code",
   "execution_count": 0,
   "metadata": {
    "application/vnd.databricks.v1+cell": {
     "cellMetadata": {
      "byteLimit": 2048000,
      "rowLimit": 10000
     },
     "inputWidgets": {},
     "nuid": "b1e8ef3a-a1c1-41e8-a0fd-d1dd3304f86b",
     "showTitle": false,
     "title": ""
    },
    "colab": {},
    "colab_type": "code",
    "id": "WarNo8bGXvAh",
    "outputId": "d8a548f2-335e-4ab4-8a9f-28f55060e540"
   },
   "outputs": [
    {
     "output_type": "stream",
     "name": "stdout",
     "output_type": "stream",
     "text": [
      "Out[13]: ['in24.inetnebr.com',\n 'uplherc.upl.com',\n 'uplherc.upl.com',\n 'uplherc.upl.com',\n 'uplherc.upl.com',\n 'ix-esc-ca2-07.ix.netcom.com',\n 'uplherc.upl.com',\n 'slppp6.intermind.net',\n 'piweba4y.prodigy.com',\n 'slppp6.intermind.net',\n 'slppp6.intermind.net',\n 'ix-esc-ca2-07.ix.netcom.com',\n 'slppp6.intermind.net',\n 'uplherc.upl.com',\n '133.43.96.45']"
     ]
    }
   ],
   "source": [
    "host_pattern = r'(^\\S+\\.[\\S+\\.]+\\S+)\\s'\n",
    "hosts = [re.search(host_pattern, item).group(1)\n",
    "           if re.search(host_pattern, item)\n",
    "           else 'no match'\n",
    "           for item in sample_logs]\n",
    "hosts"
   ]
  },
  {
   "cell_type": "markdown",
   "metadata": {
    "application/vnd.databricks.v1+cell": {
     "cellMetadata": {
      "byteLimit": 2048000,
      "rowLimit": 10000
     },
     "inputWidgets": {},
     "nuid": "3bb88999-e927-4f08-8030-1d9315faabb5",
     "showTitle": false,
     "title": ""
    },
    "colab_type": "text",
    "id": "TcZrGpgwXvAk"
   },
   "source": [
    "### Extracting timestamps \n",
    "\n",
    "Let's now try and use regular expressions to extract the timestamp fields from the logs"
   ]
  },
  {
   "cell_type": "code",
   "execution_count": 0,
   "metadata": {
    "application/vnd.databricks.v1+cell": {
     "cellMetadata": {
      "byteLimit": 2048000,
      "rowLimit": 10000
     },
     "inputWidgets": {},
     "nuid": "9db4b344-4665-412a-8d56-84f10243c206",
     "showTitle": false,
     "title": ""
    },
    "colab": {},
    "colab_type": "code",
    "id": "GOot8niKXvAl",
    "outputId": "6ad3338e-8ff0-48f1-c4d0-ad52742232b9"
   },
   "outputs": [
    {
     "output_type": "stream",
     "name": "stdout",
     "output_type": "stream",
     "text": [
      "Out[14]: ['01/Aug/1995:00:00:01 -0400',\n '01/Aug/1995:00:00:07 -0400',\n '01/Aug/1995:00:00:08 -0400',\n '01/Aug/1995:00:00:08 -0400',\n '01/Aug/1995:00:00:08 -0400',\n '01/Aug/1995:00:00:09 -0400',\n '01/Aug/1995:00:00:10 -0400',\n '01/Aug/1995:00:00:10 -0400',\n '01/Aug/1995:00:00:10 -0400',\n '01/Aug/1995:00:00:11 -0400',\n '01/Aug/1995:00:00:12 -0400',\n '01/Aug/1995:00:00:12 -0400',\n '01/Aug/1995:00:00:13 -0400',\n '01/Aug/1995:00:00:14 -0400',\n '01/Aug/1995:00:00:16 -0400']"
     ]
    }
   ],
   "source": [
    "ts_pattern = r'\\[(\\d{2}/\\w{3}/\\d{4}:\\d{2}:\\d{2}:\\d{2} -\\d{4})]'\n",
    "timestamps = [re.search(ts_pattern, item).group(1) for item in sample_logs]\n",
    "timestamps"
   ]
  },
  {
   "cell_type": "markdown",
   "metadata": {
    "application/vnd.databricks.v1+cell": {
     "cellMetadata": {
      "byteLimit": 2048000,
      "rowLimit": 10000
     },
     "inputWidgets": {},
     "nuid": "97825eee-caa3-4292-b137-3feca8bd69c7",
     "showTitle": false,
     "title": ""
    },
    "colab_type": "text",
    "id": "CKJ5F8tCXvAo"
   },
   "source": [
    "### Extracting HTTP Request Method, URIs and Protocol \n",
    "\n",
    "Let's now try and use regular expressions to extract the HTTP request methods, URIs and Protocol patterns fields from the logs"
   ]
  },
  {
   "cell_type": "code",
   "execution_count": 0,
   "metadata": {
    "application/vnd.databricks.v1+cell": {
     "cellMetadata": {
      "byteLimit": 2048000,
      "rowLimit": 10000
     },
     "inputWidgets": {},
     "nuid": "4a595777-e264-4bca-afc6-1a2f222dd7d6",
     "showTitle": false,
     "title": ""
    },
    "colab": {},
    "colab_type": "code",
    "id": "TZvnPVXeXvAp",
    "outputId": "f3cdd71d-0239-43a4-fd8f-245193f571c3"
   },
   "outputs": [
    {
     "output_type": "stream",
     "name": "stdout",
     "output_type": "stream",
     "text": [
      "Out[15]: [('GET', '/shuttle/missions/sts-68/news/sts-68-mcc-05.txt', 'HTTP/1.0'),\n ('GET', '/', 'HTTP/1.0'),\n ('GET', '/images/ksclogo-medium.gif', 'HTTP/1.0'),\n ('GET', '/images/MOSAIC-logosmall.gif', 'HTTP/1.0'),\n ('GET', '/images/USA-logosmall.gif', 'HTTP/1.0'),\n ('GET', '/images/launch-logo.gif', 'HTTP/1.0'),\n ('GET', '/images/WORLD-logosmall.gif', 'HTTP/1.0'),\n ('GET', '/history/skylab/skylab.html', 'HTTP/1.0'),\n ('GET', '/images/launchmedium.gif', 'HTTP/1.0'),\n ('GET', '/history/skylab/skylab-small.gif', 'HTTP/1.0'),\n ('GET', '/images/ksclogosmall.gif', 'HTTP/1.0'),\n ('GET', '/history/apollo/images/apollo-logo1.gif', 'HTTP/1.0'),\n ('GET', '/history/apollo/images/apollo-logo.gif', 'HTTP/1.0'),\n ('GET', '/images/NASA-logosmall.gif', 'HTTP/1.0'),\n ('GET', '/shuttle/missions/sts-69/mission-sts-69.html', 'HTTP/1.0')]"
     ]
    }
   ],
   "source": [
    "method_uri_protocol_pattern = r'\\\"(\\S+)\\s(\\S+)\\s*(\\S*)\\\"'\n",
    "method_uri_protocol = [re.search(method_uri_protocol_pattern, item).groups()\n",
    "               if re.search(method_uri_protocol_pattern, item)\n",
    "               else 'no match'\n",
    "              for item in sample_logs]\n",
    "method_uri_protocol"
   ]
  },
  {
   "cell_type": "markdown",
   "metadata": {
    "application/vnd.databricks.v1+cell": {
     "cellMetadata": {
      "byteLimit": 2048000,
      "rowLimit": 10000
     },
     "inputWidgets": {},
     "nuid": "d4795688-4093-4e0c-bd97-eec3b053cf3a",
     "showTitle": false,
     "title": ""
    },
    "colab_type": "text",
    "id": "oaBizluJXvAu"
   },
   "source": [
    "### Building an intermediate parsed dataframe\n",
    "\n",
    "Let's try and use our regular expressions we have implemented so far into parsing and extracting the relevant entities in separate columns in a new dataframe"
   ]
  },
  {
   "cell_type": "code",
   "execution_count": 0,
   "metadata": {
    "application/vnd.databricks.v1+cell": {
     "cellMetadata": {
      "byteLimit": 2048000,
      "rowLimit": 10000
     },
     "inputWidgets": {},
     "nuid": "231f58d2-2ba0-4d96-9cd4-b58dbf598fda",
     "showTitle": false,
     "title": ""
    },
    "colab": {},
    "colab_type": "code",
    "id": "MLI8LUVPXvAv",
    "outputId": "5c8becac-e3bb-4a61-cc8e-bba69c4169d6"
   },
   "outputs": [
    {
     "output_type": "stream",
     "name": "stdout",
     "output_type": "stream",
     "text": [
      "+---------------------------+--------------------------+------+-----------------------------------------------+--------+\n|host                       |timestamp                 |method|endpoint                                       |protocol|\n+---------------------------+--------------------------+------+-----------------------------------------------+--------+\n|in24.inetnebr.com          |01/Aug/1995:00:00:01 -0400|GET   |/shuttle/missions/sts-68/news/sts-68-mcc-05.txt|HTTP/1.0|\n|uplherc.upl.com            |01/Aug/1995:00:00:07 -0400|GET   |/                                              |HTTP/1.0|\n|uplherc.upl.com            |01/Aug/1995:00:00:08 -0400|GET   |/images/ksclogo-medium.gif                     |HTTP/1.0|\n|uplherc.upl.com            |01/Aug/1995:00:00:08 -0400|GET   |/images/MOSAIC-logosmall.gif                   |HTTP/1.0|\n|uplherc.upl.com            |01/Aug/1995:00:00:08 -0400|GET   |/images/USA-logosmall.gif                      |HTTP/1.0|\n|ix-esc-ca2-07.ix.netcom.com|01/Aug/1995:00:00:09 -0400|GET   |/images/launch-logo.gif                        |HTTP/1.0|\n|uplherc.upl.com            |01/Aug/1995:00:00:10 -0400|GET   |/images/WORLD-logosmall.gif                    |HTTP/1.0|\n|slppp6.intermind.net       |01/Aug/1995:00:00:10 -0400|GET   |/history/skylab/skylab.html                    |HTTP/1.0|\n|piweba4y.prodigy.com       |01/Aug/1995:00:00:10 -0400|GET   |/images/launchmedium.gif                       |HTTP/1.0|\n|slppp6.intermind.net       |01/Aug/1995:00:00:11 -0400|GET   |/history/skylab/skylab-small.gif               |HTTP/1.0|\n+---------------------------+--------------------------+------+-----------------------------------------------+--------+\nonly showing top 10 rows\n\n(3461613, 5)\n"
     ]
    }
   ],
   "source": [
    "from pyspark.sql.functions import regexp_extract\n",
    "\n",
    "logs_df = base_df.select(regexp_extract('value', host_pattern, 1).alias('host'),\n",
    "                         regexp_extract('value', ts_pattern, 1).alias('timestamp'),\n",
    "                         regexp_extract('value', method_uri_protocol_pattern, 1).alias('method'),\n",
    "                         regexp_extract('value', method_uri_protocol_pattern, 2).alias('endpoint'),\n",
    "                         regexp_extract('value', method_uri_protocol_pattern, 3).alias('protocol'))\n",
    "logs_df.show(10, truncate=False)\n",
    "print((logs_df.count(), len(logs_df.columns)))"
   ]
  },
  {
   "cell_type": "markdown",
   "metadata": {
    "application/vnd.databricks.v1+cell": {
     "cellMetadata": {
      "byteLimit": 2048000,
      "rowLimit": 10000
     },
     "inputWidgets": {},
     "nuid": "a97cb284-f4f9-4495-81e9-8749c13ca17d",
     "showTitle": false,
     "title": ""
    },
    "colab_type": "text",
    "id": "-c-LK4TNXvAy"
   },
   "source": [
    "### Extracting HTTP Status Codes\n",
    "\n",
    "Let's now try and use regular expressions to extract the HTTP status codes from the logs"
   ]
  },
  {
   "cell_type": "code",
   "execution_count": 0,
   "metadata": {
    "application/vnd.databricks.v1+cell": {
     "cellMetadata": {
      "byteLimit": 2048000,
      "rowLimit": 10000
     },
     "inputWidgets": {},
     "nuid": "6eaed9ce-dfb7-40c0-9ae4-b50f53cc1951",
     "showTitle": false,
     "title": ""
    },
    "colab": {},
    "colab_type": "code",
    "id": "kvWWXeTcXvA1",
    "outputId": "5ffeabc8-ecff-4365-af5f-0b905f913115"
   },
   "outputs": [
    {
     "output_type": "stream",
     "name": "stdout",
     "output_type": "stream",
     "text": [
      "['200', '304', '304', '304', '304', '200', '304', '200', '200', '200', '200', '200', '200', '304', '200']\n"
     ]
    }
   ],
   "source": [
    "status_pattern = r'\\s(\\d{3})\\s'\n",
    "status = [re.search(status_pattern, item).group(1) for item in sample_logs]\n",
    "print(status)"
   ]
  },
  {
   "cell_type": "markdown",
   "metadata": {
    "application/vnd.databricks.v1+cell": {
     "cellMetadata": {
      "byteLimit": 2048000,
      "rowLimit": 10000
     },
     "inputWidgets": {},
     "nuid": "b9af296f-681a-4fb8-9cfa-39da4bb37208",
     "showTitle": false,
     "title": ""
    },
    "colab_type": "text",
    "id": "jFemwBnSXvA4"
   },
   "source": [
    "### Extracting HTTP Response Content Size\n",
    "\n",
    "Let's now try and use regular expressions to extract the HTTP response content size from the logs"
   ]
  },
  {
   "cell_type": "code",
   "execution_count": 0,
   "metadata": {
    "application/vnd.databricks.v1+cell": {
     "cellMetadata": {
      "byteLimit": 2048000,
      "rowLimit": 10000
     },
     "inputWidgets": {},
     "nuid": "b6db62e2-ff73-4832-90aa-a97aa607b3ae",
     "showTitle": false,
     "title": ""
    },
    "colab": {},
    "colab_type": "code",
    "id": "l0kmQOqjXvA5",
    "outputId": "8b6c6d90-6897-4885-e527-0b815f4a977e"
   },
   "outputs": [
    {
     "output_type": "stream",
     "name": "stdout",
     "output_type": "stream",
     "text": [
      "['1839', '0', '0', '0', '0', '1713', '0', '1687', '11853', '9202', '3635', '1173', '3047', '0', '10566']\n"
     ]
    }
   ],
   "source": [
    "content_size_pattern = r'\\s(\\d+)$'\n",
    "content_size = [re.search(content_size_pattern, item).group(1) for item in sample_logs]\n",
    "print(content_size)"
   ]
  },
  {
   "cell_type": "markdown",
   "metadata": {
    "application/vnd.databricks.v1+cell": {
     "cellMetadata": {
      "byteLimit": 2048000,
      "rowLimit": 10000
     },
     "inputWidgets": {},
     "nuid": "c99c2b37-10eb-43d1-8bca-996493ce2012",
     "showTitle": false,
     "title": ""
    },
    "colab_type": "text",
    "id": "DHPbsgMsXvA8"
   },
   "source": [
    "## Q1: Your Turn: Putting it all together \n",
    "\n",
    "Let's now try and leverage all the regular expression patterns we previously built and use the `regexp_extract(...)` method to build our dataframe with all the log attributes neatly extracted in their own separate columns.\n",
    "\n",
    "- You can reuse the code we used previously to build the intermediate dataframe\n",
    "- Remember to cast the HTTP status code and content size as integers. \n",
    "- You can cast data as integer type using the following: __`regexp_extract('value', ...., ...).cast('integer').alias(...)`__"
   ]
  },
  {
   "cell_type": "code",
   "execution_count": 0,
   "metadata": {
    "application/vnd.databricks.v1+cell": {
     "cellMetadata": {
      "byteLimit": 2048000,
      "rowLimit": 10000
     },
     "inputWidgets": {},
     "nuid": "4627ca1b-f19b-4956-b833-60c0443645a9",
     "showTitle": false,
     "title": ""
    },
    "colab": {},
    "colab_type": "code",
    "id": "bM4iBWjRXvA-",
    "outputId": "b826a364-3709-4c6f-eb67-541e08c535ac"
   },
   "outputs": [
    {
     "output_type": "stream",
     "name": "stdout",
     "output_type": "stream",
     "text": [
      "+------+------------+--------------------+--------------------+------+--------------------+--------+\n|status|content_size|                host|           timestamp|method|            endpoint|protocol|\n+------+------------+--------------------+--------------------+------+--------------------+--------+\n|   200|        1839|   in24.inetnebr.com|01/Aug/1995:00:00...|   GET|/shuttle/missions...|HTTP/1.0|\n|   304|           0|     uplherc.upl.com|01/Aug/1995:00:00...|   GET|                   /|HTTP/1.0|\n|   304|           0|     uplherc.upl.com|01/Aug/1995:00:00...|   GET|/images/ksclogo-m...|HTTP/1.0|\n|   304|           0|     uplherc.upl.com|01/Aug/1995:00:00...|   GET|/images/MOSAIC-lo...|HTTP/1.0|\n|   304|           0|     uplherc.upl.com|01/Aug/1995:00:00...|   GET|/images/USA-logos...|HTTP/1.0|\n|   200|        1713|ix-esc-ca2-07.ix....|01/Aug/1995:00:00...|   GET|/images/launch-lo...|HTTP/1.0|\n|   304|           0|     uplherc.upl.com|01/Aug/1995:00:00...|   GET|/images/WORLD-log...|HTTP/1.0|\n|   200|        1687|slppp6.intermind.net|01/Aug/1995:00:00...|   GET|/history/skylab/s...|HTTP/1.0|\n|   200|       11853|piweba4y.prodigy.com|01/Aug/1995:00:00...|   GET|/images/launchmed...|HTTP/1.0|\n|   200|        9202|slppp6.intermind.net|01/Aug/1995:00:00...|   GET|/history/skylab/s...|HTTP/1.0|\n+------+------------+--------------------+--------------------+------+--------------------+--------+\nonly showing top 10 rows\n\n(3461613, 7)\n"
     ]
    }
   ],
   "source": [
    "# TODO: Replace <FILL IN> with appropriate code\n",
    "from pyspark.sql.functions import regexp_extract\n",
    "\n",
    "logs_df = base_df.select(regexp_extract('value', status_pattern, 1).cast('integer').alias('status'),\n",
    "                         regexp_extract('value', content_size_pattern, 1).cast('integer').alias('content_size'),\n",
    "                         regexp_extract('value', host_pattern, 1).alias('host'),\n",
    "                         regexp_extract('value', ts_pattern, 1).alias('timestamp'),\n",
    "                         regexp_extract('value', method_uri_protocol_pattern, 1).alias('method'),\n",
    "                         regexp_extract('value', method_uri_protocol_pattern, 2).alias('endpoint'),\n",
    "                         regexp_extract('value', method_uri_protocol_pattern, 3).alias('protocol'))\n",
    "\n",
    "logs_df.show(10, truncate=True)\n",
    "print((logs_df.count(), len(logs_df.columns)))"
   ]
  },
  {
   "cell_type": "markdown",
   "metadata": {
    "application/vnd.databricks.v1+cell": {
     "cellMetadata": {
      "byteLimit": 2048000,
      "rowLimit": 10000
     },
     "inputWidgets": {},
     "nuid": "7be58f6f-a371-43df-baca-c5be83488911",
     "showTitle": false,
     "title": ""
    },
    "colab_type": "text",
    "id": "EgLGxYRYXvBB"
   },
   "source": [
    "## Finding Missing Values\n",
    "\n",
    "Missing and null values are the bane of data analysis and machine learning. Let's see how well our data parsing and extraction logic worked. First, let's verify that there are no null rows in the original dataframe."
   ]
  },
  {
   "cell_type": "code",
   "execution_count": 0,
   "metadata": {
    "application/vnd.databricks.v1+cell": {
     "cellMetadata": {
      "byteLimit": 2048000,
      "rowLimit": 10000
     },
     "inputWidgets": {},
     "nuid": "70a56737-435e-4ec2-bb27-bdc5b8b9cd9a",
     "showTitle": false,
     "title": ""
    },
    "colab": {},
    "colab_type": "code",
    "id": "O4ppVUoJXvBC",
    "outputId": "18c683c1-5f0d-4f62-9545-e9bd27088c80"
   },
   "outputs": [
    {
     "output_type": "stream",
     "name": "stdout",
     "output_type": "stream",
     "text": [
      "Out[99]: 0"
     ]
    }
   ],
   "source": [
    "base_df.filter(base_df['value'].isNull()).count()"
   ]
  },
  {
   "cell_type": "markdown",
   "metadata": {
    "application/vnd.databricks.v1+cell": {
     "cellMetadata": {
      "byteLimit": 2048000,
      "rowLimit": 10000
     },
     "inputWidgets": {},
     "nuid": "f9b46759-98c4-463a-942c-4031d56d8cd6",
     "showTitle": false,
     "title": ""
    },
    "colab_type": "text",
    "id": "7V0g6vHcXvBG"
   },
   "source": [
    "If our data parsing and extraction worked properly, we should not have any rows with potential null values. Let's try and put that to test!"
   ]
  },
  {
   "cell_type": "code",
   "execution_count": 0,
   "metadata": {
    "application/vnd.databricks.v1+cell": {
     "cellMetadata": {
      "byteLimit": 2048000,
      "rowLimit": 10000
     },
     "inputWidgets": {},
     "nuid": "14d9e445-2169-45c3-b6e2-f113c73d77b2",
     "showTitle": false,
     "title": ""
    },
    "colab": {},
    "colab_type": "code",
    "id": "4NFuk6QTXvBH",
    "outputId": "a8238a74-51c8-48ac-fe83-b67f42d0a78c"
   },
   "outputs": [
    {
     "output_type": "stream",
     "name": "stdout",
     "output_type": "stream",
     "text": [
      "Out[100]: 33905"
     ]
    }
   ],
   "source": [
    "bad_rows_df = logs_df.filter(logs_df['host'].isNull()| \n",
    "                             logs_df['timestamp'].isNull() | \n",
    "                             logs_df['method'].isNull() |\n",
    "                             logs_df['endpoint'].isNull() |\n",
    "                             logs_df['status'].isNull() |\n",
    "                             logs_df['content_size'].isNull()|\n",
    "                             logs_df['protocol'].isNull())\n",
    "bad_rows_df.count()"
   ]
  },
  {
   "cell_type": "markdown",
   "metadata": {
    "application/vnd.databricks.v1+cell": {
     "cellMetadata": {
      "byteLimit": 2048000,
      "rowLimit": 10000
     },
     "inputWidgets": {},
     "nuid": "2e5061b0-01da-4904-a9fb-bd50ecf8d860",
     "showTitle": false,
     "title": ""
    },
    "colab_type": "text",
    "id": "CIqr5XvhXvBM"
   },
   "source": [
    "Ouch! Looks like we have over 30K missing values in our data! Can we handle this?"
   ]
  },
  {
   "cell_type": "markdown",
   "metadata": {
    "application/vnd.databricks.v1+cell": {
     "cellMetadata": {
      "byteLimit": 2048000,
      "rowLimit": 10000
     },
     "inputWidgets": {},
     "nuid": "c95430c4-40c1-44b4-8fd2-39701a511383",
     "showTitle": false,
     "title": ""
    },
    "colab_type": "text",
    "id": "g8iWYrBoXvBN"
   },
   "source": [
    "Do remember, this is not a regular pandas dataframe which you can directly query and get which columns have null. Our so-called _big dataset_ is residing on disk which can potentially be present in multiple nodes in a spark cluster. So how do we find out which columns have potential nulls? \n",
    "\n",
    "### Finding Null Counts\n",
    "\n",
    "We can typically use the following technique to find out which columns have null values. \n",
    "\n",
    "(__Note:__ This approach is adapted from an [excellent answer](http://stackoverflow.com/a/33901312) on StackOverflow.)"
   ]
  },
  {
   "cell_type": "code",
   "execution_count": 0,
   "metadata": {
    "application/vnd.databricks.v1+cell": {
     "cellMetadata": {
      "byteLimit": 2048000,
      "rowLimit": 10000
     },
     "inputWidgets": {},
     "nuid": "699608fa-d6a8-4767-8921-ca58368e6c4a",
     "showTitle": false,
     "title": ""
    },
    "colab": {},
    "colab_type": "code",
    "id": "h0TWdnaPXvBP",
    "outputId": "8a7abfda-2629-4f36-cb9c-3e00a13efa83"
   },
   "outputs": [
    {
     "output_type": "stream",
     "name": "stdout",
     "output_type": "stream",
     "text": [
      "Out[101]: ['status',\n 'content_size',\n 'host',\n 'timestamp',\n 'method',\n 'endpoint',\n 'protocol']"
     ]
    }
   ],
   "source": [
    "logs_df.columns"
   ]
  },
  {
   "cell_type": "code",
   "execution_count": 0,
   "metadata": {
    "application/vnd.databricks.v1+cell": {
     "cellMetadata": {
      "byteLimit": 2048000,
      "rowLimit": 10000
     },
     "inputWidgets": {},
     "nuid": "cf6d9886-8f5d-4fa3-bfc7-2cd293d5e821",
     "showTitle": false,
     "title": ""
    },
    "colab": {},
    "colab_type": "code",
    "id": "LtNLdagZXvBT",
    "outputId": "e9fba1ca-d183-4728-9f7c-135ebcd78ec9"
   },
   "outputs": [
    {
     "output_type": "stream",
     "name": "stdout",
     "output_type": "stream",
     "text": [
      "+------+------------+----+---------+------+--------+--------+\n|status|content_size|host|timestamp|method|endpoint|protocol|\n+------+------------+----+---------+------+--------+--------+\n|     1|       33905|   0|        0|     0|       0|       0|\n+------+------------+----+---------+------+--------+--------+\n\n"
     ]
    }
   ],
   "source": [
    "from pyspark.sql.functions import col\n",
    "from pyspark.sql.functions import sum as spark_sum\n",
    "\n",
    "def count_null(col_name):\n",
    "    return spark_sum(col(col_name).isNull().cast('integer')).alias(col_name)\n",
    "\n",
    "# Build up a list of column expressions, one per column.\n",
    "exprs = [count_null(col_name) for col_name in logs_df.columns]\n",
    "\n",
    "# Run the aggregation. The *exprs converts the list of expressions into\n",
    "# variable function arguments.\n",
    "logs_df.agg(*exprs).show()"
   ]
  },
  {
   "cell_type": "markdown",
   "metadata": {
    "application/vnd.databricks.v1+cell": {
     "cellMetadata": {
      "byteLimit": 2048000,
      "rowLimit": 10000
     },
     "inputWidgets": {},
     "nuid": "e3547d25-0648-4c1b-bd75-ea190aed1001",
     "showTitle": false,
     "title": ""
    },
    "colab_type": "text",
    "id": "g5z_B22MXvBX"
   },
   "source": [
    "Well, looks like we have one missing value in the `status` column and everything else is in the `content_size` column. \n",
    "Let's see if we can figure out what's wrong!"
   ]
  },
  {
   "cell_type": "markdown",
   "metadata": {
    "application/vnd.databricks.v1+cell": {
     "cellMetadata": {
      "byteLimit": 2048000,
      "rowLimit": 10000
     },
     "inputWidgets": {},
     "nuid": "ecf38f8c-b770-4f32-a1d9-58cf9b977520",
     "showTitle": false,
     "title": ""
    },
    "colab_type": "text",
    "id": "jGoLzGeEXvBZ"
   },
   "source": [
    "### Handling nulls in HTTP status\n",
    "\n",
    "If you had solved it correctly, our original parsing regular expression for the `status` column was:\n",
    "\n",
    "```\n",
    "regexp_extract('value', r'\\s(\\d{3})\\s', 1).cast('integer').alias('status')\n",
    "``` \n",
    "\n",
    "Could it be that there are more digits making our regular expression wrong? or is the data point itself bad? Let's try and find out!\n",
    "\n",
    "**Note**: In the expression below, `~` means \"not\"."
   ]
  },
  {
   "cell_type": "code",
   "execution_count": 0,
   "metadata": {
    "application/vnd.databricks.v1+cell": {
     "cellMetadata": {
      "byteLimit": 2048000,
      "rowLimit": 10000
     },
     "inputWidgets": {},
     "nuid": "cd24164c-76eb-4c88-97c4-a08fcf74bbdb",
     "showTitle": false,
     "title": ""
    },
    "colab": {},
    "colab_type": "code",
    "id": "tscbB01GXvBb",
    "outputId": "97996e0a-5e21-441f-b742-3e898e691c43"
   },
   "outputs": [
    {
     "output_type": "stream",
     "name": "stdout",
     "output_type": "stream",
     "text": [
      "Out[103]: 1"
     ]
    }
   ],
   "source": [
    "null_status_df = base_df.filter(~base_df['value'].rlike(r'\\s(\\d{3})\\s'))\n",
    "null_status_df.count()"
   ]
  },
  {
   "cell_type": "code",
   "execution_count": 0,
   "metadata": {
    "application/vnd.databricks.v1+cell": {
     "cellMetadata": {
      "byteLimit": 2048000,
      "rowLimit": 10000
     },
     "inputWidgets": {},
     "nuid": "04e3eb9e-2d68-4aab-ad26-9a444fe2f3c3",
     "showTitle": false,
     "title": ""
    },
    "colab": {},
    "colab_type": "code",
    "id": "KMRiPoTXXvBe",
    "outputId": "8bf8cf96-643f-42fd-c593-0dcadf950f74"
   },
   "outputs": [
    {
     "output_type": "stream",
     "name": "stdout",
     "output_type": "stream",
     "text": [
      "+--------+\n|value   |\n+--------+\n|alyssa.p|\n+--------+\n\n"
     ]
    }
   ],
   "source": [
    "null_status_df.show(truncate=False)"
   ]
  },
  {
   "cell_type": "code",
   "execution_count": 0,
   "metadata": {
    "application/vnd.databricks.v1+cell": {
     "cellMetadata": {
      "byteLimit": 2048000,
      "rowLimit": 10000
     },
     "inputWidgets": {},
     "nuid": "c8ab6fb4-f844-45b5-92ef-ca6eba5ba54d",
     "showTitle": false,
     "title": ""
    },
    "colab": {},
    "colab_type": "code",
    "id": "-ec9HtGwXvBh",
    "outputId": "9bc09049-3dff-4b65-8fec-5b7edf2cda39"
   },
   "outputs": [
    {
     "output_type": "stream",
     "name": "stdout",
     "output_type": "stream",
     "text": [
      "+----+---------+------+--------+--------+------+------------+\n|host|timestamp|method|endpoint|protocol|status|content_size|\n+----+---------+------+--------+--------+------+------------+\n|    |         |      |        |        |null  |null        |\n+----+---------+------+--------+--------+------+------------+\n\n"
     ]
    }
   ],
   "source": [
    "bad_status_df = null_status_df.select(regexp_extract('value', host_pattern, 1).alias('host'),\n",
    "                                      regexp_extract('value', ts_pattern, 1).alias('timestamp'),\n",
    "                                      regexp_extract('value', method_uri_protocol_pattern, 1).alias('method'),\n",
    "                                      regexp_extract('value', method_uri_protocol_pattern, 2).alias('endpoint'),\n",
    "                                      regexp_extract('value', method_uri_protocol_pattern, 3).alias('protocol'),\n",
    "                                      regexp_extract('value', status_pattern, 1).cast('integer').alias('status'),\n",
    "                                      regexp_extract('value', content_size_pattern, 1).cast('integer').alias('content_size'))\n",
    "bad_status_df.show(truncate=False)"
   ]
  },
  {
   "cell_type": "markdown",
   "metadata": {
    "application/vnd.databricks.v1+cell": {
     "cellMetadata": {
      "byteLimit": 2048000,
      "rowLimit": 10000
     },
     "inputWidgets": {},
     "nuid": "66cbb7e9-c27b-4f5b-bd10-2e373b833b34",
     "showTitle": false,
     "title": ""
    },
    "colab_type": "text",
    "id": "wS7tZXIUXvBk"
   },
   "source": [
    "Looks like the record itself is an incomplete record with no useful information, the best option would be to drop this record as follows!"
   ]
  },
  {
   "cell_type": "code",
   "execution_count": 0,
   "metadata": {
    "application/vnd.databricks.v1+cell": {
     "cellMetadata": {
      "byteLimit": 2048000,
      "rowLimit": 10000
     },
     "inputWidgets": {},
     "nuid": "3f6a0cb2-3289-4bb4-a438-263fef9973e2",
     "showTitle": false,
     "title": ""
    },
    "colab": {},
    "colab_type": "code",
    "id": "zb6wxLWuXvBl",
    "outputId": "b4f36a5a-9679-4830-91fc-80388aac54e2"
   },
   "outputs": [
    {
     "output_type": "stream",
     "name": "stdout",
     "output_type": "stream",
     "text": [
      "Out[106]: 3461613"
     ]
    }
   ],
   "source": [
    "logs_df.count()"
   ]
  },
  {
   "cell_type": "code",
   "execution_count": 0,
   "metadata": {
    "application/vnd.databricks.v1+cell": {
     "cellMetadata": {
      "byteLimit": 2048000,
      "rowLimit": 10000
     },
     "inputWidgets": {},
     "nuid": "78b5fe0d-27c7-48e7-a207-f863fba41614",
     "showTitle": false,
     "title": ""
    },
    "colab": {},
    "colab_type": "code",
    "id": "RQogALLJXvBo",
    "outputId": "41034dca-c862-48e7-9a3d-548738bebbff"
   },
   "outputs": [
    {
     "output_type": "stream",
     "name": "stdout",
     "output_type": "stream",
     "text": [
      "Out[107]: 3461612"
     ]
    }
   ],
   "source": [
    "logs_df = logs_df[logs_df['status'].isNotNull()]\n",
    "logs_df.count()"
   ]
  },
  {
   "cell_type": "code",
   "execution_count": 0,
   "metadata": {
    "application/vnd.databricks.v1+cell": {
     "cellMetadata": {
      "byteLimit": 2048000,
      "rowLimit": 10000
     },
     "inputWidgets": {},
     "nuid": "2bea96e2-1ea7-4b8c-ada0-ac0205d272b3",
     "showTitle": false,
     "title": ""
    },
    "colab": {},
    "colab_type": "code",
    "id": "_rHsvCeeXvBs",
    "outputId": "a58d88c2-94cc-4c58-bf1f-bf12abc0e822"
   },
   "outputs": [
    {
     "output_type": "stream",
     "name": "stdout",
     "output_type": "stream",
     "text": [
      "+------+------------+----+---------+------+--------+--------+\n|status|content_size|host|timestamp|method|endpoint|protocol|\n+------+------------+----+---------+------+--------+--------+\n|     0|       33904|   0|        0|     0|       0|       0|\n+------+------------+----+---------+------+--------+--------+\n\n"
     ]
    }
   ],
   "source": [
    "exprs = [count_null(col_name) for col_name in logs_df.columns]\n",
    "logs_df.agg(*exprs).show()"
   ]
  },
  {
   "cell_type": "markdown",
   "metadata": {
    "application/vnd.databricks.v1+cell": {
     "cellMetadata": {
      "byteLimit": 2048000,
      "rowLimit": 10000
     },
     "inputWidgets": {},
     "nuid": "0f45a689-93af-4012-ac34-f9afcd040330",
     "showTitle": false,
     "title": ""
    },
    "colab_type": "text",
    "id": "8k4-PjEFXvBv"
   },
   "source": [
    "### Handling nulls in HTTP content size\n",
    "\n",
    "Again based on our previous regular expression and assuming you were able to solve it correctly, our original parsing regular expression for the `content_size` column was:\n",
    "\n",
    "```\n",
    "regexp_extract('value', r'\\s(\\d+)$', 1).cast('integer').alias('content_size')\n",
    "``` \n",
    "\n",
    "Could there be missing data in our original dataset itself? Let's try and find out!"
   ]
  },
  {
   "cell_type": "markdown",
   "metadata": {
    "application/vnd.databricks.v1+cell": {
     "cellMetadata": {
      "byteLimit": 2048000,
      "rowLimit": 10000
     },
     "inputWidgets": {},
     "nuid": "49963b04-7e2a-492c-ba13-b8a6f0afdced",
     "showTitle": false,
     "title": ""
    },
    "colab_type": "text",
    "id": "MMjHfm1aXvBw"
   },
   "source": [
    "### Q2: Your Turn: Find out the records in our base data frame with potential missing content sizes\n",
    "\n",
    "- Use the `r'\\s\\d+$'` regex pattern with the `rlike()` function like we demonstrated in the previous example\n",
    "- Remember to work on `base_df` since we are searching on the raw records NOT the parsed `logs_df`\n",
    "- Find the total count of the records with missing content size in `base_df` using the `count()` function"
   ]
  },
  {
   "cell_type": "code",
   "execution_count": 0,
   "metadata": {
    "application/vnd.databricks.v1+cell": {
     "cellMetadata": {
      "byteLimit": 2048000,
      "rowLimit": 10000
     },
     "inputWidgets": {},
     "nuid": "3b05bbe4-74ee-48f0-8fb1-43a7cf46139e",
     "showTitle": false,
     "title": ""
    },
    "colab": {},
    "colab_type": "code",
    "id": "ki7G6daTXvBx",
    "outputId": "8a7230f3-f87b-4681-fcfc-b5d9503a441d"
   },
   "outputs": [
    {
     "output_type": "stream",
     "name": "stdout",
     "output_type": "stream",
     "text": [
      "Out[90]: 33905"
     ]
    }
   ],
   "source": [
    "# TODO: Replace <FILL IN> with appropriate code\n",
    "\n",
    "null_content_size_df = base_df.filter(~base_df['value'].rlike(r'\\s(\\d+)$'))\n",
    "null_content_size_df.count()"
   ]
  },
  {
   "cell_type": "markdown",
   "metadata": {
    "application/vnd.databricks.v1+cell": {
     "cellMetadata": {
      "byteLimit": 2048000,
      "rowLimit": 10000
     },
     "inputWidgets": {},
     "nuid": "579dce25-a46e-4ff7-a998-030ad871b390",
     "showTitle": false,
     "title": ""
    },
    "colab_type": "text",
    "id": "6te6fSfCXvB0"
   },
   "source": [
    "### Q3: Your Turn: Display the top ten records of your data frame having missing content sizes"
   ]
  },
  {
   "cell_type": "code",
   "execution_count": 0,
   "metadata": {
    "application/vnd.databricks.v1+cell": {
     "cellMetadata": {
      "byteLimit": 2048000,
      "rowLimit": 10000
     },
     "inputWidgets": {},
     "nuid": "24ffa23a-cd15-4a42-bdef-77c36c2b8ce7",
     "showTitle": false,
     "title": ""
    },
    "colab": {},
    "colab_type": "code",
    "id": "P1vwVWX4XvB1",
    "outputId": "c11b52c6-ed73-421f-8988-8eb6296c7e7a"
   },
   "outputs": [
    {
     "output_type": "stream",
     "name": "stdout",
     "output_type": "stream",
     "text": [
      "+---------------------------------------------------------------------------------------------------------------------------+\n|value                                                                                                                      |\n+---------------------------------------------------------------------------------------------------------------------------+\n|gw1.att.com - - [01/Aug/1995:00:03:53 -0400] \"GET /shuttle/missions/sts-73/news HTTP/1.0\" 302 -                            |\n|js002.cc.utsunomiya-u.ac.jp - - [01/Aug/1995:00:07:33 -0400] \"GET /shuttle/resources/orbiters/discovery.gif HTTP/1.0\" 404 -|\n|tia1.eskimo.com - - [01/Aug/1995:00:28:41 -0400] \"GET /pub/winvn/release.txt HTTP/1.0\" 404 -                               |\n|itws.info.eng.niigata-u.ac.jp - - [01/Aug/1995:00:38:01 -0400] \"GET /ksc.html/facts/about_ksc.html HTTP/1.0\" 403 -         |\n|grimnet23.idirect.com - - [01/Aug/1995:00:50:12 -0400] \"GET /www/software/winvn/winvn.html HTTP/1.0\" 404 -                 |\n|miriworld.its.unimelb.edu.au - - [01/Aug/1995:01:04:54 -0400] \"GET /history/history.htm HTTP/1.0\" 404 -                    |\n|ras38.srv.net - - [01/Aug/1995:01:05:14 -0400] \"GET /elv/DELTA/uncons.htm HTTP/1.0\" 404 -                                  |\n|cs1-06.leh.ptd.net - - [01/Aug/1995:01:17:38 -0400] \"GET /sts-71/launch/\" 404 -                                            |\n|www-b2.proxy.aol.com - - [01/Aug/1995:01:22:07 -0400] \"GET /shuttle/countdown HTTP/1.0\" 302 -                              |\n|maui56.maui.net - - [01/Aug/1995:01:31:56 -0400] \"GET /shuttle HTTP/1.0\" 302 -                                             |\n+---------------------------------------------------------------------------------------------------------------------------+\nonly showing top 10 rows\n\n"
     ]
    }
   ],
   "source": [
    "# TODO: Replace <FILL IN> with appropriate code\n",
    "\n",
    "null_content_size_df.show(10, truncate=False)"
   ]
  },
  {
   "cell_type": "markdown",
   "metadata": {
    "application/vnd.databricks.v1+cell": {
     "cellMetadata": {
      "byteLimit": 2048000,
      "rowLimit": 10000
     },
     "inputWidgets": {},
     "nuid": "0fd47c55-3be3-4bcb-ae1a-4d038745bfa3",
     "showTitle": false,
     "title": ""
    },
    "colab_type": "text",
    "id": "Rl3J6c5sXvB8"
   },
   "source": [
    "Assuming you were able to get to the missing records above, it is quite evident that the bad raw data records correspond to error responses, where no content was sent back and the server emitted a \"`-`\" for the `content_size` field. \n",
    "\n",
    "Since we don't want to discard those rows from our analysis, let's impute or fill them to 0."
   ]
  },
  {
   "cell_type": "markdown",
   "metadata": {
    "application/vnd.databricks.v1+cell": {
     "cellMetadata": {
      "byteLimit": 2048000,
      "rowLimit": 10000
     },
     "inputWidgets": {},
     "nuid": "dc03ef25-663f-4ed4-9caa-3844dde5c79f",
     "showTitle": false,
     "title": ""
    },
    "colab_type": "text",
    "id": "2y3iD47fXvCB"
   },
   "source": [
    "### Q4: Your Turn: Fix the rows with null content\\_size\n",
    "\n",
    "The easiest solution is to replace the null values in `logs_df` with 0 like we discussed earlier. The Spark DataFrame API provides a set of functions and fields specifically designed for working with null values, among them:\n",
    "\n",
    "* [fillna()](http://spark.apache.org/docs/latest/api/python/pyspark.sql.html#pyspark.sql.DataFrame.fillna), which fills null values with specified non-null values.\n",
    "* [na](http://spark.apache.org/docs/latest/api/python/pyspark.sql.html#pyspark.sql.DataFrame.na), which returns a [DataFrameNaFunctions](http://spark.apache.org/docs/latest/api/python/pyspark.sql.html#pyspark.sql.DataFrameNaFunctions) object with many functions for operating on null columns.\n",
    "\n",
    "There are several ways to invoke this function. The easiest is just to replace _all_ null columns with known values. But, for safety, it's better to pass a Python dictionary containing (column\\_name, value) mappings. That's what we'll do. A sample example from the documentation is depicted below\n",
    "\n",
    "```\n",
    ">>> df4.na.fill({'age': 50, 'name': 'unknown'}).show()\n",
    "+---+------+-------+\n",
    "|age|height|   name|\n",
    "+---+------+-------+\n",
    "| 10|    80|  Alice|\n",
    "|  5|  null|    Bob|\n",
    "| 50|  null|    Tom|\n",
    "| 50|  null|unknown|\n",
    "+---+------+-------+\n",
    "```\n",
    "\n",
    "Now use this function and fill all the missing values in the `content_size` field with 0!"
   ]
  },
  {
   "cell_type": "code",
   "execution_count": 0,
   "metadata": {
    "application/vnd.databricks.v1+cell": {
     "cellMetadata": {
      "byteLimit": 2048000,
      "rowLimit": 10000
     },
     "inputWidgets": {},
     "nuid": "e9e8c949-40f2-4e8f-aafa-401ecaf092ba",
     "showTitle": false,
     "title": ""
    },
    "colab": {},
    "colab_type": "code",
    "collapsed": true,
    "id": "_2w5KTE0XvCC",
    "outputId": "df4d371c-1376-4616-e2c7-9e35ddccf80e"
   },
   "outputs": [],
   "source": [
    "# TODO: Replace <FILL IN> with appropriate code\n",
    "\n",
    "logs_df = logs_df.na.fill({'content_size': 0})"
   ]
  },
  {
   "cell_type": "markdown",
   "metadata": {
    "application/vnd.databricks.v1+cell": {
     "cellMetadata": {
      "byteLimit": 2048000,
      "rowLimit": 10000
     },
     "inputWidgets": {},
     "nuid": "bd919ed7-0f12-4159-bc36-4f08d33e769b",
     "showTitle": false,
     "title": ""
    },
    "colab_type": "text",
    "id": "zdjkzs6UXvCJ"
   },
   "source": [
    "Now assuming you were able to fill in the missing values successfully in the previous question, we should have no missing values \\ nulls in our dataset. Let's verify this!"
   ]
  },
  {
   "cell_type": "code",
   "execution_count": 0,
   "metadata": {
    "application/vnd.databricks.v1+cell": {
     "cellMetadata": {
      "byteLimit": 2048000,
      "rowLimit": 10000
     },
     "inputWidgets": {},
     "nuid": "0630a2ea-bf82-46c2-8e90-3b8ab23effb4",
     "showTitle": false,
     "title": ""
    },
    "colab": {},
    "colab_type": "code",
    "id": "wDaLqVZOXvCK",
    "outputId": "a3097bef-1d37-4213-a6e8-a52b08c27947"
   },
   "outputs": [
    {
     "output_type": "stream",
     "name": "stdout",
     "output_type": "stream",
     "text": [
      "+------+------------+----+---------+------+--------+--------+\n|status|content_size|host|timestamp|method|endpoint|protocol|\n+------+------------+----+---------+------+--------+--------+\n|     0|           0|   0|        0|     0|       0|       0|\n+------+------------+----+---------+------+--------+--------+\n\n"
     ]
    }
   ],
   "source": [
    "exprs = [count_null(col_name) for col_name in logs_df.columns]\n",
    "logs_df.agg(*exprs).show()"
   ]
  },
  {
   "cell_type": "markdown",
   "metadata": {
    "application/vnd.databricks.v1+cell": {
     "cellMetadata": {
      "byteLimit": 2048000,
      "rowLimit": 10000
     },
     "inputWidgets": {},
     "nuid": "899ad718-4b86-41f6-96c5-7e8050c62398",
     "showTitle": false,
     "title": ""
    },
    "colab_type": "text",
    "id": "Bjr1f1m2XvCN"
   },
   "source": [
    "Look at that, no missing values!"
   ]
  },
  {
   "cell_type": "markdown",
   "metadata": {
    "application/vnd.databricks.v1+cell": {
     "cellMetadata": {
      "byteLimit": 2048000,
      "rowLimit": 10000
     },
     "inputWidgets": {},
     "nuid": "bbb4919c-ffaa-4404-94bf-372c9d559811",
     "showTitle": false,
     "title": ""
    },
    "colab_type": "text",
    "id": "UFtYMGZhXvCN"
   },
   "source": [
    "## Handling Temporal Fields (Timestamp)\n",
    "\n",
    "Now that we have a clean, parsed DataFrame, we have to parse the timestamp field into an actual timestamp. The Common Log Format time is somewhat non-standard. A User-Defined Function (UDF) is the most straightforward way to parse it."
   ]
  },
  {
   "cell_type": "code",
   "execution_count": 0,
   "metadata": {
    "application/vnd.databricks.v1+cell": {
     "cellMetadata": {
      "byteLimit": 2048000,
      "rowLimit": 10000
     },
     "inputWidgets": {},
     "nuid": "dd86997e-db18-4bd2-aabe-944724863213",
     "showTitle": false,
     "title": ""
    },
    "colab": {},
    "colab_type": "code",
    "id": "k5t5VysnXvCS",
    "outputId": "bebe2bb0-65ec-4d43-dbc9-24cda3c32de0"
   },
   "outputs": [],
   "source": [
    "from pyspark.sql.functions import udf\n",
    "\n",
    "month_map = {\n",
    "  'Jan': 1, 'Feb': 2, 'Mar':3, 'Apr':4, 'May':5, 'Jun':6, 'Jul':7,\n",
    "  'Aug':8,  'Sep': 9, 'Oct':10, 'Nov': 11, 'Dec': 12\n",
    "}\n",
    "\n",
    "def parse_clf_time(text):\n",
    "    \"\"\" Convert Common Log time format into a Python datetime object\n",
    "    Args:\n",
    "        text (str): date and time in Apache time format [dd/mmm/yyyy:hh:mm:ss (+/-)zzzz]\n",
    "    Returns:\n",
    "        a string suitable for passing to CAST('timestamp')\n",
    "    \"\"\"\n",
    "    # NOTE: We're ignoring time zone here. In a production application, you'd want to handle that.\n",
    "    return \"{0:04d}-{1:02d}-{2:02d} {3:02d}:{4:02d}:{5:02d}\".format(\n",
    "      int(text[7:11]),\n",
    "      month_map[text[3:6]],\n",
    "      int(text[0:2]),\n",
    "      int(text[12:14]),\n",
    "      int(text[15:17]),\n",
    "      int(text[18:20])\n",
    "    )"
   ]
  },
  {
   "cell_type": "code",
   "execution_count": 0,
   "metadata": {
    "application/vnd.databricks.v1+cell": {
     "cellMetadata": {
      "byteLimit": 2048000,
      "rowLimit": 10000
     },
     "inputWidgets": {},
     "nuid": "c491995c-b336-4d82-a94d-ee674f1c9065",
     "showTitle": false,
     "title": ""
    },
    "colab": {},
    "colab_type": "code",
    "id": "RLJHPXHwXvCW",
    "outputId": "2e58d673-3c1b-45fa-f283-886c698cfc6d"
   },
   "outputs": [
    {
     "output_type": "stream",
     "name": "stdout",
     "output_type": "stream",
     "text": [
      "Out[113]: ['01/Aug/1995:00:00:01 -0400',\n '01/Aug/1995:00:00:07 -0400',\n '01/Aug/1995:00:00:08 -0400',\n '01/Aug/1995:00:00:08 -0400',\n '01/Aug/1995:00:00:08 -0400']"
     ]
    }
   ],
   "source": [
    "sample_ts = [item['timestamp'] for item in logs_df.select('timestamp').take(5)]\n",
    "sample_ts"
   ]
  },
  {
   "cell_type": "code",
   "execution_count": 0,
   "metadata": {
    "application/vnd.databricks.v1+cell": {
     "cellMetadata": {
      "byteLimit": 2048000,
      "rowLimit": 10000
     },
     "inputWidgets": {},
     "nuid": "f3a7287f-64f3-47a4-9fd9-06e07b5acd5e",
     "showTitle": false,
     "title": ""
    },
    "colab": {},
    "colab_type": "code",
    "id": "0K5Yd1Z2XvCY",
    "outputId": "6108f5bb-bbd8-4c11-f9e4-efc491c543e0"
   },
   "outputs": [
    {
     "output_type": "stream",
     "name": "stdout",
     "output_type": "stream",
     "text": [
      "Out[114]: ['1995-08-01 00:00:01',\n '1995-08-01 00:00:07',\n '1995-08-01 00:00:08',\n '1995-08-01 00:00:08',\n '1995-08-01 00:00:08']"
     ]
    }
   ],
   "source": [
    "[parse_clf_time(item) for item in sample_ts]"
   ]
  },
  {
   "cell_type": "code",
   "execution_count": 0,
   "metadata": {
    "application/vnd.databricks.v1+cell": {
     "cellMetadata": {
      "byteLimit": 2048000,
      "rowLimit": 10000
     },
     "inputWidgets": {},
     "nuid": "5d43a78d-7c81-40a1-8ef7-eccdc5e0fd78",
     "showTitle": false,
     "title": ""
    },
    "colab": {},
    "colab_type": "code",
    "id": "WBbQ_QNsXvCb",
    "outputId": "b1e05731-4bff-410d-8c6f-d1637fd0f0a7"
   },
   "outputs": [
    {
     "output_type": "stream",
     "name": "stdout",
     "output_type": "stream",
     "text": [
      "+------+------------+--------------------+------+--------------------+--------+-------------------+\n|status|content_size|                host|method|            endpoint|protocol|               time|\n+------+------------+--------------------+------+--------------------+--------+-------------------+\n|   200|        1839|   in24.inetnebr.com|   GET|/shuttle/missions...|HTTP/1.0|1995-08-01 00:00:01|\n|   304|           0|     uplherc.upl.com|   GET|                   /|HTTP/1.0|1995-08-01 00:00:07|\n|   304|           0|     uplherc.upl.com|   GET|/images/ksclogo-m...|HTTP/1.0|1995-08-01 00:00:08|\n|   304|           0|     uplherc.upl.com|   GET|/images/MOSAIC-lo...|HTTP/1.0|1995-08-01 00:00:08|\n|   304|           0|     uplherc.upl.com|   GET|/images/USA-logos...|HTTP/1.0|1995-08-01 00:00:08|\n|   200|        1713|ix-esc-ca2-07.ix....|   GET|/images/launch-lo...|HTTP/1.0|1995-08-01 00:00:09|\n|   304|           0|     uplherc.upl.com|   GET|/images/WORLD-log...|HTTP/1.0|1995-08-01 00:00:10|\n|   200|        1687|slppp6.intermind.net|   GET|/history/skylab/s...|HTTP/1.0|1995-08-01 00:00:10|\n|   200|       11853|piweba4y.prodigy.com|   GET|/images/launchmed...|HTTP/1.0|1995-08-01 00:00:10|\n|   200|        9202|slppp6.intermind.net|   GET|/history/skylab/s...|HTTP/1.0|1995-08-01 00:00:11|\n+------+------------+--------------------+------+--------------------+--------+-------------------+\nonly showing top 10 rows\n\n"
     ]
    }
   ],
   "source": [
    "udf_parse_time = udf(parse_clf_time)\n",
    "\n",
    "logs_df = logs_df.select('*', udf_parse_time(logs_df['timestamp']).cast('timestamp').alias('time')).drop('timestamp')\n",
    "logs_df.show(10, truncate=True)"
   ]
  },
  {
   "cell_type": "code",
   "execution_count": 0,
   "metadata": {
    "application/vnd.databricks.v1+cell": {
     "cellMetadata": {
      "byteLimit": 2048000,
      "rowLimit": 10000
     },
     "inputWidgets": {},
     "nuid": "3ff939fb-23a5-4c07-b893-9e31d68923b1",
     "showTitle": false,
     "title": ""
    },
    "colab": {},
    "colab_type": "code",
    "id": "9Yy-eIDtXvCi",
    "outputId": "913a1185-f22d-4ac9-856b-d31db17eca28"
   },
   "outputs": [
    {
     "output_type": "stream",
     "name": "stdout",
     "output_type": "stream",
     "text": [
      "root\n |-- status: integer (nullable = true)\n |-- content_size: integer (nullable = false)\n |-- host: string (nullable = true)\n |-- method: string (nullable = true)\n |-- endpoint: string (nullable = true)\n |-- protocol: string (nullable = true)\n |-- time: timestamp (nullable = true)\n\n"
     ]
    }
   ],
   "source": [
    "logs_df.printSchema()"
   ]
  },
  {
   "cell_type": "code",
   "execution_count": 0,
   "metadata": {
    "application/vnd.databricks.v1+cell": {
     "cellMetadata": {
      "byteLimit": 2048000,
      "rowLimit": 10000
     },
     "inputWidgets": {},
     "nuid": "95609600-f8b1-4f91-ad27-11b2c4f68e51",
     "showTitle": false,
     "title": ""
    },
    "colab": {},
    "colab_type": "code",
    "id": "wfMB_2JvXvCk",
    "outputId": "dfb9673b-af0c-4232-d28f-674fa1662ac0"
   },
   "outputs": [
    {
     "output_type": "display_data",
     "data": {
      "text/html": [
       "<div>\n",
       "<style scoped>\n",
       "    .dataframe tbody tr th:only-of-type {\n",
       "        vertical-align: middle;\n",
       "    }\n",
       "\n",
       "    .dataframe tbody tr th {\n",
       "        vertical-align: top;\n",
       "    }\n",
       "\n",
       "    .dataframe thead th {\n",
       "        text-align: right;\n",
       "    }\n",
       "</style>\n",
       "<table border=\"1\" class=\"dataframe\">\n",
       "  <thead>\n",
       "    <tr style=\"text-align: right;\">\n",
       "      <th></th>\n",
       "      <th>status</th>\n",
       "      <th>content_size</th>\n",
       "      <th>host</th>\n",
       "      <th>method</th>\n",
       "      <th>endpoint</th>\n",
       "      <th>protocol</th>\n",
       "      <th>time</th>\n",
       "    </tr>\n",
       "  </thead>\n",
       "  <tbody>\n",
       "    <tr>\n",
       "      <th>0</th>\n",
       "      <td>200</td>\n",
       "      <td>1839</td>\n",
       "      <td>in24.inetnebr.com</td>\n",
       "      <td>GET</td>\n",
       "      <td>/shuttle/missions/sts-68/news/sts-68-mcc-05.txt</td>\n",
       "      <td>HTTP/1.0</td>\n",
       "      <td>1995-08-01 00:00:01</td>\n",
       "    </tr>\n",
       "    <tr>\n",
       "      <th>1</th>\n",
       "      <td>304</td>\n",
       "      <td>0</td>\n",
       "      <td>uplherc.upl.com</td>\n",
       "      <td>GET</td>\n",
       "      <td>/</td>\n",
       "      <td>HTTP/1.0</td>\n",
       "      <td>1995-08-01 00:00:07</td>\n",
       "    </tr>\n",
       "    <tr>\n",
       "      <th>2</th>\n",
       "      <td>304</td>\n",
       "      <td>0</td>\n",
       "      <td>uplherc.upl.com</td>\n",
       "      <td>GET</td>\n",
       "      <td>/images/ksclogo-medium.gif</td>\n",
       "      <td>HTTP/1.0</td>\n",
       "      <td>1995-08-01 00:00:08</td>\n",
       "    </tr>\n",
       "    <tr>\n",
       "      <th>3</th>\n",
       "      <td>304</td>\n",
       "      <td>0</td>\n",
       "      <td>uplherc.upl.com</td>\n",
       "      <td>GET</td>\n",
       "      <td>/images/MOSAIC-logosmall.gif</td>\n",
       "      <td>HTTP/1.0</td>\n",
       "      <td>1995-08-01 00:00:08</td>\n",
       "    </tr>\n",
       "    <tr>\n",
       "      <th>4</th>\n",
       "      <td>304</td>\n",
       "      <td>0</td>\n",
       "      <td>uplherc.upl.com</td>\n",
       "      <td>GET</td>\n",
       "      <td>/images/USA-logosmall.gif</td>\n",
       "      <td>HTTP/1.0</td>\n",
       "      <td>1995-08-01 00:00:08</td>\n",
       "    </tr>\n",
       "  </tbody>\n",
       "</table>\n",
       "</div>"
      ]
     },
     "metadata": {
      "application/vnd.databricks.v1+output": {
       "addedWidgets": {},
       "arguments": {},
       "data": "<div>\n<style scoped>\n    .dataframe tbody tr th:only-of-type {\n        vertical-align: middle;\n    }\n\n    .dataframe tbody tr th {\n        vertical-align: top;\n    }\n\n    .dataframe thead th {\n        text-align: right;\n    }\n</style>\n<table border=\"1\" class=\"dataframe\">\n  <thead>\n    <tr style=\"text-align: right;\">\n      <th></th>\n      <th>status</th>\n      <th>content_size</th>\n      <th>host</th>\n      <th>method</th>\n      <th>endpoint</th>\n      <th>protocol</th>\n      <th>time</th>\n    </tr>\n  </thead>\n  <tbody>\n    <tr>\n      <th>0</th>\n      <td>200</td>\n      <td>1839</td>\n      <td>in24.inetnebr.com</td>\n      <td>GET</td>\n      <td>/shuttle/missions/sts-68/news/sts-68-mcc-05.txt</td>\n      <td>HTTP/1.0</td>\n      <td>1995-08-01 00:00:01</td>\n    </tr>\n    <tr>\n      <th>1</th>\n      <td>304</td>\n      <td>0</td>\n      <td>uplherc.upl.com</td>\n      <td>GET</td>\n      <td>/</td>\n      <td>HTTP/1.0</td>\n      <td>1995-08-01 00:00:07</td>\n    </tr>\n    <tr>\n      <th>2</th>\n      <td>304</td>\n      <td>0</td>\n      <td>uplherc.upl.com</td>\n      <td>GET</td>\n      <td>/images/ksclogo-medium.gif</td>\n      <td>HTTP/1.0</td>\n      <td>1995-08-01 00:00:08</td>\n    </tr>\n    <tr>\n      <th>3</th>\n      <td>304</td>\n      <td>0</td>\n      <td>uplherc.upl.com</td>\n      <td>GET</td>\n      <td>/images/MOSAIC-logosmall.gif</td>\n      <td>HTTP/1.0</td>\n      <td>1995-08-01 00:00:08</td>\n    </tr>\n    <tr>\n      <th>4</th>\n      <td>304</td>\n      <td>0</td>\n      <td>uplherc.upl.com</td>\n      <td>GET</td>\n      <td>/images/USA-logosmall.gif</td>\n      <td>HTTP/1.0</td>\n      <td>1995-08-01 00:00:08</td>\n    </tr>\n  </tbody>\n</table>\n</div>",
       "datasetInfos": [],
       "metadata": {},
       "removedWidgets": [],
       "textData": null,
       "type": "htmlSandbox"
      }
     },
     "output_type": "display_data"
    }
   ],
   "source": [
    "logs_df.limit(5).toPandas()"
   ]
  },
  {
   "cell_type": "markdown",
   "metadata": {
    "application/vnd.databricks.v1+cell": {
     "cellMetadata": {
      "byteLimit": 2048000,
      "rowLimit": 10000
     },
     "inputWidgets": {},
     "nuid": "3ca9aaa0-b13f-42bd-ae41-e098642294b5",
     "showTitle": false,
     "title": ""
    },
    "colab_type": "text",
    "id": "cn3ghlDsXvCp"
   },
   "source": [
    "Let's now cache `logs_df` since we will be using it extensively for our data analysis section in the next part!"
   ]
  },
  {
   "cell_type": "markdown",
   "metadata": {
    "application/vnd.databricks.v1+cell": {
     "cellMetadata": {
      "byteLimit": 2048000,
      "rowLimit": 10000
     },
     "inputWidgets": {},
     "nuid": "89afc17d-2f2c-4bab-b623-8abd0c589b15",
     "showTitle": false,
     "title": ""
    },
    "colab_type": "text",
    "id": "1WTHkvANXvCq"
   },
   "source": [
    "# Step 2 - Exploratory Data Analysis on our Web Logs\n",
    "\n",
    "Now that we have a DataFrame containing the parsed log file as a data frame, we can perform some interesting exploratory data analysis (EDA)\n",
    "\n",
    "## Example: Content Size Statistics\n",
    "\n",
    "Let's compute some statistics about the sizes of content being returned by the web server. In particular, we'd like to know what are the average, minimum, and maximum content sizes.\n",
    "\n",
    "We can compute the statistics by calling `.describe()` on the `content_size` column of `logs_df`.  The `.describe()` function returns the count, mean, stddev, min, and max of a given column."
   ]
  },
  {
   "cell_type": "code",
   "execution_count": 0,
   "metadata": {
    "application/vnd.databricks.v1+cell": {
     "cellMetadata": {
      "byteLimit": 2048000,
      "rowLimit": 10000
     },
     "inputWidgets": {},
     "nuid": "ab3a8b40-2117-476d-82ef-6e02554b51ac",
     "showTitle": false,
     "title": ""
    },
    "colab": {},
    "colab_type": "code",
    "id": "FHkVy3ZXXvCr",
    "outputId": "cd083d90-c450-4d64-9d56-c8e1f5dd1eed"
   },
   "outputs": [
    {
     "output_type": "display_data",
     "data": {
      "text/html": [
       "<div>\n",
       "<style scoped>\n",
       "    .dataframe tbody tr th:only-of-type {\n",
       "        vertical-align: middle;\n",
       "    }\n",
       "\n",
       "    .dataframe tbody tr th {\n",
       "        vertical-align: top;\n",
       "    }\n",
       "\n",
       "    .dataframe thead th {\n",
       "        text-align: right;\n",
       "    }\n",
       "</style>\n",
       "<table border=\"1\" class=\"dataframe\">\n",
       "  <thead>\n",
       "    <tr style=\"text-align: right;\">\n",
       "      <th></th>\n",
       "      <th>summary</th>\n",
       "      <th>content_size</th>\n",
       "    </tr>\n",
       "  </thead>\n",
       "  <tbody>\n",
       "    <tr>\n",
       "      <th>0</th>\n",
       "      <td>count</td>\n",
       "      <td>3461612</td>\n",
       "    </tr>\n",
       "    <tr>\n",
       "      <th>1</th>\n",
       "      <td>mean</td>\n",
       "      <td>18928.844398216785</td>\n",
       "    </tr>\n",
       "    <tr>\n",
       "      <th>2</th>\n",
       "      <td>stddev</td>\n",
       "      <td>73031.47260949282</td>\n",
       "    </tr>\n",
       "    <tr>\n",
       "      <th>3</th>\n",
       "      <td>min</td>\n",
       "      <td>0</td>\n",
       "    </tr>\n",
       "    <tr>\n",
       "      <th>4</th>\n",
       "      <td>max</td>\n",
       "      <td>6823936</td>\n",
       "    </tr>\n",
       "  </tbody>\n",
       "</table>\n",
       "</div>"
      ]
     },
     "metadata": {
      "application/vnd.databricks.v1+output": {
       "addedWidgets": {},
       "arguments": {},
       "data": "<div>\n<style scoped>\n    .dataframe tbody tr th:only-of-type {\n        vertical-align: middle;\n    }\n\n    .dataframe tbody tr th {\n        vertical-align: top;\n    }\n\n    .dataframe thead th {\n        text-align: right;\n    }\n</style>\n<table border=\"1\" class=\"dataframe\">\n  <thead>\n    <tr style=\"text-align: right;\">\n      <th></th>\n      <th>summary</th>\n      <th>content_size</th>\n    </tr>\n  </thead>\n  <tbody>\n    <tr>\n      <th>0</th>\n      <td>count</td>\n      <td>3461612</td>\n    </tr>\n    <tr>\n      <th>1</th>\n      <td>mean</td>\n      <td>18928.844398216785</td>\n    </tr>\n    <tr>\n      <th>2</th>\n      <td>stddev</td>\n      <td>73031.47260949282</td>\n    </tr>\n    <tr>\n      <th>3</th>\n      <td>min</td>\n      <td>0</td>\n    </tr>\n    <tr>\n      <th>4</th>\n      <td>max</td>\n      <td>6823936</td>\n    </tr>\n  </tbody>\n</table>\n</div>",
       "datasetInfos": [],
       "metadata": {},
       "removedWidgets": [],
       "textData": null,
       "type": "htmlSandbox"
      }
     },
     "output_type": "display_data"
    }
   ],
   "source": [
    "content_size_summary_df = logs_df.describe(['content_size'])\n",
    "content_size_summary_df.toPandas()"
   ]
  },
  {
   "cell_type": "markdown",
   "metadata": {
    "application/vnd.databricks.v1+cell": {
     "cellMetadata": {
      "byteLimit": 2048000,
      "rowLimit": 10000
     },
     "inputWidgets": {},
     "nuid": "239e89ac-3dbe-4de5-a796-248a3072a8bc",
     "showTitle": false,
     "title": ""
    },
    "colab_type": "text",
    "id": "fY1S9FPAXvCv"
   },
   "source": [
    "Alternatively, we can use SQL to directly calculate these statistics.  You can explore many useful functions within the `pyspark.sql.functions` module in the [documentation](https://spark.apache.org/docs/latest/api/python/pyspark.sql.html#module-pyspark.sql.functions).\n",
    "\n",
    "After we apply the `.agg()` function, we call `toPandas()` to extract and convert the result into a `pandas` dataframe which has better formatting on Jupyter notebooks"
   ]
  },
  {
   "cell_type": "code",
   "execution_count": 0,
   "metadata": {
    "application/vnd.databricks.v1+cell": {
     "cellMetadata": {
      "byteLimit": 2048000,
      "rowLimit": 10000
     },
     "inputWidgets": {},
     "nuid": "c4b4db03-210a-4cdc-ab9e-ddc7a226db51",
     "showTitle": false,
     "title": ""
    },
    "colab": {},
    "colab_type": "code",
    "id": "nonAax8AXvCx",
    "outputId": "1a9a01ac-35f3-44ab-f105-5759f8f79b9a"
   },
   "outputs": [
    {
     "output_type": "display_data",
     "data": {
      "text/html": [
       "<div>\n",
       "<style scoped>\n",
       "    .dataframe tbody tr th:only-of-type {\n",
       "        vertical-align: middle;\n",
       "    }\n",
       "\n",
       "    .dataframe tbody tr th {\n",
       "        vertical-align: top;\n",
       "    }\n",
       "\n",
       "    .dataframe thead th {\n",
       "        text-align: right;\n",
       "    }\n",
       "</style>\n",
       "<table border=\"1\" class=\"dataframe\">\n",
       "  <thead>\n",
       "    <tr style=\"text-align: right;\">\n",
       "      <th></th>\n",
       "      <th>min_content_size</th>\n",
       "      <th>max_content_size</th>\n",
       "      <th>mean_content_size</th>\n",
       "      <th>std_content_size</th>\n",
       "      <th>count_content_size</th>\n",
       "    </tr>\n",
       "  </thead>\n",
       "  <tbody>\n",
       "    <tr>\n",
       "      <th>0</th>\n",
       "      <td>0</td>\n",
       "      <td>6823936</td>\n",
       "      <td>18928.844398</td>\n",
       "      <td>73031.472609</td>\n",
       "      <td>3461612</td>\n",
       "    </tr>\n",
       "  </tbody>\n",
       "</table>\n",
       "</div>"
      ]
     },
     "metadata": {
      "application/vnd.databricks.v1+output": {
       "addedWidgets": {},
       "arguments": {},
       "data": "<div>\n<style scoped>\n    .dataframe tbody tr th:only-of-type {\n        vertical-align: middle;\n    }\n\n    .dataframe tbody tr th {\n        vertical-align: top;\n    }\n\n    .dataframe thead th {\n        text-align: right;\n    }\n</style>\n<table border=\"1\" class=\"dataframe\">\n  <thead>\n    <tr style=\"text-align: right;\">\n      <th></th>\n      <th>min_content_size</th>\n      <th>max_content_size</th>\n      <th>mean_content_size</th>\n      <th>std_content_size</th>\n      <th>count_content_size</th>\n    </tr>\n  </thead>\n  <tbody>\n    <tr>\n      <th>0</th>\n      <td>0</td>\n      <td>6823936</td>\n      <td>18928.844398</td>\n      <td>73031.472609</td>\n      <td>3461612</td>\n    </tr>\n  </tbody>\n</table>\n</div>",
       "datasetInfos": [],
       "metadata": {},
       "removedWidgets": [],
       "textData": null,
       "type": "htmlSandbox"
      }
     },
     "output_type": "display_data"
    }
   ],
   "source": [
    "from pyspark.sql import functions as F\n",
    "\n",
    "(logs_df.agg(F.min(logs_df['content_size']).alias('min_content_size'),\n",
    "             F.max(logs_df['content_size']).alias('max_content_size'),\n",
    "             F.mean(logs_df['content_size']).alias('mean_content_size'),\n",
    "             F.stddev(logs_df['content_size']).alias('std_content_size'),\n",
    "             F.count(logs_df['content_size']).alias('count_content_size'))\n",
    "        .toPandas())"
   ]
  },
  {
   "cell_type": "markdown",
   "metadata": {
    "application/vnd.databricks.v1+cell": {
     "cellMetadata": {
      "byteLimit": 2048000,
      "rowLimit": 10000
     },
     "inputWidgets": {},
     "nuid": "20b50a69-e349-4bb7-a3b0-4f07135c84c8",
     "showTitle": false,
     "title": ""
    },
    "colab_type": "text",
    "id": "8hat3HPwXvC0"
   },
   "source": [
    "## Example: HTTP Status Code Analysis\n",
    "\n",
    "Next, let's look at the status code values that appear in the log. We want to know which status code values appear in the data and how many times.  \n",
    "\n",
    "We again start with `logs_df`, then group by the `status` column, apply the `.count()` aggregation function, and sort by the `status` column."
   ]
  },
  {
   "cell_type": "code",
   "execution_count": 0,
   "metadata": {
    "application/vnd.databricks.v1+cell": {
     "cellMetadata": {
      "byteLimit": 2048000,
      "rowLimit": 10000
     },
     "inputWidgets": {},
     "nuid": "c4b1aa94-4351-49c8-a5fd-6e15f1935b06",
     "showTitle": false,
     "title": ""
    },
    "colab": {},
    "colab_type": "code",
    "collapsed": true,
    "id": "jL-vEt0FXvC1",
    "outputId": "8ee8079f-8b03-4e70-8335-cbd7b2d0b1bc"
   },
   "outputs": [],
   "source": [
    "status_freq_df = (logs_df\n",
    "                     .groupBy('status')\n",
    "                     .count()\n",
    "                     .sort('status')\n",
    "                     .cache())"
   ]
  },
  {
   "cell_type": "code",
   "execution_count": 0,
   "metadata": {
    "application/vnd.databricks.v1+cell": {
     "cellMetadata": {
      "byteLimit": 2048000,
      "rowLimit": 10000
     },
     "inputWidgets": {},
     "nuid": "049f8a77-ae09-440f-8829-b18bd041d268",
     "showTitle": false,
     "title": ""
    },
    "colab": {},
    "colab_type": "code",
    "id": "a0iPsCW2XvC3",
    "outputId": "64fbd3f8-cf08-4ca3-de33-32349d3d6597"
   },
   "outputs": [
    {
     "output_type": "stream",
     "name": "stdout",
     "output_type": "stream",
     "text": [
      "Total distinct HTTP Status Codes: 8\n"
     ]
    }
   ],
   "source": [
    "print('Total distinct HTTP Status Codes:', status_freq_df.count())"
   ]
  },
  {
   "cell_type": "code",
   "execution_count": 0,
   "metadata": {
    "application/vnd.databricks.v1+cell": {
     "cellMetadata": {
      "byteLimit": 2048000,
      "rowLimit": 10000
     },
     "inputWidgets": {},
     "nuid": "b60ed984-d4e8-448c-b680-0746fef4d709",
     "showTitle": false,
     "title": ""
    },
    "colab": {},
    "colab_type": "code",
    "id": "SZO7ncjdXvC6",
    "outputId": "0344aef8-367b-476b-fc2c-e6c1346d3da9"
   },
   "outputs": [
    {
     "output_type": "display_data",
     "data": {
      "text/html": [
       "<div>\n",
       "<style scoped>\n",
       "    .dataframe tbody tr th:only-of-type {\n",
       "        vertical-align: middle;\n",
       "    }\n",
       "\n",
       "    .dataframe tbody tr th {\n",
       "        vertical-align: top;\n",
       "    }\n",
       "\n",
       "    .dataframe thead th {\n",
       "        text-align: right;\n",
       "    }\n",
       "</style>\n",
       "<table border=\"1\" class=\"dataframe\">\n",
       "  <thead>\n",
       "    <tr style=\"text-align: right;\">\n",
       "      <th></th>\n",
       "      <th>status</th>\n",
       "      <th>count</th>\n",
       "    </tr>\n",
       "  </thead>\n",
       "  <tbody>\n",
       "    <tr>\n",
       "      <th>0</th>\n",
       "      <td>200</td>\n",
       "      <td>3100524</td>\n",
       "    </tr>\n",
       "    <tr>\n",
       "      <th>1</th>\n",
       "      <td>302</td>\n",
       "      <td>73070</td>\n",
       "    </tr>\n",
       "    <tr>\n",
       "      <th>2</th>\n",
       "      <td>304</td>\n",
       "      <td>266773</td>\n",
       "    </tr>\n",
       "    <tr>\n",
       "      <th>3</th>\n",
       "      <td>400</td>\n",
       "      <td>15</td>\n",
       "    </tr>\n",
       "    <tr>\n",
       "      <th>4</th>\n",
       "      <td>403</td>\n",
       "      <td>225</td>\n",
       "    </tr>\n",
       "    <tr>\n",
       "      <th>5</th>\n",
       "      <td>404</td>\n",
       "      <td>20899</td>\n",
       "    </tr>\n",
       "    <tr>\n",
       "      <th>6</th>\n",
       "      <td>500</td>\n",
       "      <td>65</td>\n",
       "    </tr>\n",
       "    <tr>\n",
       "      <th>7</th>\n",
       "      <td>501</td>\n",
       "      <td>41</td>\n",
       "    </tr>\n",
       "  </tbody>\n",
       "</table>\n",
       "</div>"
      ]
     },
     "metadata": {
      "application/vnd.databricks.v1+output": {
       "addedWidgets": {},
       "arguments": {},
       "data": "<div>\n<style scoped>\n    .dataframe tbody tr th:only-of-type {\n        vertical-align: middle;\n    }\n\n    .dataframe tbody tr th {\n        vertical-align: top;\n    }\n\n    .dataframe thead th {\n        text-align: right;\n    }\n</style>\n<table border=\"1\" class=\"dataframe\">\n  <thead>\n    <tr style=\"text-align: right;\">\n      <th></th>\n      <th>status</th>\n      <th>count</th>\n    </tr>\n  </thead>\n  <tbody>\n    <tr>\n      <th>0</th>\n      <td>200</td>\n      <td>3100524</td>\n    </tr>\n    <tr>\n      <th>1</th>\n      <td>302</td>\n      <td>73070</td>\n    </tr>\n    <tr>\n      <th>2</th>\n      <td>304</td>\n      <td>266773</td>\n    </tr>\n    <tr>\n      <th>3</th>\n      <td>400</td>\n      <td>15</td>\n    </tr>\n    <tr>\n      <th>4</th>\n      <td>403</td>\n      <td>225</td>\n    </tr>\n    <tr>\n      <th>5</th>\n      <td>404</td>\n      <td>20899</td>\n    </tr>\n    <tr>\n      <th>6</th>\n      <td>500</td>\n      <td>65</td>\n    </tr>\n    <tr>\n      <th>7</th>\n      <td>501</td>\n      <td>41</td>\n    </tr>\n  </tbody>\n</table>\n</div>",
       "datasetInfos": [],
       "metadata": {},
       "removedWidgets": [],
       "textData": null,
       "type": "htmlSandbox"
      }
     },
     "output_type": "display_data"
    }
   ],
   "source": [
    "status_freq_pd_df = status_freq_df.toPandas()\n",
    "status_freq_pd_df"
   ]
  },
  {
   "cell_type": "code",
   "execution_count": 0,
   "metadata": {
    "application/vnd.databricks.v1+cell": {
     "cellMetadata": {
      "byteLimit": 2048000,
      "rowLimit": 10000
     },
     "inputWidgets": {},
     "nuid": "598c457d-9739-4c14-9d44-d88d53d298a0",
     "showTitle": false,
     "title": ""
    },
    "colab": {},
    "colab_type": "code",
    "id": "KXkKQA-WXvC8"
   },
   "outputs": [
    {
     "output_type": "stream",
     "name": "stdout",
     "output_type": "stream",
     "text": [
      "Out[135]: <AxesSubplot:xlabel='status'>"
     ]
    },
    {
     "output_type": "display_data",
     "data": {
      "image/png": "[encoded data removed]"
     },
     "metadata": {
      "application/vnd.databricks.v1+output": {
       "addedWidgets": {},
       "arguments": {},
       "data": "data:image/png;base64,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\n",
       "datasetInfos": [],
       "metadata": {},
       "removedWidgets": [],
       "type": "image"
      }
     },
     "output_type": "display_data"
    }
   ],
   "source": [
    "import matplotlib.pyplot as plt\n",
    "%matplotlib inline\n",
    "\n",
    "status_freq_pd_df.plot(x='status', y='count', kind='bar')"
   ]
  },
  {
   "cell_type": "code",
   "execution_count": 0,
   "metadata": {
    "application/vnd.databricks.v1+cell": {
     "cellMetadata": {
      "byteLimit": 2048000,
      "rowLimit": 10000
     },
     "inputWidgets": {},
     "nuid": "2ba47994-9463-48a3-a044-211004b56884",
     "showTitle": false,
     "title": ""
    },
    "colab": {},
    "colab_type": "code",
    "id": "iabid8S6XvC_",
    "outputId": "31df7ac0-35f9-4f9e-f059-c4267865c9b6"
   },
   "outputs": [
    {
     "output_type": "stream",
     "name": "stdout",
     "output_type": "stream",
     "text": [
      "+------+-------+------------------+\n|status|  count|        log(count)|\n+------+-------+------------------+\n|   200|3100524|14.947081687429097|\n|   302|  73070|11.199173164785263|\n|   304| 266773|12.494153388502301|\n|   400|     15|  2.70805020110221|\n|   403|    225|  5.41610040220442|\n|   404|  20899| 9.947456589918252|\n|   500|     65| 4.174387269895637|\n|   501|     41| 3.713572066704308|\n+------+-------+------------------+\n\n"
     ]
    }
   ],
   "source": [
    "log_freq_df = status_freq_df.withColumn('log(count)', F.log(status_freq_df['count']))\n",
    "log_freq_df.show()"
   ]
  },
  {
   "cell_type": "markdown",
   "metadata": {
    "application/vnd.databricks.v1+cell": {
     "cellMetadata": {
      "byteLimit": 2048000,
      "rowLimit": 10000
     },
     "inputWidgets": {},
     "nuid": "27cc370e-b185-47db-838d-74b9af483363",
     "showTitle": false,
     "title": ""
    },
    "colab_type": "text",
    "id": "CWcfTjlUXvDC"
   },
   "source": [
    "#### Q5: Your Turn: Convert the log\\_freq\\_df to a pandas DataFrame and plot a bar chart displaying counts of each HTTP Status Code"
   ]
  },
  {
   "cell_type": "code",
   "execution_count": 0,
   "metadata": {
    "application/vnd.databricks.v1+cell": {
     "cellMetadata": {
      "byteLimit": 2048000,
      "rowLimit": 10000
     },
     "inputWidgets": {},
     "nuid": "52ce0656-7f38-4bbd-9d37-6af79df3dc10",
     "showTitle": false,
     "title": ""
    },
    "colab": {},
    "colab_type": "code",
    "id": "RWWwF5NcXvDD"
   },
   "outputs": [
    {
     "output_type": "stream",
     "name": "stdout",
     "output_type": "stream",
     "text": [
      "Out[137]: <AxesSubplot:xlabel='status'>"
     ]
    },
    {
     "output_type": "display_data",
     "data": {
      "image/png": "[encoded data removed]"
     },
     "metadata": {
      "application/vnd.databricks.v1+output": {
       "addedWidgets": {},
       "arguments": {},
       "data": "data:image/png;base64,iVBORw0KGgoAAAANSUhEUgAAAXQAAAEaCAYAAAABnax5AAAAOXRFWHRTb2Z0d2FyZQBNYXRwbG90bGliIHZlcnNpb24zLjUuMSwgaHR0cHM6Ly9tYXRwbG90bGliLm9yZy/YYfK9AAAACXBIWXMAAAsTAAALEwEAmpwYAAAW30lEQVR4nO3df7TcdX3n8eeLJBIhqIWkCgQMR7G4rPzQLKAcK4SDG8WK3UJLVQQOml1XRd12t1jP4tHj9kA5B1n8xXIKCq2rFuzStKKuK3FRFErCDyFQadRUL4rGBPlRRcjy3j9mEofrvbn3krl3Zj55Ps6Zk5nv93O/87qZ+33lm8/9zndSVUiSRt9ugw4gSeoPC12SGmGhS1IjLHRJaoSFLkmNsNAlqREDLfQkVyT5SZK7pjn+95PcnWR9kv852/kkaZRkkOehJ/lt4BHgqqr611OMPRj4a2BFVT2Q5Der6idzkVOSRsFAj9Cr6gZgS++yJM9L8sUk65J8Lckh3VVvAT5aVQ90v9Yyl6QewziHfhnwjqp6CfDHwMe6y18AvCDJjUluSrJyYAklaQjNH3SAXkkWAS8Drk6ybfHu3T/nAwcDxwFLgRuSvKiqfjbHMSVpKA1VodP5H8PPquqICdaNATdX1ePA95LcS6fgb5nDfJI0tIZqyqWqHqJT1qcCpOPw7upr6Rydk2QxnSmY7w4gpiQNpUGftvhp4JvAbyUZS3I28Abg7CR3AOuBk7vDvwRsTnI3sAb4z1W1eRC5JWkYDfS0RUlS/wzVlIsk6akb2C9FFy9eXMuWLRvU00vSSFq3bt1Pq2rJROsGVujLli1j7dq1g3p6SRpJSf55snVOuUhSIyx0SWqEhS5JjRi2d4pK0naPP/44Y2NjPProo4OOMucWLlzI0qVLWbBgwbS/xkKXNLTGxsbYa6+9WLZsGT3Xd2peVbF582bGxsY46KCDpv11TrlIGlqPPvoo++yzzy5V5gBJ2GeffWb8PxMLXdJQ29XKfJun8n1b6JLUCOfQJY2MZed+vq/b23j+SX3d3kxdfPHFrFq1ij322KMv2xuJQu/3iwiDfyEl6eKLL+aNb3xj3wrdKRdJ2oGrrrqKww47jMMPP5zTTz+djRs3smLFCg477DBOOOEEvv/97wNw5plncs0112z/ukWLFgHw1a9+leOOO45TTjmFQw45hDe84Q1UFZdccgk//OEPOf744zn++OP7knUkjtAlaRDWr1/PBz/4Qb7xjW+wePFitmzZwhlnnLH9dsUVV3DOOedw7bXX7nA7t912G+vXr2e//fbj2GOP5cYbb+Scc87hoosuYs2aNSxevLgveac8Qk+yMMk/JLkjyfok759gzO5JPptkQ5KbkyzrSzpJGqDrr7+eU089dXvh7r333nzzm9/k9a9/PQCnn346X//616fczlFHHcXSpUvZbbfdOOKII9i4ceOs5J3OlMsvgRVVdThwBLAyyTHjxpwNPFBVzwc+BFzQ15SSNOTmz5/PE088AcATTzzBY489tn3d7rvvvv3+vHnz2Lp166xkmLLQq+OR7sMF3dv4jzk6Gbiye/8a4ITsqiePSmrGihUruPrqq9m8ufNpl1u2bOFlL3sZn/nMZwD41Kc+xctf/nKgc0nwdevWAbB69Woef/zxKbe/11578fDDD/ct77Tm0JPMA9YBzwc+WlU3jxuyP/ADgKramuRBYB/gp+O2swpYBXDggQfuXHJJu5y5Pjvt0EMP5b3vfS+veMUrmDdvHkceeSQf/vCHOeuss7jwwgtZsmQJn/jEJwB4y1vewsknn8zhhx/OypUr2XPPPafc/qpVq1i5ciX77bcfa9as2em8M/pM0STPAv4X8I6quqtn+V3Ayqoa6z7+DnB0Vf10wg0By5cvr+l+wIWnLUq7pnvuuYcXvvCFg44xMBN9/0nWVdXyicbP6LTFqvoZsAZYOW7VfcAB3SebDzwT2DyTbUuSds50znJZ0j0yJ8nTgROBfxw3bDVwRvf+KcD1NZNDf0nSTpvOHPq+wJXdefTdgL+uqr9P8gFgbVWtBi4H/jLJBmALcNqsJZa0S6mqXfICXU/lmHjKQq+qbwFHTrD8vJ77jwKnzvjZJWkHFi5cyObNm3e5S+huux76woULZ/R1vlNU0tBaunQpY2NjbNq0adBR5ty2TyyaCQtd0tBasGDBjD6xZ1fnxbkkqREWuiQ1wkKXpEZY6JLUCAtdkhphoUtSIyx0SWqEhS5JjbDQJakRFrokNcJCl6RGWOiS1AgLXZIaYaFLUiMsdElqhIUuSY2w0CWpERa6JDXCQpekRljoktQIC12SGmGhS1IjLHRJasSUhZ7kgCRrktydZH2Sd04w5rgkDya5vXs7b3biSpImM38aY7YCf1RVtybZC1iX5MtVdfe4cV+rqtf0P6IkaTqmPEKvqh9V1a3d+w8D9wD7z3YwSdLMzGgOPcky4Ejg5glWvzTJHUm+kOTQSb5+VZK1SdZu2rRp5mklSZOadqEnWQR8DnhXVT00bvWtwHOr6nDgw8C1E22jqi6rquVVtXzJkiVPMbIkaSLTKvQkC+iU+aeq6m/Gr6+qh6rqke7964AFSRb3NakkaYemc5ZLgMuBe6rqoknGPKc7jiRHdbe7uZ9BJUk7Np2zXI4FTgfuTHJ7d9mfAgcCVNWlwCnAW5NsBX4BnFZV1f+4kqTJTFnoVfV1IFOM+QjwkX6FkiTNnO8UlaRGWOiS1AgLXZIaYaFLUiMsdElqhIUuSY2w0CWpERa6JDXCQpekRljoktQIC12SGmGhS1IjLHRJaoSFLkmNsNAlqREWuiQ1wkKXpEZY6JLUCAtdkhphoUtSIyx0SWqEhS5JjbDQJakRFrokNWLKQk9yQJI1Se5Osj7JOycYkySXJNmQ5FtJXjw7cSVJk5k/jTFbgT+qqluT7AWsS/Llqrq7Z8yrgIO7t6OBj3f/lCTNkSmP0KvqR1V1a/f+w8A9wP7jhp0MXFUdNwHPSrJv39NKkiY1ozn0JMuAI4Gbx63aH/hBz+Mxfr30SbIqydokazdt2jTDqJKkHZl2oSdZBHwOeFdVPfRUnqyqLquq5VW1fMmSJU9lE5KkSUyr0JMsoFPmn6qqv5lgyH3AAT2Pl3aXSZLmyHTOcglwOXBPVV00ybDVwJu6Z7scAzxYVT/qY05J0hSmc5bLscDpwJ1Jbu8u+1PgQICquhS4Dng1sAH4OXBW35NKknZoykKvqq8DmWJMAW/rVyhJ0sz5TlFJaoSFLkmNsNAlqREWuiQ1wkKXpEZY6JLUCAtdkhphoUtSIyx0SWqEhS5JjbDQJakRFrokNcJCl6RGWOiS1AgLXZIaYaFLUiMsdElqhIUuSY2w0CWpERa6JDXCQpekRljoktQIC12SGmGhS1Ijpiz0JFck+UmSuyZZf1ySB5Pc3r2d1/+YkqSpzJ/GmE8CHwGu2sGYr1XVa/qSSJL0lEx5hF5VNwBb5iCLJGkn9GsO/aVJ7kjyhSSH9mmbkqQZmM6Uy1RuBZ5bVY8keTVwLXDwRAOTrAJWARx44IF9eGpJ0jY7fYReVQ9V1SPd+9cBC5IsnmTsZVW1vKqWL1myZGefWpLUY6cLPclzkqR7/6juNjfv7HYlSTMz5ZRLkk8DxwGLk4wB7wMWAFTVpcApwFuTbAV+AZxWVTVriSVJE5qy0KvqD6dY/xE6pzVKkgbId4pKUiMsdElqhIUuSY2w0CWpERa6JDXCQpekRljoktQIC12SGmGhS1IjLHRJaoSFLkmNsNAlqREWuiQ1wkKXpEZY6JLUCAtdkhphoUtSIyx0SWqEhS5JjbDQJakRFrokNcJCl6RGWOiS1AgLXZIaYaFLUiOmLPQkVyT5SZK7JlmfJJck2ZDkW0le3P+YkqSpTOcI/ZPAyh2sfxVwcPe2Cvj4zseSJM3UlIVeVTcAW3Yw5GTgquq4CXhWkn37FVCSND39mEPfH/hBz+Ox7rJfk2RVkrVJ1m7atKkPTy1J2mZOfylaVZdV1fKqWr5kyZK5fGpJal4/Cv0+4ICex0u7yyRJc6gfhb4aeFP3bJdjgAer6kd92K4kaQbmTzUgyaeB44DFScaA9wELAKrqUuA64NXABuDnwFmzFVaSNLkpC72q/nCK9QW8rW+JJElPie8UlaRGWOiS1AgLXZIaYaFLUiMsdElqhIUuSY2w0CWpERa6JDXCQpekRljoktQIC12SGmGhS1IjLHRJaoSFLkmNsNAlqREWuiQ1wkKXpEZY6JLUCAtdkhphoUtSIyx0SWqEhS5JjbDQJakRFrokNWJahZ5kZZJvJ9mQ5NwJ1p+ZZFOS27u3N/c/qiRpR+ZPNSDJPOCjwInAGHBLktVVdfe4oZ+tqrfPQkZJ0jRM5wj9KGBDVX23qh4DPgOcPLuxJEkzNZ1C3x/4Qc/jse6y8X4vybeSXJPkgIk2lGRVkrVJ1m7atOkpxJUkTaZfvxT9O2BZVR0GfBm4cqJBVXVZVS2vquVLlizp01NLkmB6hX4f0HvEvbS7bLuq2lxVv+w+/AvgJf2JJ0marukU+i3AwUkOSvI04DRgde+AJPv2PHwtcE//IkqSpmPKs1yqamuStwNfAuYBV1TV+iQfANZW1WrgnCSvBbYCW4AzZzGzJGkCUxY6QFVdB1w3btl5PfffA7ynv9EkSTPhO0UlqREWuiQ1wkKXpEZY6JLUCAtdkhphoUtSIyx0SWqEhS5JjbDQJakRFrokNWJab/1XO5ad+/m+b3Pj+Sf1fZuSZs4jdElqhIUuSY2w0CWpERa6JDXCQpekRljoktQIC12SGmGhS1IjLHRJaoSFLkmNsNAlqREWuiQ1wotz9VG/L3zlRa8kzYRH6JLUiGkVepKVSb6dZEOScydYv3uSz3bX35xkWd+TSpJ2aMoplyTzgI8CJwJjwC1JVlfV3T3DzgYeqKrnJzkNuAD4g9kILGnmvA7+rmE6R+hHARuq6rtV9RjwGeDkcWNOBq7s3r8GOCFJ+hdTkjSV6fxSdH/gBz2Px4CjJxtTVVuTPAjsA/y0d1CSVcCq7sNHknz7qYTegcXjn3MyuaDPzzwz08o54IzQWM4hMAo5m9qHhsBs5HzuZCvm9CyXqroMuGy2tp9kbVUtn63t94s5+8uc/TMKGcGck5nOlMt9wAE9j5d2l004Jsl84JnA5n4ElCRNz3QK/Rbg4CQHJXkacBqwetyY1cAZ3funANdXVfUvpiRpKlNOuXTnxN8OfAmYB1xRVeuTfABYW1WrgcuBv0yyAdhCp/QHYdamc/rMnP1lzv4ZhYxgzgnFA2lJaoPvFJWkRljoktQIC12SGmGha1JJXjzoDJNJsneSvQedozXD/JpraiP/S9Ekz6bzTlWA+6rqx4PMM6om2JED/C3wO3R+Tm6d+1RPluRA4M+BE4Cf0cn4DOB64Nyq2jiwcD2SHAJ8CHgCOAf4r8DrgHuBM6rqnsGl+5VReM17jfK+nmRRVT0y688zqoWe5AjgUjpvYtr2RqeldHb0/zgsP4xJDgAupPOD+AXgwqp6vLvu2qp63QDjbZfkCeAm4Jc9i4/pLquqWjGQYD2SfBO4GLimqv5fd9k84FTgXVV1zADjbZfkBjqv+SLgfOBPgM8Cr6GT84QBxttuFF5zGJ19fUeSfL+qDpz15xnhQr8d+PdVdfO45ccA/6OqDh9IsHGSfBn4HJ2d5GzgJcDvVNXmJLdV1ZEDDdiV5PfoHE2eX1Vf6C77XlUdNNhkv5Lkn6rq4Jmum2u9r2uSDVX1/J51t1bVUExrjMJrDiO1r/+nyVYB762qWZ8iHOU59D3Hv8AAVXUTsOcA8kxmSVVdWlW3V9U7gI8BNyR5HjA0/5pW1eeAk4BXJrm6O70xNPm61iX5WJKjk+zXvR2d5GPAbYMO12Nez/2Lxq172lwG2ZERec1hdPb1PwN+A9hr3G0Rc9S1o/wRdF9I8nngKn51NcgDgDcBXxxYql+3IMnCqnoUoKr+Ksn9dN55O0w/jHTn+N7dnVu9ks4P4zB5E53/5byfnrlUOpeeuHxQoSbw0W1zplX1sW0Lkzwf+D8DzPVrRuA1h9HZ128Frq2qdeNXJHnzXAQY2SkXgCSvonMt9ift3FV13eBSPVmSdwO3VtX/Hbf8SODPq+rEwSTbse717PeqqocGnUVzY5hf8xHZ138L2FJVmyZY9+y5+CXuSBe6+qd7lcyzgd8F9usuvo/OWQ+Xb/tF7iD1ZHwdT96xhyYjjMbfJYxOTk3fyBZ6kmcC76Hzr/az6cz9/YTOD+P5VfWzwaX7lVHZaZJ8ms5ZA1fS+RAT6JxJcAawd1UN/CMFRyEjmLPfRmhf35bzdcBvMoCco1zoX6Jz/vGVVXV/d9lzgDOBFVX1ygHG226Edpp7q+oFM103l0YhI5iz30ZoX58s5xnACXORc5TPcllWVRds+4sDqKr7q+p8dvARTQPwkqp6a1XdVFVj3dtNVfVWYChOWezakuTUJNt/JpLsluQPgAcGmKvXKGQEc/bbqOzrk+W8gDnKOcqF/s9J/kv33WNA5xcPSf6EJ38G6qCNyk5zGp0PJ7k/yb1J7gXuB/4dg7u+/XjbMv64m/GfGL6MYM5+G5V9feA5R3nK5TeAc3nyvNqP6ZzCdkFVbRlgvO2SLAMuAI6nM/UC8CxgDZ23q39vIMEmkORoOn+P3wEOAV4K3D1MZxJsk2Sf7t3/XlVvHGiYHTDnzhuhfX3gOUe20GH7NTOWAjf1XichycqqGprzU0ehKJO8D3gVnfcmfBk4CvgqcCLwpar6b4NL15Fk/EcfAqygM29JVb12bhNNzJyzK8nL6fx83llV/3vQeSYziJwjW+hJzgHeBtwDHAG8s6r+trtumN5ePfRFCZDkTjp/j7vT+W/30qp6KMnTgZur6rBB5oPO6wrcDfwFnX8gA3ya7vTA+HP9B8Wc/ZXkH6rqqO79N9PZ768FXgn8XXcufeCGImdVjeQNuBNY1L2/DFhLp9QBbht0vnE55wF7AA8Bz+gufzrwrUHn68l520T3u49vH3S+bo7dgHfT+YfxiO6y7w46lzlnPedtPfdvoXM5Dei80/rOQecbppyj/Nb/3ao7zVJVG5McB1yT5Ll0jjSGxdbqXBnw50m+U9134VXVL9K52t2weCzJHlX1czoXEAO2n1s7FDmr6gngQ0mu7v75Y4bw8hXm7LvduvPTu9GZVdgEUFX/kmTrYKM9ycBzDuOLN10/TnJEVd0OnWtSJHkNcAXwooEme7KhL8qu366qX8L2HX2bBXTOox0aVTUGnJrkJDr/6xlK5uybZwLr6ByoVZJ9q+pHSRYxXAdvA885ynPoS+kc/d4/wbpjq+rGAcT6NUl231aU45YvBvatqjsHEEsaeUn2AJ5dQ3Sm2ETmMufIFrok6clG+Y1FkqQeFrokNcJC1y4lybu6c5p9GScNE+fQtUtJshFYXlU/7cc4aZh4hK5mJdkzyeeT3JHkru67dvcD1iRZ0x3z8SRrk6xP8v7usnMmGNd7aYlTknyye//U7rbvSHLDHH+L0pOM8nno0lRWAj+sqpNg+7n/ZwHH9xx5v7eqtiSZB3wlyWFVdUk6n+B+/DSO0M8D/m1V3ZfkWbP0fUjT4hG6WnYncGKSC5K8vKoenGDM73evaXIbcCjwr2b4HDcCn0zyFjqXeJAGxiN0Nauq7k3n0+xfDXwwyVd61yc5CPhj4N9U1QPdaZSFk22u5/72MVX1H7pX0zwJWJfkJVW1uZ/fhzRdHqGrWUn2A35eVX8FXAi8GHgY2Ks75BnAvwAPdj+U4FU9X947DjqXmnhhOh9U8rs9z/G8qrq5qs4DNgEHzNo3JE3BI3S17EXAhd2LoD0OvJXOtei/mOSHVXV8ktuAf6TziTK9l4u4rHccnQ8u+Hs6pb0WWNQdd2GSg+lcq+MrwB1z8H1JE/K0RUlqhFMuktQIC12SGmGhS1IjLHRJaoSFLkmNsNAlqREWuiQ14v8DlBTePcGHtH8AAAAASUVORK5CYII=\n",
       "datasetInfos": [],
       "metadata": {},
       "removedWidgets": [],
       "type": "image"
      }
     },
     "output_type": "display_data"
    }
   ],
   "source": [
    "# TODO: Replace <FILL IN> with appropriate code\n",
    "log_freq_pd_df = log_freq_df.toPandas()\n",
    "log_freq_pd_df.plot(x='status', y='count', kind='bar')"
   ]
  },
  {
   "cell_type": "markdown",
   "metadata": {
    "application/vnd.databricks.v1+cell": {
     "cellMetadata": {
      "byteLimit": 2048000,
      "rowLimit": 10000
     },
     "inputWidgets": {},
     "nuid": "ade52fb4-19d5-4bec-8f6f-791dc73230cc",
     "showTitle": false,
     "title": ""
    },
    "colab_type": "text",
    "id": "k5oXMLxSXvDH"
   },
   "source": [
    "## Your Turn: Q6: Analyzing Frequent Hosts\n",
    "\n",
    "Let's look at hosts that have accessed the server frequently. Try to get the count of total accesses by each `host` and then sort by the counts and display only the top ten most frequent hosts.\n",
    "\n",
    "__Hints:__\n",
    "\n",
    "- Your Spark DataFrame has a `host` column\n",
    "- Get the counts per `host` which would make a `count` column\n",
    "- Sort by the counts. Please check [__the documentation__](https://spark.apache.org/docs/latest/api/python/pyspark.sql.html#pyspark.sql.DataFrame.sort) to see how to sort in reverse\n",
    "- Remember only to get the top 10 rows from the aggregated dataframe and show them"
   ]
  },
  {
   "cell_type": "code",
   "execution_count": 0,
   "metadata": {
    "application/vnd.databricks.v1+cell": {
     "cellMetadata": {
      "byteLimit": 2048000,
      "rowLimit": 10000
     },
     "inputWidgets": {},
     "nuid": "11325864-a26b-4ae5-8142-cd496ef01c5c",
     "showTitle": false,
     "title": ""
    },
    "colab": {},
    "colab_type": "code",
    "id": "eBBayokUXvDM",
    "outputId": "83a26ad7-21c2-4b15-b527-5de9ac5b8c5c"
   },
   "outputs": [
    {
     "output_type": "stream",
     "name": "stdout",
     "output_type": "stream",
     "text": [
      "+--------------------+-----+\n|host                |count|\n+--------------------+-----+\n|piweba3y.prodigy.com|21988|\n|piweba4y.prodigy.com|16437|\n|piweba1y.prodigy.com|12825|\n|edams.ksc.nasa.gov  |11964|\n|163.206.89.4        |9697 |\n|news.ti.com         |8161 |\n|www-d1.proxy.aol.com|8047 |\n|alyssa.prodigy.com  |8037 |\n|                    |7660 |\n|siltb10.orl.mmc.com |7573 |\n+--------------------+-----+\n\n"
     ]
    }
   ],
   "source": [
    "# TODO: Replace <FILL IN> with appropriate code\n",
    "\n",
    "host_sum_df = (logs_df\n",
    "                     .groupBy('host')\n",
    "                     .count()\n",
    "                     .sort('count', ascending=False)\n",
    "                     .limit(10)\n",
    "                     .cache())\n",
    "\n",
    "host_sum_df.show(truncate=False)"
   ]
  },
  {
   "cell_type": "code",
   "execution_count": 0,
   "metadata": {
    "application/vnd.databricks.v1+cell": {
     "cellMetadata": {
      "byteLimit": 2048000,
      "rowLimit": 10000
     },
     "inputWidgets": {},
     "nuid": "dfba80c2-8aa6-4efd-b155-db8e653de687",
     "showTitle": false,
     "title": ""
    },
    "colab": {},
    "colab_type": "code",
    "id": "1dv8Ny3iXvDQ",
    "outputId": "ea532f95-2ff4-4e36-abc5-36297902d8e6"
   },
   "outputs": [
    {
     "output_type": "stream",
     "name": "stdout",
     "output_type": "stream",
     "text": [
      "Out[144]: ''"
     ]
    }
   ],
   "source": [
    "host_sum_pd_df = host_sum_df.toPandas()\n",
    "host_sum_pd_df.iloc[8]['host']"
   ]
  },
  {
   "cell_type": "markdown",
   "metadata": {
    "application/vnd.databricks.v1+cell": {
     "cellMetadata": {
      "byteLimit": 2048000,
      "rowLimit": 10000
     },
     "inputWidgets": {},
     "nuid": "5018cebd-8356-49bc-bbbc-f329a2ed5693",
     "showTitle": false,
     "title": ""
    },
    "colab_type": "text",
    "id": "qJNpJU2VXvDT"
   },
   "source": [
    "Looks like we have some empty strings as one of the top host names! This teaches us a valuable lesson to not just check for nulls but also potentially empty strings when data wrangling."
   ]
  },
  {
   "cell_type": "markdown",
   "metadata": {
    "application/vnd.databricks.v1+cell": {
     "cellMetadata": {
      "byteLimit": 2048000,
      "rowLimit": 10000
     },
     "inputWidgets": {},
     "nuid": "b9ce90b4-e355-4097-8df0-8afd155868ac",
     "showTitle": false,
     "title": ""
    },
    "colab_type": "text",
    "id": "Pq5jiBtIXvDU"
   },
   "source": [
    "## Your Turn: Q7: Display the Top 20 Frequent EndPoints\n",
    "\n",
    "Now, let's visualize the number of hits to endpoints (URIs) in the log. To perform this task, start with our `logs_df` and group by the `endpoint` column, aggregate by count, and sort in descending order like the previous question. Also remember to show only the top 20 most frequently accessed endpoints"
   ]
  },
  {
   "cell_type": "code",
   "execution_count": 0,
   "metadata": {
    "application/vnd.databricks.v1+cell": {
     "cellMetadata": {
      "byteLimit": 2048000,
      "rowLimit": 10000
     },
     "inputWidgets": {},
     "nuid": "a063c340-dc36-4703-992c-fbac8f43809a",
     "showTitle": false,
     "title": ""
    },
    "colab": {},
    "colab_type": "code",
    "id": "oxZRXX-AXvDU",
    "outputId": "bae76bd6-6f67-478c-ea46-928f545cf4bc"
   },
   "outputs": [
    {
     "output_type": "stream",
     "name": "stdout",
     "output_type": "stream",
     "text": [
      "+-----------------------------------------------+------+\n|endpoint                                       |count |\n+-----------------------------------------------+------+\n|/images/NASA-logosmall.gif                     |208714|\n|/images/KSC-logosmall.gif                      |164970|\n|/images/MOSAIC-logosmall.gif                   |127908|\n|/images/USA-logosmall.gif                      |127074|\n|/images/WORLD-logosmall.gif                    |125925|\n|/images/ksclogo-medium.gif                     |121572|\n|/ksc.html                                      |83909 |\n|/images/launch-logo.gif                        |76006 |\n|/history/apollo/images/apollo-logo1.gif        |68896 |\n|/shuttle/countdown/                            |64736 |\n|/                                              |63171 |\n|/images/ksclogosmall.gif                       |61393 |\n|/shuttle/missions/missions.html                |47315 |\n|/images/launchmedium.gif                       |40687 |\n|/htbin/cdt_main.pl                             |39871 |\n|/shuttle/missions/sts-69/mission-sts-69.html   |31574 |\n|/shuttle/countdown/liftoff.html                |29865 |\n|/icons/menu.xbm                                |29190 |\n|/shuttle/missions/sts-69/sts-69-patch-small.gif|29118 |\n|/icons/blank.xbm                               |28852 |\n+-----------------------------------------------+------+\n\n"
     ]
    }
   ],
   "source": [
    "# TODO: Replace <FILL IN> with appropriate code\n",
    "\n",
    "paths_df = (logs_df\n",
    "                     .groupBy('endpoint')\n",
    "                     .count()\n",
    "                     .sort('count', ascending=False)\n",
    "                     .limit(20)\n",
    "                     .cache())\n",
    "paths_df.show(truncate=False)"
   ]
  },
  {
   "cell_type": "code",
   "execution_count": 0,
   "metadata": {
    "application/vnd.databricks.v1+cell": {
     "cellMetadata": {
      "byteLimit": 2048000,
      "rowLimit": 10000
     },
     "inputWidgets": {},
     "nuid": "b387bb14-06f2-4f4d-a2d1-08ba3050ed52",
     "showTitle": false,
     "title": ""
    },
    "colab": {},
    "colab_type": "code",
    "id": "DwfjJG2jXvDX",
    "outputId": "d44c9385-5a6b-4157-83bc-d4d6832cc6a6"
   },
   "outputs": [
    {
     "output_type": "display_data",
     "data": {
      "text/html": [
       "<div>\n",
       "<style scoped>\n",
       "    .dataframe tbody tr th:only-of-type {\n",
       "        vertical-align: middle;\n",
       "    }\n",
       "\n",
       "    .dataframe tbody tr th {\n",
       "        vertical-align: top;\n",
       "    }\n",
       "\n",
       "    .dataframe thead th {\n",
       "        text-align: right;\n",
       "    }\n",
       "</style>\n",
       "<table border=\"1\" class=\"dataframe\">\n",
       "  <thead>\n",
       "    <tr style=\"text-align: right;\">\n",
       "      <th></th>\n",
       "      <th>endpoint</th>\n",
       "      <th>count</th>\n",
       "    </tr>\n",
       "  </thead>\n",
       "  <tbody>\n",
       "    <tr>\n",
       "      <th>0</th>\n",
       "      <td>/images/NASA-logosmall.gif</td>\n",
       "      <td>208714</td>\n",
       "    </tr>\n",
       "    <tr>\n",
       "      <th>1</th>\n",
       "      <td>/images/KSC-logosmall.gif</td>\n",
       "      <td>164970</td>\n",
       "    </tr>\n",
       "    <tr>\n",
       "      <th>2</th>\n",
       "      <td>/images/MOSAIC-logosmall.gif</td>\n",
       "      <td>127908</td>\n",
       "    </tr>\n",
       "    <tr>\n",
       "      <th>3</th>\n",
       "      <td>/images/USA-logosmall.gif</td>\n",
       "      <td>127074</td>\n",
       "    </tr>\n",
       "    <tr>\n",
       "      <th>4</th>\n",
       "      <td>/images/WORLD-logosmall.gif</td>\n",
       "      <td>125925</td>\n",
       "    </tr>\n",
       "    <tr>\n",
       "      <th>5</th>\n",
       "      <td>/images/ksclogo-medium.gif</td>\n",
       "      <td>121572</td>\n",
       "    </tr>\n",
       "    <tr>\n",
       "      <th>6</th>\n",
       "      <td>/ksc.html</td>\n",
       "      <td>83909</td>\n",
       "    </tr>\n",
       "    <tr>\n",
       "      <th>7</th>\n",
       "      <td>/images/launch-logo.gif</td>\n",
       "      <td>76006</td>\n",
       "    </tr>\n",
       "    <tr>\n",
       "      <th>8</th>\n",
       "      <td>/history/apollo/images/apollo-logo1.gif</td>\n",
       "      <td>68896</td>\n",
       "    </tr>\n",
       "    <tr>\n",
       "      <th>9</th>\n",
       "      <td>/shuttle/countdown/</td>\n",
       "      <td>64736</td>\n",
       "    </tr>\n",
       "    <tr>\n",
       "      <th>10</th>\n",
       "      <td>/</td>\n",
       "      <td>63171</td>\n",
       "    </tr>\n",
       "    <tr>\n",
       "      <th>11</th>\n",
       "      <td>/images/ksclogosmall.gif</td>\n",
       "      <td>61393</td>\n",
       "    </tr>\n",
       "    <tr>\n",
       "      <th>12</th>\n",
       "      <td>/shuttle/missions/missions.html</td>\n",
       "      <td>47315</td>\n",
       "    </tr>\n",
       "    <tr>\n",
       "      <th>13</th>\n",
       "      <td>/images/launchmedium.gif</td>\n",
       "      <td>40687</td>\n",
       "    </tr>\n",
       "    <tr>\n",
       "      <th>14</th>\n",
       "      <td>/htbin/cdt_main.pl</td>\n",
       "      <td>39871</td>\n",
       "    </tr>\n",
       "    <tr>\n",
       "      <th>15</th>\n",
       "      <td>/shuttle/missions/sts-69/mission-sts-69.html</td>\n",
       "      <td>31574</td>\n",
       "    </tr>\n",
       "    <tr>\n",
       "      <th>16</th>\n",
       "      <td>/shuttle/countdown/liftoff.html</td>\n",
       "      <td>29865</td>\n",
       "    </tr>\n",
       "    <tr>\n",
       "      <th>17</th>\n",
       "      <td>/icons/menu.xbm</td>\n",
       "      <td>29190</td>\n",
       "    </tr>\n",
       "    <tr>\n",
       "      <th>18</th>\n",
       "      <td>/shuttle/missions/sts-69/sts-69-patch-small.gif</td>\n",
       "      <td>29118</td>\n",
       "    </tr>\n",
       "    <tr>\n",
       "      <th>19</th>\n",
       "      <td>/icons/blank.xbm</td>\n",
       "      <td>28852</td>\n",
       "    </tr>\n",
       "  </tbody>\n",
       "</table>\n",
       "</div>"
      ]
     },
     "metadata": {
      "application/vnd.databricks.v1+output": {
       "addedWidgets": {},
       "arguments": {},
       "data": "<div>\n<style scoped>\n    .dataframe tbody tr th:only-of-type {\n        vertical-align: middle;\n    }\n\n    .dataframe tbody tr th {\n        vertical-align: top;\n    }\n\n    .dataframe thead th {\n        text-align: right;\n    }\n</style>\n<table border=\"1\" class=\"dataframe\">\n  <thead>\n    <tr style=\"text-align: right;\">\n      <th></th>\n      <th>endpoint</th>\n      <th>count</th>\n    </tr>\n  </thead>\n  <tbody>\n    <tr>\n      <th>0</th>\n      <td>/images/NASA-logosmall.gif</td>\n      <td>208714</td>\n    </tr>\n    <tr>\n      <th>1</th>\n      <td>/images/KSC-logosmall.gif</td>\n      <td>164970</td>\n    </tr>\n    <tr>\n      <th>2</th>\n      <td>/images/MOSAIC-logosmall.gif</td>\n      <td>127908</td>\n    </tr>\n    <tr>\n      <th>3</th>\n      <td>/images/USA-logosmall.gif</td>\n      <td>127074</td>\n    </tr>\n    <tr>\n      <th>4</th>\n      <td>/images/WORLD-logosmall.gif</td>\n      <td>125925</td>\n    </tr>\n    <tr>\n      <th>5</th>\n      <td>/images/ksclogo-medium.gif</td>\n      <td>121572</td>\n    </tr>\n    <tr>\n      <th>6</th>\n      <td>/ksc.html</td>\n      <td>83909</td>\n    </tr>\n    <tr>\n      <th>7</th>\n      <td>/images/launch-logo.gif</td>\n      <td>76006</td>\n    </tr>\n    <tr>\n      <th>8</th>\n      <td>/history/apollo/images/apollo-logo1.gif</td>\n      <td>68896</td>\n    </tr>\n    <tr>\n      <th>9</th>\n      <td>/shuttle/countdown/</td>\n      <td>64736</td>\n    </tr>\n    <tr>\n      <th>10</th>\n      <td>/</td>\n      <td>63171</td>\n    </tr>\n    <tr>\n      <th>11</th>\n      <td>/images/ksclogosmall.gif</td>\n      <td>61393</td>\n    </tr>\n    <tr>\n      <th>12</th>\n      <td>/shuttle/missions/missions.html</td>\n      <td>47315</td>\n    </tr>\n    <tr>\n      <th>13</th>\n      <td>/images/launchmedium.gif</td>\n      <td>40687</td>\n    </tr>\n    <tr>\n      <th>14</th>\n      <td>/htbin/cdt_main.pl</td>\n      <td>39871</td>\n    </tr>\n    <tr>\n      <th>15</th>\n      <td>/shuttle/missions/sts-69/mission-sts-69.html</td>\n      <td>31574</td>\n    </tr>\n    <tr>\n      <th>16</th>\n      <td>/shuttle/countdown/liftoff.html</td>\n      <td>29865</td>\n    </tr>\n    <tr>\n      <th>17</th>\n      <td>/icons/menu.xbm</td>\n      <td>29190</td>\n    </tr>\n    <tr>\n      <th>18</th>\n      <td>/shuttle/missions/sts-69/sts-69-patch-small.gif</td>\n      <td>29118</td>\n    </tr>\n    <tr>\n      <th>19</th>\n      <td>/icons/blank.xbm</td>\n      <td>28852</td>\n    </tr>\n  </tbody>\n</table>\n</div>",
       "datasetInfos": [],
       "metadata": {},
       "removedWidgets": [],
       "textData": null,
       "type": "htmlSandbox"
      }
     },
     "output_type": "display_data"
    }
   ],
   "source": [
    "paths_pd_df = paths_df.toPandas()\n",
    "paths_pd_df"
   ]
  },
  {
   "cell_type": "markdown",
   "metadata": {
    "application/vnd.databricks.v1+cell": {
     "cellMetadata": {
      "byteLimit": 2048000,
      "rowLimit": 10000
     },
     "inputWidgets": {},
     "nuid": "22085e69-0db4-4535-a509-8f29a6ed9b6a",
     "showTitle": false,
     "title": ""
    },
    "colab_type": "text",
    "id": "LrK4j5aIXvDb"
   },
   "source": [
    "## Your Turn: Q8: Top Ten Error Endpoints\n",
    "\n",
    "What are the top ten endpoints requested which did not have return code 200 (HTTP Status OK)? \n",
    "\n",
    "Create a sorted list containing the endpoints and the number of times that they were accessed with a non-200 return code and show the top ten.\n",
    "\n",
    "Think about the steps that you need to perform to determine which endpoints did not have a 200 return code (combination of filtering, grouping, sorting and selecting the top ten aggregated records)"
   ]
  },
  {
   "cell_type": "code",
   "execution_count": 0,
   "metadata": {
    "application/vnd.databricks.v1+cell": {
     "cellMetadata": {
      "byteLimit": 2048000,
      "rowLimit": 10000
     },
     "inputWidgets": {},
     "nuid": "460dc950-02a1-40e7-aa5e-a46214e23757",
     "showTitle": false,
     "title": ""
    },
    "colab": {},
    "colab_type": "code",
    "id": "s57_3ODMXvDc",
    "outputId": "d25e0c40-eaff-459a-9fd4-40666e226d28"
   },
   "outputs": [],
   "source": [
    "# TODO: Replace <FILL IN> with appropriate code\n",
    "\n",
    "not200_df = (logs_df.filter(logs_df.status != 200)\n",
    "                     .groupBy('endpoint')\n",
    "                     .count()\n",
    "                     .sort('count', ascending=False)\n",
    "                     .limit(10)\n",
    "                     .cache())\n",
    "\n",
    "error_endpoints_freq_df = (not200_df)"
   ]
  },
  {
   "cell_type": "code",
   "execution_count": 0,
   "metadata": {
    "application/vnd.databricks.v1+cell": {
     "cellMetadata": {
      "byteLimit": 2048000,
      "rowLimit": 10000
     },
     "inputWidgets": {},
     "nuid": "c0589b1a-4b3e-4c29-a300-b6613171f96a",
     "showTitle": false,
     "title": ""
    },
    "colab": {},
    "colab_type": "code",
    "id": "GeAUAEMBXvDh",
    "outputId": "a5bc7840-a464-47ae-f014-9e3108c2b306"
   },
   "outputs": [
    {
     "output_type": "stream",
     "name": "stdout",
     "output_type": "stream",
     "text": [
      "+---------------------------------------+-----+\n|endpoint                               |count|\n+---------------------------------------+-----+\n|/images/NASA-logosmall.gif             |40082|\n|/images/KSC-logosmall.gif              |23763|\n|/images/MOSAIC-logosmall.gif           |15245|\n|/images/USA-logosmall.gif              |15142|\n|/images/WORLD-logosmall.gif            |14773|\n|/images/ksclogo-medium.gif             |13559|\n|/images/launch-logo.gif                |8806 |\n|/history/apollo/images/apollo-logo1.gif|7489 |\n|/                                      |6296 |\n|/images/ksclogosmall.gif               |5669 |\n+---------------------------------------+-----+\n\n"
     ]
    }
   ],
   "source": [
    "error_endpoints_freq_df.show(truncate=False)"
   ]
  },
  {
   "cell_type": "markdown",
   "metadata": {
    "application/vnd.databricks.v1+cell": {
     "cellMetadata": {
      "byteLimit": 2048000,
      "rowLimit": 10000
     },
     "inputWidgets": {},
     "nuid": "9e35aa29-28a0-48a5-acd6-470fc8663c47",
     "showTitle": false,
     "title": ""
    },
    "colab_type": "text",
    "id": "ij1wJnMwXvDm"
   },
   "source": [
    "## Example: Number of Unique Daily Hosts\n",
    "\n",
    "For an advanced example, let's look at a way to determine the number of unique hosts in the entire log on a day-by-day basis. This computation will give us counts of the number of unique daily hosts. \n",
    "\n",
    "We'd like a DataFrame sorted by increasing day of the month which includes the day of the month and the associated number of unique hosts for that day. \n",
    "\n",
    "Think about the steps that you need to perform to count the number of different hosts that make requests *each* day.\n",
    "*Since the log only covers a single month, you can ignore the month.*  You may want to use the [`dayofmonth` function](https://spark.apache.org/docs/latest/api/python/pyspark.sql.html#pyspark.sql.functions.dayofmonth) in the `pyspark.sql.functions` module (which we have already imported as __`F`__.\n",
    "\n",
    "\n",
    "**`host_day_df`**\n",
    "\n",
    "A DataFrame with two columns\n",
    "\n",
    "| column | explanation          |\n",
    "| ------ | -------------------- |\n",
    "| `host` | the host name        |\n",
    "| `day`  | the day of the month |\n",
    "\n",
    "There will be one row in this DataFrame for each row in `logs_df`. Essentially, we are just transforming each row of `logs_df`. For example, for this row in `logs_df`:\n",
    "\n",
    "```\n",
    "unicomp6.unicomp.net - - [01/Aug/1995:00:35:41 -0400] \"GET /shuttle/missions/sts-73/news HTTP/1.0\" 302 -\n",
    "```\n",
    "\n",
    "your `host_day_df` should have:\n",
    "\n",
    "```\n",
    "unicomp6.unicomp.net 1\n",
    "```"
   ]
  },
  {
   "cell_type": "code",
   "execution_count": 0,
   "metadata": {
    "application/vnd.databricks.v1+cell": {
     "cellMetadata": {
      "byteLimit": 2048000,
      "rowLimit": 10000
     },
     "inputWidgets": {},
     "nuid": "ad8f6bec-439b-4d69-a80e-900fdb1e3244",
     "showTitle": false,
     "title": ""
    },
    "colab": {},
    "colab_type": "code",
    "id": "c0i7-gm9XvDm",
    "outputId": "ef93f5a2-e15d-4631-cbb7-e390dd0c28f0"
   },
   "outputs": [
    {
     "output_type": "stream",
     "name": "stdout",
     "output_type": "stream",
     "text": [
      "+-----------------+---+\n|host             |day|\n+-----------------+---+\n|in24.inetnebr.com|1  |\n|uplherc.upl.com  |1  |\n|uplherc.upl.com  |1  |\n|uplherc.upl.com  |1  |\n|uplherc.upl.com  |1  |\n+-----------------+---+\nonly showing top 5 rows\n\n"
     ]
    }
   ],
   "source": [
    "host_day_df = logs_df.select(logs_df.host, \n",
    "                             F.dayofmonth('time').alias('day'))\n",
    "host_day_df.show(5, truncate=False)"
   ]
  },
  {
   "cell_type": "markdown",
   "metadata": {
    "application/vnd.databricks.v1+cell": {
     "cellMetadata": {
      "byteLimit": 2048000,
      "rowLimit": 10000
     },
     "inputWidgets": {},
     "nuid": "c6e28b5d-3283-4e3b-8bb5-c30fa716f1f5",
     "showTitle": false,
     "title": ""
    },
    "colab_type": "text",
    "id": "HRu_5V4bXvDs"
   },
   "source": [
    "**`host_day_distinct_df`**\n",
    "\n",
    "This DataFrame has the same columns as `host_day_distinct_df`, but with duplicate (`day`, `host`) rows removed."
   ]
  },
  {
   "cell_type": "code",
   "execution_count": 0,
   "metadata": {
    "application/vnd.databricks.v1+cell": {
     "cellMetadata": {
      "byteLimit": 2048000,
      "rowLimit": 10000
     },
     "inputWidgets": {},
     "nuid": "7a64eb94-bae6-4a9d-ae0f-56425f3485c6",
     "showTitle": false,
     "title": ""
    },
    "colab": {},
    "colab_type": "code",
    "id": "be9KD86vXvDt",
    "outputId": "013470c7-93ab-4c4a-945a-af4c212c85d7"
   },
   "outputs": [
    {
     "output_type": "stream",
     "name": "stdout",
     "output_type": "stream",
     "text": [
      "+---------------------------+---+\n|host                       |day|\n+---------------------------+---+\n|in24.inetnebr.com          |1  |\n|slppp6.intermind.net       |1  |\n|piweba4y.prodigy.com       |1  |\n|uplherc.upl.com            |1  |\n|ix-esc-ca2-07.ix.netcom.com|1  |\n+---------------------------+---+\nonly showing top 5 rows\n\n"
     ]
    }
   ],
   "source": [
    "host_day_distinct_df = (host_day_df\n",
    "                          .dropDuplicates())\n",
    "host_day_distinct_df.show(5, truncate=False)"
   ]
  },
  {
   "cell_type": "markdown",
   "metadata": {
    "application/vnd.databricks.v1+cell": {
     "cellMetadata": {
      "byteLimit": 2048000,
      "rowLimit": 10000
     },
     "inputWidgets": {},
     "nuid": "b80bc652-fc94-4844-9553-af87ce4d03c8",
     "showTitle": false,
     "title": ""
    },
    "colab_type": "text",
    "id": "OlCEA952XvDv"
   },
   "source": [
    "**`daily_unique_hosts_df`**\n",
    "\n",
    "A DataFrame with two columns:\n",
    "\n",
    "| column  | explanation                                        |\n",
    "| ------- | -------------------------------------------------- |\n",
    "| `day`   | the day of the month                               |\n",
    "| `count` | the number of unique requesting hosts for that day |"
   ]
  },
  {
   "cell_type": "code",
   "execution_count": 0,
   "metadata": {
    "application/vnd.databricks.v1+cell": {
     "cellMetadata": {
      "byteLimit": 2048000,
      "rowLimit": 10000
     },
     "inputWidgets": {},
     "nuid": "22e5f36d-3846-4f45-a781-46339405a2ef",
     "showTitle": false,
     "title": ""
    },
    "colab": {},
    "colab_type": "code",
    "id": "TrVQJOKPXvDv",
    "outputId": "875f282f-13f6-4f9c-b4ee-a8f867f2955f"
   },
   "outputs": [
    {
     "output_type": "display_data",
     "data": {
      "text/html": [
       "<div>\n",
       "<style scoped>\n",
       "    .dataframe tbody tr th:only-of-type {\n",
       "        vertical-align: middle;\n",
       "    }\n",
       "\n",
       "    .dataframe tbody tr th {\n",
       "        vertical-align: top;\n",
       "    }\n",
       "\n",
       "    .dataframe thead th {\n",
       "        text-align: right;\n",
       "    }\n",
       "</style>\n",
       "<table border=\"1\" class=\"dataframe\">\n",
       "  <thead>\n",
       "    <tr style=\"text-align: right;\">\n",
       "      <th></th>\n",
       "      <th>0</th>\n",
       "      <th>1</th>\n",
       "      <th>2</th>\n",
       "      <th>3</th>\n",
       "      <th>4</th>\n",
       "      <th>5</th>\n",
       "      <th>6</th>\n",
       "      <th>7</th>\n",
       "      <th>8</th>\n",
       "      <th>9</th>\n",
       "      <th>...</th>\n",
       "      <th>21</th>\n",
       "      <th>22</th>\n",
       "      <th>23</th>\n",
       "      <th>24</th>\n",
       "      <th>25</th>\n",
       "      <th>26</th>\n",
       "      <th>27</th>\n",
       "      <th>28</th>\n",
       "      <th>29</th>\n",
       "      <th>30</th>\n",
       "    </tr>\n",
       "  </thead>\n",
       "  <tbody>\n",
       "    <tr>\n",
       "      <th>day</th>\n",
       "      <td>1</td>\n",
       "      <td>2</td>\n",
       "      <td>3</td>\n",
       "      <td>4</td>\n",
       "      <td>5</td>\n",
       "      <td>6</td>\n",
       "      <td>7</td>\n",
       "      <td>8</td>\n",
       "      <td>9</td>\n",
       "      <td>10</td>\n",
       "      <td>...</td>\n",
       "      <td>22</td>\n",
       "      <td>23</td>\n",
       "      <td>24</td>\n",
       "      <td>25</td>\n",
       "      <td>26</td>\n",
       "      <td>27</td>\n",
       "      <td>28</td>\n",
       "      <td>29</td>\n",
       "      <td>30</td>\n",
       "      <td>31</td>\n",
       "    </tr>\n",
       "    <tr>\n",
       "      <th>count</th>\n",
       "      <td>7609</td>\n",
       "      <td>4858</td>\n",
       "      <td>10238</td>\n",
       "      <td>9411</td>\n",
       "      <td>9640</td>\n",
       "      <td>10133</td>\n",
       "      <td>10048</td>\n",
       "      <td>7112</td>\n",
       "      <td>6699</td>\n",
       "      <td>8532</td>\n",
       "      <td>...</td>\n",
       "      <td>6828</td>\n",
       "      <td>6797</td>\n",
       "      <td>7946</td>\n",
       "      <td>8333</td>\n",
       "      <td>6741</td>\n",
       "      <td>6846</td>\n",
       "      <td>6090</td>\n",
       "      <td>4825</td>\n",
       "      <td>5265</td>\n",
       "      <td>5913</td>\n",
       "    </tr>\n",
       "  </tbody>\n",
       "</table>\n",
       "<p>2 rows × 31 columns</p>\n",
       "</div>"
      ]
     },
     "metadata": {
      "application/vnd.databricks.v1+output": {
       "addedWidgets": {},
       "arguments": {},
       "data": "<div>\n<style scoped>\n    .dataframe tbody tr th:only-of-type {\n        vertical-align: middle;\n    }\n\n    .dataframe tbody tr th {\n        vertical-align: top;\n    }\n\n    .dataframe thead th {\n        text-align: right;\n    }\n</style>\n<table border=\"1\" class=\"dataframe\">\n  <thead>\n    <tr style=\"text-align: right;\">\n      <th></th>\n      <th>0</th>\n      <th>1</th>\n      <th>2</th>\n      <th>3</th>\n      <th>4</th>\n      <th>5</th>\n      <th>6</th>\n      <th>7</th>\n      <th>8</th>\n      <th>9</th>\n      <th>...</th>\n      <th>21</th>\n      <th>22</th>\n      <th>23</th>\n      <th>24</th>\n      <th>25</th>\n      <th>26</th>\n      <th>27</th>\n      <th>28</th>\n      <th>29</th>\n      <th>30</th>\n    </tr>\n  </thead>\n  <tbody>\n    <tr>\n      <th>day</th>\n      <td>1</td>\n      <td>2</td>\n      <td>3</td>\n      <td>4</td>\n      <td>5</td>\n      <td>6</td>\n      <td>7</td>\n      <td>8</td>\n      <td>9</td>\n      <td>10</td>\n      <td>...</td>\n      <td>22</td>\n      <td>23</td>\n      <td>24</td>\n      <td>25</td>\n      <td>26</td>\n      <td>27</td>\n      <td>28</td>\n      <td>29</td>\n      <td>30</td>\n      <td>31</td>\n    </tr>\n    <tr>\n      <th>count</th>\n      <td>7609</td>\n      <td>4858</td>\n      <td>10238</td>\n      <td>9411</td>\n      <td>9640</td>\n      <td>10133</td>\n      <td>10048</td>\n      <td>7112</td>\n      <td>6699</td>\n      <td>8532</td>\n      <td>...</td>\n      <td>6828</td>\n      <td>6797</td>\n      <td>7946</td>\n      <td>8333</td>\n      <td>6741</td>\n      <td>6846</td>\n      <td>6090</td>\n      <td>4825</td>\n      <td>5265</td>\n      <td>5913</td>\n    </tr>\n  </tbody>\n</table>\n<p>2 rows × 31 columns</p>\n</div>",
       "datasetInfos": [],
       "metadata": {},
       "removedWidgets": [],
       "textData": null,
       "type": "htmlSandbox"
      }
     },
     "output_type": "display_data"
    }
   ],
   "source": [
    "daily_hosts_df = (host_day_distinct_df\n",
    "                     .groupBy('day')\n",
    "                     .count()\n",
    "                     .sort(\"day\"))\n",
    "daily_hosts_df = daily_hosts_df.toPandas()\n",
    "daily_hosts_df.T"
   ]
  },
  {
   "cell_type": "code",
   "execution_count": 0,
   "metadata": {
    "application/vnd.databricks.v1+cell": {
     "cellMetadata": {
      "byteLimit": 2048000,
      "rowLimit": 10000
     },
     "inputWidgets": {},
     "nuid": "f0ad85b9-ac80-408f-9075-e5742cbf301f",
     "showTitle": false,
     "title": ""
    },
    "colab": {},
    "colab_type": "code",
    "id": "PUdqNQHiXvDz"
   },
   "outputs": [
    {
     "output_type": "stream",
     "name": "stdout",
     "output_type": "stream",
     "text": [
      "Out[167]: <AxesSubplot:xlabel='day'>"
     ]
    },
    {
     "output_type": "display_data",
     "data": {
      "image/png": "[encoded data removed]"
     },
     "metadata": {
      "application/vnd.databricks.v1+output": {
       "addedWidgets": {},
       "arguments": {},
       "data": "data:image/png;base64,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\n",
       "datasetInfos": [],
       "metadata": {},
       "removedWidgets": [],
       "type": "image"
      }
     },
     "output_type": "display_data"
    }
   ],
   "source": [
    "daily_hosts_df.plot(x='day', y='count', kind='line')"
   ]
  },
  {
   "cell_type": "markdown",
   "metadata": {
    "application/vnd.databricks.v1+cell": {
     "cellMetadata": {
      "byteLimit": 2048000,
      "rowLimit": 10000
     },
     "inputWidgets": {},
     "nuid": "57926018-a1c0-4fd7-ab6a-a0689c81ed90",
     "showTitle": false,
     "title": ""
    },
    "colab_type": "text",
    "id": "O5M-HoWHXvD1"
   },
   "source": [
    "## Your Turn: Q9: Counting 404 Response Codes\n",
    "\n",
    "Create a DataFrame containing only log records with a 404 status code (Not Found). \n",
    "\n",
    "Make sure you `cache()` the `not_found_df` dataframe as we will use it in the rest of the exercises here.\n",
    "\n",
    "__How many 404 records are in the log?__"
   ]
  },
  {
   "cell_type": "code",
   "execution_count": 0,
   "metadata": {
    "application/vnd.databricks.v1+cell": {
     "cellMetadata": {
      "byteLimit": 2048000,
      "rowLimit": 10000
     },
     "inputWidgets": {},
     "nuid": "90c3dfe2-e9ea-4001-abae-c20b89843038",
     "showTitle": false,
     "title": ""
    },
    "colab": {},
    "colab_type": "code",
    "id": "XovkxrduXvD2",
    "outputId": "662c54ce-9fd3-4d97-dbf5-30a1a77b90f9"
   },
   "outputs": [
    {
     "output_type": "stream",
     "name": "stdout",
     "output_type": "stream",
     "text": [
      "Total 404 responses: 20899\n"
     ]
    }
   ],
   "source": [
    "# TODO: Replace <FILL IN> with appropriate code\n",
    "\n",
    "not_found_df = logs_df.filter(logs_df.status == 404).cache()\n",
    "print(('Total 404 responses: {}').format(not_found_df.count()))"
   ]
  },
  {
   "cell_type": "markdown",
   "metadata": {
    "application/vnd.databricks.v1+cell": {
     "cellMetadata": {
      "byteLimit": 2048000,
      "rowLimit": 10000
     },
     "inputWidgets": {},
     "nuid": "c161616e-0981-45b5-8141-dc153c50dd0c",
     "showTitle": false,
     "title": ""
    },
    "colab_type": "text",
    "id": "wdwYDLCnXvD5"
   },
   "source": [
    "## Your Turn: Q10: Listing the Top Twenty 404 Response Code Endpoints\n",
    "\n",
    "Using the DataFrame containing only log records with a 404 response code that you cached in Q9, print out a list of the top twenty endpoints that generate the most 404 errors.\n",
    "\n",
    "*Remember, top endpoints should be in sorted order*"
   ]
  },
  {
   "cell_type": "code",
   "execution_count": 0,
   "metadata": {
    "application/vnd.databricks.v1+cell": {
     "cellMetadata": {
      "byteLimit": 2048000,
      "rowLimit": 10000
     },
     "inputWidgets": {},
     "nuid": "c6ffb4e0-df2d-4192-b2c0-180157436a13",
     "showTitle": false,
     "title": ""
    },
    "colab": {},
    "colab_type": "code",
    "id": "Gv3egQAEXvD5",
    "outputId": "6725f87c-1cd4-4387-f61f-9c7cd58f1f93"
   },
   "outputs": [
    {
     "output_type": "stream",
     "name": "stdout",
     "output_type": "stream",
     "text": [
      "+-----------------------------------------------------------------+-----+\n|endpoint                                                         |count|\n+-----------------------------------------------------------------+-----+\n|/pub/winvn/readme.txt                                            |2004 |\n|/pub/winvn/release.txt                                           |1732 |\n|/shuttle/missions/STS-69/mission-STS-69.html                     |683  |\n|/shuttle/missions/sts-68/ksc-upclose.gif                         |428  |\n|/history/apollo/a-001/a-001-patch-small.gif                      |384  |\n|/history/apollo/sa-1/sa-1-patch-small.gif                        |383  |\n|/://spacelink.msfc.nasa.gov                                      |381  |\n|/images/crawlerway-logo.gif                                      |374  |\n|/elv/DELTA/uncons.htm                                            |372  |\n|/history/apollo/pad-abort-test-1/pad-abort-test-1-patch-small.gif|359  |\n|/images/nasa-logo.gif                                            |319  |\n|/shuttle/resources/orbiters/atlantis.gif                         |314  |\n|/history/apollo/apollo-13.html                                   |304  |\n|/shuttle/resources/orbiters/discovery.gif                        |263  |\n|/shuttle/missions/sts-71/images/KSC-95EC-0916.txt                |190  |\n|/shuttle/resources/orbiters/challenger.gif                       |170  |\n|/shuttle/missions/technology/sts-newsref/stsref-toc.html         |158  |\n|/history/apollo/images/little-joe.jpg                            |150  |\n|/images/lf-logo.gif                                              |143  |\n|/history/apollo/publications/sp-350/sp-350.txt~                  |140  |\n+-----------------------------------------------------------------+-----+\n\n"
     ]
    }
   ],
   "source": [
    "# TODO: Replace <FILL IN> with appropriate code\n",
    "\n",
    "hosts_404_count_df = (not_found_df\n",
    "                          .groupby('endpoint')\n",
    "                          .count()\n",
    "                          .sort('count', ascending=False)\n",
    "                          .limit(20)\n",
    "                          .cache())\n",
    "\n",
    "hosts_404_count_df.show(truncate=False)"
   ]
  },
  {
   "cell_type": "markdown",
   "metadata": {
    "application/vnd.databricks.v1+cell": {
     "cellMetadata": {
      "byteLimit": 2048000,
      "rowLimit": 10000
     },
     "inputWidgets": {},
     "nuid": "3dc92c55-aeee-4266-8fa1-ef61b4c2cd25",
     "showTitle": false,
     "title": ""
    },
    "colab_type": "text",
    "id": "UpQl8xaPXvD8"
   },
   "source": [
    "## Your Turn: Q11: Visualizing 404 Errors per Day\n",
    "\n",
    "Let's explore the 404 records temporally now. Similar to the example showing the number of unique daily hosts, break down the 404 requests by day and get the daily counts sorted by day in `errors_by_date_sorted_df`.\n",
    "\n",
    "- Display the results as a pandas dataframe \n",
    "- Also visualize the same dataframe then as a line chart"
   ]
  },
  {
   "cell_type": "code",
   "execution_count": 0,
   "metadata": {
    "application/vnd.databricks.v1+cell": {
     "cellMetadata": {
      "byteLimit": 2048000,
      "rowLimit": 10000
     },
     "inputWidgets": {},
     "nuid": "a78e7616-3b5c-4758-bceb-a93a74d8310b",
     "showTitle": false,
     "title": ""
    },
    "colab": {},
    "colab_type": "code",
    "id": "69N8tHpzXvD9",
    "outputId": "1746aabb-b068-43c0-bbe6-580c3fce7639"
   },
   "outputs": [
    {
     "output_type": "display_data",
     "data": {
      "text/html": [
       "<div>\n",
       "<style scoped>\n",
       "    .dataframe tbody tr th:only-of-type {\n",
       "        vertical-align: middle;\n",
       "    }\n",
       "\n",
       "    .dataframe tbody tr th {\n",
       "        vertical-align: top;\n",
       "    }\n",
       "\n",
       "    .dataframe thead th {\n",
       "        text-align: right;\n",
       "    }\n",
       "</style>\n",
       "<table border=\"1\" class=\"dataframe\">\n",
       "  <thead>\n",
       "    <tr style=\"text-align: right;\">\n",
       "      <th></th>\n",
       "      <th>0</th>\n",
       "      <th>1</th>\n",
       "      <th>2</th>\n",
       "      <th>3</th>\n",
       "      <th>4</th>\n",
       "      <th>5</th>\n",
       "      <th>6</th>\n",
       "      <th>7</th>\n",
       "      <th>8</th>\n",
       "      <th>9</th>\n",
       "      <th>...</th>\n",
       "      <th>21</th>\n",
       "      <th>22</th>\n",
       "      <th>23</th>\n",
       "      <th>24</th>\n",
       "      <th>25</th>\n",
       "      <th>26</th>\n",
       "      <th>27</th>\n",
       "      <th>28</th>\n",
       "      <th>29</th>\n",
       "      <th>30</th>\n",
       "    </tr>\n",
       "  </thead>\n",
       "  <tbody>\n",
       "    <tr>\n",
       "      <th>day</th>\n",
       "      <td>31</td>\n",
       "      <td>30</td>\n",
       "      <td>29</td>\n",
       "      <td>28</td>\n",
       "      <td>27</td>\n",
       "      <td>26</td>\n",
       "      <td>25</td>\n",
       "      <td>24</td>\n",
       "      <td>23</td>\n",
       "      <td>22</td>\n",
       "      <td>...</td>\n",
       "      <td>10</td>\n",
       "      <td>9</td>\n",
       "      <td>8</td>\n",
       "      <td>7</td>\n",
       "      <td>6</td>\n",
       "      <td>5</td>\n",
       "      <td>4</td>\n",
       "      <td>3</td>\n",
       "      <td>2</td>\n",
       "      <td>1</td>\n",
       "    </tr>\n",
       "    <tr>\n",
       "      <th>count</th>\n",
       "      <td>526</td>\n",
       "      <td>571</td>\n",
       "      <td>420</td>\n",
       "      <td>504</td>\n",
       "      <td>706</td>\n",
       "      <td>702</td>\n",
       "      <td>876</td>\n",
       "      <td>748</td>\n",
       "      <td>578</td>\n",
       "      <td>480</td>\n",
       "      <td>...</td>\n",
       "      <td>713</td>\n",
       "      <td>627</td>\n",
       "      <td>691</td>\n",
       "      <td>1107</td>\n",
       "      <td>1013</td>\n",
       "      <td>733</td>\n",
       "      <td>705</td>\n",
       "      <td>778</td>\n",
       "      <td>291</td>\n",
       "      <td>559</td>\n",
       "    </tr>\n",
       "  </tbody>\n",
       "</table>\n",
       "<p>2 rows × 31 columns</p>\n",
       "</div>"
      ]
     },
     "metadata": {
      "application/vnd.databricks.v1+output": {
       "addedWidgets": {},
       "arguments": {},
       "data": "<div>\n<style scoped>\n    .dataframe tbody tr th:only-of-type {\n        vertical-align: middle;\n    }\n\n    .dataframe tbody tr th {\n        vertical-align: top;\n    }\n\n    .dataframe thead th {\n        text-align: right;\n    }\n</style>\n<table border=\"1\" class=\"dataframe\">\n  <thead>\n    <tr style=\"text-align: right;\">\n      <th></th>\n      <th>0</th>\n      <th>1</th>\n      <th>2</th>\n      <th>3</th>\n      <th>4</th>\n      <th>5</th>\n      <th>6</th>\n      <th>7</th>\n      <th>8</th>\n      <th>9</th>\n      <th>...</th>\n      <th>21</th>\n      <th>22</th>\n      <th>23</th>\n      <th>24</th>\n      <th>25</th>\n      <th>26</th>\n      <th>27</th>\n      <th>28</th>\n      <th>29</th>\n      <th>30</th>\n    </tr>\n  </thead>\n  <tbody>\n    <tr>\n      <th>day</th>\n      <td>31</td>\n      <td>30</td>\n      <td>29</td>\n      <td>28</td>\n      <td>27</td>\n      <td>26</td>\n      <td>25</td>\n      <td>24</td>\n      <td>23</td>\n      <td>22</td>\n      <td>...</td>\n      <td>10</td>\n      <td>9</td>\n      <td>8</td>\n      <td>7</td>\n      <td>6</td>\n      <td>5</td>\n      <td>4</td>\n      <td>3</td>\n      <td>2</td>\n      <td>1</td>\n    </tr>\n    <tr>\n      <th>count</th>\n      <td>526</td>\n      <td>571</td>\n      <td>420</td>\n      <td>504</td>\n      <td>706</td>\n      <td>702</td>\n      <td>876</td>\n      <td>748</td>\n      <td>578</td>\n      <td>480</td>\n      <td>...</td>\n      <td>713</td>\n      <td>627</td>\n      <td>691</td>\n      <td>1107</td>\n      <td>1013</td>\n      <td>733</td>\n      <td>705</td>\n      <td>778</td>\n      <td>291</td>\n      <td>559</td>\n    </tr>\n  </tbody>\n</table>\n<p>2 rows × 31 columns</p>\n</div>",
       "datasetInfos": [],
       "metadata": {},
       "removedWidgets": [],
       "textData": null,
       "type": "htmlSandbox"
      }
     },
     "output_type": "display_data"
    }
   ],
   "source": [
    "# TODO: Replace <FILL IN> with appropriate code\n",
    "\n",
    "errors_by_date_sorted_df = (not_found_df\n",
    "                              .select(logs_df.host, F.dayofmonth('time').alias('day'))\n",
    "                           ).groupby('day').count().sort('day', ascending=False).cache()\n",
    "\n",
    "errors_by_date_sorted_df = errors_by_date_sorted_df.toPandas()\n",
    "errors_by_date_sorted_df.T"
   ]
  },
  {
   "cell_type": "code",
   "execution_count": 0,
   "metadata": {
    "application/vnd.databricks.v1+cell": {
     "cellMetadata": {
      "byteLimit": 2048000,
      "rowLimit": 10000
     },
     "inputWidgets": {},
     "nuid": "bf5f8954-2bd4-4f14-895b-c2a4156a8bce",
     "showTitle": false,
     "title": ""
    },
    "colab": {},
    "colab_type": "code",
    "id": "y-pFX8dJXvD_"
   },
   "outputs": [
    {
     "output_type": "stream",
     "name": "stdout",
     "output_type": "stream",
     "text": [
      "Out[178]: <AxesSubplot:xlabel='day'>"
     ]
    },
    {
     "output_type": "display_data",
     "data": {
      "image/png": "[encoded data removed]"
     },
     "metadata": {
      "application/vnd.databricks.v1+output": {
       "addedWidgets": {},
       "arguments": {},
       "data": "data:image/png;base64,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\n",
       "datasetInfos": [],
       "metadata": {},
       "removedWidgets": [],
       "type": "image"
      }
     },
     "output_type": "display_data"
    }
   ],
   "source": [
    "errors_by_date_sorted_df.plot(x='day', y='count', kind='line')"
   ]
  },
  {
   "cell_type": "markdown",
   "metadata": {
    "application/vnd.databricks.v1+cell": {
     "cellMetadata": {
      "byteLimit": 2048000,
      "rowLimit": 10000
     },
     "inputWidgets": {},
     "nuid": "1715eca4-d72d-4ee3-aa88-66763784240d",
     "showTitle": false,
     "title": ""
    },
    "colab_type": "text",
    "id": "lRY2RYHeXvED"
   },
   "source": [
    "## Your Turn: Q12: Visualizing Hourly 404 Errors\n",
    "\n",
    "Using the DataFrame `not_found_df` you cached in the Q10, group and sort by hour of the day in increasing order, to create a DataFrame containing the total number of 404 responses for HTTP requests for each hour of the day (midnight starts at 0). \n",
    "\n",
    "- Remember to check out the [__hour__](https://spark.apache.org/docs/latest/api/python/pyspark.sql.html#pyspark.sql.functions.hour) function and use it (we have already imported __`pyspark.sql.functions`__ as __`F`__ earlier\n",
    "- Output should be a bar graph displaying the total number of 404 errors per hour"
   ]
  },
  {
   "cell_type": "code",
   "execution_count": 0,
   "metadata": {
    "application/vnd.databricks.v1+cell": {
     "cellMetadata": {
      "byteLimit": 2048000,
      "rowLimit": 10000
     },
     "inputWidgets": {},
     "nuid": "8f6f4890-1243-4994-a923-1e541b5e05b3",
     "showTitle": false,
     "title": ""
    },
    "colab": {},
    "colab_type": "code",
    "id": "T7Y0Dbz3XvEF",
    "outputId": "873d829e-6b6d-4dc1-b894-0796ef91aec1"
   },
   "outputs": [
    {
     "output_type": "display_data",
     "data": {
      "text/html": [
       "<div>\n",
       "<style scoped>\n",
       "    .dataframe tbody tr th:only-of-type {\n",
       "        vertical-align: middle;\n",
       "    }\n",
       "\n",
       "    .dataframe tbody tr th {\n",
       "        vertical-align: top;\n",
       "    }\n",
       "\n",
       "    .dataframe thead th {\n",
       "        text-align: right;\n",
       "    }\n",
       "</style>\n",
       "<table border=\"1\" class=\"dataframe\">\n",
       "  <thead>\n",
       "    <tr style=\"text-align: right;\">\n",
       "      <th></th>\n",
       "      <th>0</th>\n",
       "      <th>1</th>\n",
       "      <th>2</th>\n",
       "      <th>3</th>\n",
       "      <th>4</th>\n",
       "      <th>5</th>\n",
       "      <th>6</th>\n",
       "      <th>7</th>\n",
       "      <th>8</th>\n",
       "      <th>9</th>\n",
       "      <th>...</th>\n",
       "      <th>14</th>\n",
       "      <th>15</th>\n",
       "      <th>16</th>\n",
       "      <th>17</th>\n",
       "      <th>18</th>\n",
       "      <th>19</th>\n",
       "      <th>20</th>\n",
       "      <th>21</th>\n",
       "      <th>22</th>\n",
       "      <th>23</th>\n",
       "    </tr>\n",
       "  </thead>\n",
       "  <tbody>\n",
       "    <tr>\n",
       "      <th>hour</th>\n",
       "      <td>23</td>\n",
       "      <td>22</td>\n",
       "      <td>21</td>\n",
       "      <td>20</td>\n",
       "      <td>19</td>\n",
       "      <td>18</td>\n",
       "      <td>17</td>\n",
       "      <td>16</td>\n",
       "      <td>15</td>\n",
       "      <td>14</td>\n",
       "      <td>...</td>\n",
       "      <td>9</td>\n",
       "      <td>8</td>\n",
       "      <td>7</td>\n",
       "      <td>6</td>\n",
       "      <td>5</td>\n",
       "      <td>4</td>\n",
       "      <td>3</td>\n",
       "      <td>2</td>\n",
       "      <td>1</td>\n",
       "      <td>0</td>\n",
       "    </tr>\n",
       "    <tr>\n",
       "      <th>count</th>\n",
       "      <td>939</td>\n",
       "      <td>915</td>\n",
       "      <td>879</td>\n",
       "      <td>815</td>\n",
       "      <td>852</td>\n",
       "      <td>930</td>\n",
       "      <td>1203</td>\n",
       "      <td>1181</td>\n",
       "      <td>1382</td>\n",
       "      <td>1274</td>\n",
       "      <td>...</td>\n",
       "      <td>840</td>\n",
       "      <td>705</td>\n",
       "      <td>458</td>\n",
       "      <td>269</td>\n",
       "      <td>307</td>\n",
       "      <td>351</td>\n",
       "      <td>603</td>\n",
       "      <td>868</td>\n",
       "      <td>648</td>\n",
       "      <td>774</td>\n",
       "    </tr>\n",
       "  </tbody>\n",
       "</table>\n",
       "<p>2 rows × 24 columns</p>\n",
       "</div>"
      ]
     },
     "metadata": {
      "application/vnd.databricks.v1+output": {
       "addedWidgets": {},
       "arguments": {},
       "data": "<div>\n<style scoped>\n    .dataframe tbody tr th:only-of-type {\n        vertical-align: middle;\n    }\n\n    .dataframe tbody tr th {\n        vertical-align: top;\n    }\n\n    .dataframe thead th {\n        text-align: right;\n    }\n</style>\n<table border=\"1\" class=\"dataframe\">\n  <thead>\n    <tr style=\"text-align: right;\">\n      <th></th>\n      <th>0</th>\n      <th>1</th>\n      <th>2</th>\n      <th>3</th>\n      <th>4</th>\n      <th>5</th>\n      <th>6</th>\n      <th>7</th>\n      <th>8</th>\n      <th>9</th>\n      <th>...</th>\n      <th>14</th>\n      <th>15</th>\n      <th>16</th>\n      <th>17</th>\n      <th>18</th>\n      <th>19</th>\n      <th>20</th>\n      <th>21</th>\n      <th>22</th>\n      <th>23</th>\n    </tr>\n  </thead>\n  <tbody>\n    <tr>\n      <th>hour</th>\n      <td>23</td>\n      <td>22</td>\n      <td>21</td>\n      <td>20</td>\n      <td>19</td>\n      <td>18</td>\n      <td>17</td>\n      <td>16</td>\n      <td>15</td>\n      <td>14</td>\n      <td>...</td>\n      <td>9</td>\n      <td>8</td>\n      <td>7</td>\n      <td>6</td>\n      <td>5</td>\n      <td>4</td>\n      <td>3</td>\n      <td>2</td>\n      <td>1</td>\n      <td>0</td>\n    </tr>\n    <tr>\n      <th>count</th>\n      <td>939</td>\n      <td>915</td>\n      <td>879</td>\n      <td>815</td>\n      <td>852</td>\n      <td>930</td>\n      <td>1203</td>\n      <td>1181</td>\n      <td>1382</td>\n      <td>1274</td>\n      <td>...</td>\n      <td>840</td>\n      <td>705</td>\n      <td>458</td>\n      <td>269</td>\n      <td>307</td>\n      <td>351</td>\n      <td>603</td>\n      <td>868</td>\n      <td>648</td>\n      <td>774</td>\n    </tr>\n  </tbody>\n</table>\n<p>2 rows × 24 columns</p>\n</div>",
       "datasetInfos": [],
       "metadata": {},
       "removedWidgets": [],
       "textData": null,
       "type": "htmlSandbox"
      }
     },
     "output_type": "display_data"
    }
   ],
   "source": [
    "# TODO: Replace <FILL IN> with appropriate code\n",
    "\n",
    "hourly_avg_errors_sorted_df = (not_found_df\n",
    "                                   .select(logs_df.host, F.hour('time').alias('hour')\n",
    "                              ).groupby('hour').count().sort('hour', ascending=False))\n",
    "                              \n",
    "hourly_avg_errors_sorted_df = hourly_avg_errors_sorted_df.toPandas()\n",
    "hourly_avg_errors_sorted_df.T"
   ]
  },
  {
   "cell_type": "code",
   "execution_count": 0,
   "metadata": {
    "application/vnd.databricks.v1+cell": {
     "cellMetadata": {
      "byteLimit": 2048000,
      "rowLimit": 10000
     },
     "inputWidgets": {},
     "nuid": "d8f8d630-1089-495a-8675-9d1d1fbe690f",
     "showTitle": false,
     "title": ""
    },
    "colab": {},
    "colab_type": "code",
    "id": "R1vsAPs1XvEJ"
   },
   "outputs": [
    {
     "output_type": "stream",
     "name": "stdout",
     "output_type": "stream",
     "text": [
      "Out[185]: <AxesSubplot:xlabel='hour'>"
     ]
    },
    {
     "output_type": "display_data",
     "data": {
      "image/png": "[encoded data removed]"
     },
     "metadata": {
      "application/vnd.databricks.v1+output": {
       "addedWidgets": {},
       "arguments": {},
       "data": "data:image/png;base64,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\n",
       "datasetInfos": [],
       "metadata": {},
       "removedWidgets": [],
       "type": "image"
      }
     },
     "output_type": "display_data"
    }
   ],
   "source": [
    "hourly_avg_errors_sorted_df.plot(x='hour', y='count', kind='bar')"
   ]
  },
  {
   "cell_type": "markdown",
   "metadata": {
    "application/vnd.databricks.v1+cell": {
     "cellMetadata": {
      "byteLimit": 2048000,
      "rowLimit": 10000
     },
     "inputWidgets": {},
     "nuid": "43fdf909-0078-45da-bc45-faa0937cb293",
     "showTitle": false,
     "title": ""
    },
    "colab_type": "text",
    "id": "GYWAsa8mY425"
   },
   "source": [
    "# Load Data"
   ]
  },
  {
   "cell_type": "markdown",
   "metadata": {
    "application/vnd.databricks.v1+cell": {
     "cellMetadata": {
      "byteLimit": 2048000,
      "rowLimit": 10000
     },
     "inputWidgets": {},
     "nuid": "ae597360-e8c6-419c-94ee-404f5a6ffa4c",
     "showTitle": false,
     "title": ""
    },
    "colab_type": "text",
    "id": "woEUWlYCY9h0"
   },
   "source": [
    "Up till now, you have completed data extraction, data transformation, and some exploratory data analysis. In the end of this project, we will complete the last step of ETL process: data loading, so the data after  your processing, wrangling, cleaning, can be used by either yourself or other colleagues later. Since we have gone through a few iteration of data processing and data wrangling, it is a good idea to make sure which one is the current dataframe you want to store and load."
   ]
  },
  {
   "cell_type": "markdown",
   "metadata": {
    "application/vnd.databricks.v1+cell": {
     "cellMetadata": {
      "byteLimit": 2048000,
      "rowLimit": 10000
     },
     "inputWidgets": {},
     "nuid": "6e7a439c-cdb7-4ad9-850b-d5adf0af2b23",
     "showTitle": false,
     "title": ""
    },
    "colab_type": "text",
    "id": "gde50KFwZCyR"
   },
   "source": [
    "## Your Turn: Q13: Check data integrity before loading"
   ]
  },
  {
   "cell_type": "code",
   "execution_count": 0,
   "metadata": {
    "application/vnd.databricks.v1+cell": {
     "cellMetadata": {
      "byteLimit": 2048000,
      "rowLimit": 10000
     },
     "inputWidgets": {},
     "nuid": "3d737b56-cf11-455e-b985-63aed87fcf7c",
     "showTitle": false,
     "title": ""
    },
    "colab": {},
    "colab_type": "code",
    "id": "Jp9HtJDZZDgm",
    "outputId": "d94fda2f-0e91-401a-eb33-dfa58e5b8f0d"
   },
   "outputs": [
    {
     "output_type": "stream",
     "name": "stdout",
     "output_type": "stream",
     "text": [
      "3461612\n['status', 'content_size', 'host', 'method', 'endpoint', 'protocol', 'time']\n"
     ]
    }
   ],
   "source": [
    "# TODO: Review the data frame you will like to store and load. Replace <FILL IN> with appropriate code\n",
    "\n",
    "print(logs_df.count())\n",
    "print(logs_df.columns)"
   ]
  },
  {
   "cell_type": "markdown",
   "metadata": {
    "application/vnd.databricks.v1+cell": {
     "cellMetadata": {
      "byteLimit": 2048000,
      "rowLimit": 10000
     },
     "inputWidgets": {},
     "nuid": "9b53480a-a964-4f14-a3e9-af1467228c29",
     "showTitle": false,
     "title": ""
    },
    "colab_type": "text",
    "id": "6KT_ajIJZFsi"
   },
   "source": [
    "To save your dataframe in CSV file format, you call simply replace the name of the dataframe and assign file name in the following:"
   ]
  },
  {
   "cell_type": "markdown",
   "metadata": {
    "application/vnd.databricks.v1+cell": {
     "cellMetadata": {
      "byteLimit": 2048000,
      "rowLimit": 10000
     },
     "inputWidgets": {},
     "nuid": "d41696f5-823a-4d85-8908-f7a9b3dc1215",
     "showTitle": false,
     "title": ""
    },
    "colab_type": "text",
    "id": "GuiBAZEqZJT1"
   },
   "source": [
    "## Your Turn: Q14: Save your data as a CSV file"
   ]
  },
  {
   "cell_type": "code",
   "execution_count": 0,
   "metadata": {
    "application/vnd.databricks.v1+cell": {
     "cellMetadata": {
      "byteLimit": 2048000,
      "rowLimit": 10000
     },
     "inputWidgets": {},
     "nuid": "e99a6a0b-1d47-4e5b-a3d4-37ebe1925974",
     "showTitle": false,
     "title": ""
    },
    "colab": {},
    "colab_type": "code",
    "id": "DHLpKGA7ZP8P"
   },
   "outputs": [],
   "source": [
    "# TODO: Review the data frame you will like to store and load. Replace <FILL IN> with appropriate code\n",
    "\n",
    "logs_df.write.save('logs_df', format = 'csv')"
   ]
  },
  {
   "cell_type": "code",
   "execution_count": 0,
   "metadata": {
    "application/vnd.databricks.v1+cell": {
     "cellMetadata": {
      "byteLimit": 2048000,
      "rowLimit": 10000
     },
     "inputWidgets": {},
     "nuid": "b4d2c79f-39cf-42e1-8f76-558375d85ac5",
     "showTitle": false,
     "title": ""
    },
    "colab": {},
    "colab_type": "code",
    "id": "EJN6Xy76ZTkW"
   },
   "outputs": [
    {
     "output_type": "stream",
     "name": "stdout",
     "output_type": "stream",
     "text": [
      "Out[191]: ['200,1839,in24.inetnebr.com,GET,/shuttle/missions/sts-68/news/sts-68-mcc-05.txt,HTTP/1.0,1995-08-01T00:00:01.000Z',\n '304,0,uplherc.upl.com,GET,/,HTTP/1.0,1995-08-01T00:00:07.000Z',\n '304,0,uplherc.upl.com,GET,/images/ksclogo-medium.gif,HTTP/1.0,1995-08-01T00:00:08.000Z',\n '304,0,uplherc.upl.com,GET,/images/MOSAIC-logosmall.gif,HTTP/1.0,1995-08-01T00:00:08.000Z',\n '304,0,uplherc.upl.com,GET,/images/USA-logosmall.gif,HTTP/1.0,1995-08-01T00:00:08.000Z']"
     ]
    }
   ],
   "source": [
    "# TODO: Check to see if you have stored and loaded the CSV file successfully by checking the first 5 rows. Replace <FILL IN> with appropriate code\n",
    "spark\\\n",
    "\t.sparkContext\\\n",
    "\t.textFile('logs_df')\\\n",
    "\t.take(5)"
   ]
  },
  {
   "cell_type": "markdown",
   "metadata": {
    "application/vnd.databricks.v1+cell": {
     "cellMetadata": {
      "byteLimit": 2048000,
      "rowLimit": 10000
     },
     "inputWidgets": {},
     "nuid": "7d825fe5-edc7-4cfa-aa05-827c0d5ca38d",
     "showTitle": false,
     "title": ""
    },
    "colab_type": "text",
    "id": "nkz9rKU3ZV7S"
   },
   "source": [
    "Similarly, you can also store and load your dataframe as a JSON file by completing the following:"
   ]
  },
  {
   "cell_type": "markdown",
   "metadata": {
    "application/vnd.databricks.v1+cell": {
     "cellMetadata": {
      "byteLimit": 2048000,
      "rowLimit": 10000
     },
     "inputWidgets": {},
     "nuid": "202dfd9a-7f7b-4478-9b49-6b5f3c1660b6",
     "showTitle": false,
     "title": ""
    },
    "colab_type": "text",
    "id": "l6N5oSjgZaiX"
   },
   "source": [
    "## Your Turn: Q15: Save your data as a JSON file"
   ]
  },
  {
   "cell_type": "code",
   "execution_count": 0,
   "metadata": {
    "application/vnd.databricks.v1+cell": {
     "cellMetadata": {
      "byteLimit": 2048000,
      "rowLimit": 10000
     },
     "inputWidgets": {},
     "nuid": "58fab75e-d8df-41ff-af5f-c626546b7c98",
     "showTitle": false,
     "title": ""
    },
    "colab": {},
    "colab_type": "code",
    "id": "nPp5cHZeZZCQ"
   },
   "outputs": [],
   "source": [
    "# TODO: Review the data frame you will like to store and load. Replace <FILL IN> with appropriate code\n",
    "\n",
    "logs_df.write.save('logs_df_json', format = 'json')"
   ]
  },
  {
   "cell_type": "code",
   "execution_count": 0,
   "metadata": {
    "application/vnd.databricks.v1+cell": {
     "cellMetadata": {
      "byteLimit": 2048000,
      "rowLimit": 10000
     },
     "inputWidgets": {},
     "nuid": "016a0759-e050-4be5-990f-93e1e5d88912",
     "showTitle": false,
     "title": ""
    },
    "colab": {},
    "colab_type": "code",
    "id": "56w3oyaOZgiE"
   },
   "outputs": [
    {
     "output_type": "stream",
     "name": "stdout",
     "output_type": "stream",
     "text": [
      "Out[193]: ['{\"status\":200,\"content_size\":1839,\"host\":\"in24.inetnebr.com\",\"method\":\"GET\",\"endpoint\":\"/shuttle/missions/sts-68/news/sts-68-mcc-05.txt\",\"protocol\":\"HTTP/1.0\",\"time\":\"1995-08-01T00:00:01.000Z\"}',\n '{\"status\":304,\"content_size\":0,\"host\":\"uplherc.upl.com\",\"method\":\"GET\",\"endpoint\":\"/\",\"protocol\":\"HTTP/1.0\",\"time\":\"1995-08-01T00:00:07.000Z\"}',\n '{\"status\":304,\"content_size\":0,\"host\":\"uplherc.upl.com\",\"method\":\"GET\",\"endpoint\":\"/images/ksclogo-medium.gif\",\"protocol\":\"HTTP/1.0\",\"time\":\"1995-08-01T00:00:08.000Z\"}',\n '{\"status\":304,\"content_size\":0,\"host\":\"uplherc.upl.com\",\"method\":\"GET\",\"endpoint\":\"/images/MOSAIC-logosmall.gif\",\"protocol\":\"HTTP/1.0\",\"time\":\"1995-08-01T00:00:08.000Z\"}',\n '{\"status\":304,\"content_size\":0,\"host\":\"uplherc.upl.com\",\"method\":\"GET\",\"endpoint\":\"/images/USA-logosmall.gif\",\"protocol\":\"HTTP/1.0\",\"time\":\"1995-08-01T00:00:08.000Z\"}']"
     ]
    }
   ],
   "source": [
    "# TODO: Similarly, check the first 5 rows in the JSON file. Replace <FILL IN> with appropriate code\n",
    "\n",
    "spark\\\n",
    "\t.sparkContext\\\n",
    "\t.textFile('logs_df_json')\\\n",
    "\t.take(5)"
   ]
  },
  {
   "cell_type": "markdown",
   "metadata": {
    "application/vnd.databricks.v1+cell": {
     "cellMetadata": {
      "byteLimit": 2048000,
      "rowLimit": 10000
     },
     "inputWidgets": {},
     "nuid": "79fc2187-fa4a-4e52-93ab-d3a5fa8c52d2",
     "showTitle": false,
     "title": ""
    },
    "colab_type": "text",
    "id": "P9zYYUIcZjUU"
   },
   "source": [
    "There is a lot more you can do about data storing and loading in terms of data formats and settings. Check out more about these options [__here__](https://spark.apache.org/docs/latest/sql-data-sources-load-save-functions.html)."
   ]
  },
  {
   "cell_type": "markdown",
   "metadata": {
    "application/vnd.databricks.v1+cell": {
     "cellMetadata": {
      "byteLimit": 2048000,
      "rowLimit": 10000
     },
     "inputWidgets": {},
     "nuid": "c5b1676f-2c3b-4f8a-909e-760e1dc0428f",
     "showTitle": false,
     "title": ""
    },
    "colab_type": "text",
    "id": "lLXpioWzZlug"
   },
   "source": [
    "### Congratulations! You have finished the mini-project for this unit!"
   ]
  }
 ],
 "metadata": {
  "application/vnd.databricks.v1+notebook": {
   "dashboards": [],
   "language": "python",
   "notebookMetadata": {
    "pythonIndentUnit": 4
   },
   "notebookName": "Mini_Project_Data_Wrangling_at_Scale_with_Spark",
   "widgets": {}
  },
  "colab": {
   "name": "Mini_Project_Data_Wrangling_at_Scale_with_Spark_checkpoint.ipynb",
   "provenance": []
  },
  "kernelspec": {
   "display_name": "Python 3",
   "language": "python",
   "name": "python3"
  },
  "language_info": {
   "codemirror_mode": {
    "name": "ipython",
    "version": 3
   },
   "file_extension": ".py",
   "mimetype": "text/x-python",
   "name": "python",
   "nbconvert_exporter": "python",
   "pygments_lexer": "ipython3",
   "version": "3.7.6"
  },
  "name": "Mini_Project_Data_Wrangling_at_Scale_with_Spark_Solutions_checkpoint",
  "notebookId": 3935650049725854
 },
 "nbformat": 4,
 "nbformat_minor": 0
}
